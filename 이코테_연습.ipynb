{
 "cells": [
  {
   "cell_type": "markdown",
   "id": "wicked-coupon",
   "metadata": {
    "ExecuteTime": {
     "end_time": "2021-06-08T10:25:50.950923Z",
     "start_time": "2021-06-08T10:25:50.945672Z"
    }
   },
   "source": [
    "# global 키워드"
   ]
  },
  {
   "cell_type": "code",
   "execution_count": 4,
   "id": "vulnerable-chile",
   "metadata": {
    "ExecuteTime": {
     "end_time": "2021-06-08T10:25:56.481178Z",
     "start_time": "2021-06-08T10:25:56.470252Z"
    }
   },
   "outputs": [
    {
     "name": "stdout",
     "output_type": "stream",
     "text": [
      "10\n"
     ]
    }
   ],
   "source": [
    "a = 0\n",
    "\n",
    "def func():\n",
    "\tglobal a # 바깥에 있는 a를 참조해서 쓰겠다\n",
    "\ta += 1\n",
    "\n",
    "for i in range(10):\n",
    "\tfunc()\n",
    "\n",
    "print(a) # 10"
   ]
  },
  {
   "cell_type": "code",
   "execution_count": 5,
   "id": "processed-multiple",
   "metadata": {
    "ExecuteTime": {
     "end_time": "2021-06-08T10:25:56.735825Z",
     "start_time": "2021-06-08T10:25:56.733522Z"
    }
   },
   "outputs": [
    {
     "name": "stdout",
     "output_type": "stream",
     "text": [
      "11\n"
     ]
    }
   ],
   "source": [
    "func()\n",
    "print(a)"
   ]
  },
  {
   "cell_type": "code",
   "execution_count": 8,
   "id": "acquired-alloy",
   "metadata": {
    "ExecuteTime": {
     "end_time": "2021-06-08T11:46:31.118106Z",
     "start_time": "2021-06-08T11:46:31.107724Z"
    }
   },
   "outputs": [
    {
     "name": "stdout",
     "output_type": "stream",
     "text": [
      "[('강민정', 32), ('김인유', 50), ('문성은', 74)]\n",
      "[('강민정', 32), ('김인유', 50), ('문성은', 74)]\n"
     ]
    }
   ],
   "source": [
    "array = [('김인유', 50), ('강민정', 32), ('문성은', 74)]\n",
    "\n",
    "def my_key(x):\n",
    "    return x[1]\n",
    "\n",
    "print(sorted(array, key=my_key))\n",
    "print(sorted(array, key=lambda x: x[1]))"
   ]
  },
  {
   "cell_type": "code",
   "execution_count": 11,
   "id": "scenic-folks",
   "metadata": {
    "ExecuteTime": {
     "end_time": "2021-06-10T02:01:21.535348Z",
     "start_time": "2021-06-10T02:01:21.532380Z"
    }
   },
   "outputs": [
    {
     "name": "stdout",
     "output_type": "stream",
     "text": [
      "[('강민정', 32), ('김인유', 10), ('문성은', 74)]\n"
     ]
    }
   ],
   "source": [
    "array = [('김인유', 10), ('강민정', 32), ('문성은', 74)]\n",
    "\n",
    "print(sorted(array, key=lambda x: x[0]))"
   ]
  },
  {
   "cell_type": "code",
   "execution_count": 2,
   "id": "blond-neighborhood",
   "metadata": {
    "ExecuteTime": {
     "end_time": "2021-06-10T01:53:05.945255Z",
     "start_time": "2021-06-10T01:53:05.942076Z"
    }
   },
   "outputs": [
    {
     "name": "stdout",
     "output_type": "stream",
     "text": [
      "3\n",
      "1\n",
      "{'red': 2, 'blue': 3, 'green': 1}\n"
     ]
    }
   ],
   "source": [
    "# import collections as co\n",
    "from collections import Counter\n",
    "\n",
    "counter= Counter(['red', 'blue', 'red', 'green', 'blue', 'blue'])\n",
    "\n",
    "print(counter['blue'])\n",
    "print(counter['green'])\n",
    "print(dict(counter)) # 사전 자료형으로 변환"
   ]
  },
  {
   "cell_type": "code",
   "execution_count": 3,
   "id": "amended-colony",
   "metadata": {
    "ExecuteTime": {
     "end_time": "2021-06-10T01:53:24.064366Z",
     "start_time": "2021-06-10T01:53:24.042046Z"
    }
   },
   "outputs": [
    {
     "ename": "AttributeError",
     "evalue": "'str' object has no attribute 'values'",
     "output_type": "error",
     "traceback": [
      "\u001b[0;31m---------------------------------------------------------------------------\u001b[0m",
      "\u001b[0;31mAttributeError\u001b[0m                            Traceback (most recent call last)",
      "\u001b[0;32m<ipython-input-3-58237b75a15b>\u001b[0m in \u001b[0;36m<module>\u001b[0;34m\u001b[0m\n\u001b[0;32m----> 1\u001b[0;31m \u001b[0mprint\u001b[0m\u001b[0;34m(\u001b[0m\u001b[0msorted\u001b[0m\u001b[0;34m(\u001b[0m\u001b[0mdict\u001b[0m\u001b[0;34m(\u001b[0m\u001b[0mcounter\u001b[0m\u001b[0;34m)\u001b[0m\u001b[0;34m,\u001b[0m \u001b[0mkey\u001b[0m \u001b[0;34m=\u001b[0m \u001b[0;32mlambda\u001b[0m \u001b[0mx\u001b[0m \u001b[0;34m:\u001b[0m \u001b[0mx\u001b[0m\u001b[0;34m.\u001b[0m\u001b[0mvalues\u001b[0m\u001b[0;34m(\u001b[0m\u001b[0;34m)\u001b[0m\u001b[0;34m)\u001b[0m\u001b[0;34m)\u001b[0m\u001b[0;34m\u001b[0m\u001b[0;34m\u001b[0m\u001b[0m\n\u001b[0m",
      "\u001b[0;32m<ipython-input-3-58237b75a15b>\u001b[0m in \u001b[0;36m<lambda>\u001b[0;34m(x)\u001b[0m\n\u001b[0;32m----> 1\u001b[0;31m \u001b[0mprint\u001b[0m\u001b[0;34m(\u001b[0m\u001b[0msorted\u001b[0m\u001b[0;34m(\u001b[0m\u001b[0mdict\u001b[0m\u001b[0;34m(\u001b[0m\u001b[0mcounter\u001b[0m\u001b[0;34m)\u001b[0m\u001b[0;34m,\u001b[0m \u001b[0mkey\u001b[0m \u001b[0;34m=\u001b[0m \u001b[0;32mlambda\u001b[0m \u001b[0mx\u001b[0m \u001b[0;34m:\u001b[0m \u001b[0mx\u001b[0m\u001b[0;34m.\u001b[0m\u001b[0mvalues\u001b[0m\u001b[0;34m(\u001b[0m\u001b[0;34m)\u001b[0m\u001b[0;34m)\u001b[0m\u001b[0;34m)\u001b[0m\u001b[0;34m\u001b[0m\u001b[0;34m\u001b[0m\u001b[0m\n\u001b[0m",
      "\u001b[0;31mAttributeError\u001b[0m: 'str' object has no attribute 'values'"
     ]
    }
   ],
   "source": [
    "print(sorted(dict(counter), key = lambda x : x.values()))"
   ]
  },
  {
   "cell_type": "code",
   "execution_count": 4,
   "id": "august-columbus",
   "metadata": {
    "ExecuteTime": {
     "end_time": "2021-06-10T01:55:01.585887Z",
     "start_time": "2021-06-10T01:55:01.583591Z"
    }
   },
   "outputs": [
    {
     "name": "stdout",
     "output_type": "stream",
     "text": [
      "['blue', 'green', 'red']\n"
     ]
    }
   ],
   "source": [
    "dic_count = dict(counter)\n",
    "print(sorted(dic_count)) # 알파벳 순서로 나온다."
   ]
  },
  {
   "cell_type": "code",
   "execution_count": 19,
   "id": "moving-sampling",
   "metadata": {
    "ExecuteTime": {
     "end_time": "2021-06-08T12:36:41.409862Z",
     "start_time": "2021-06-08T12:36:41.406944Z"
    }
   },
   "outputs": [
    {
     "name": "stdout",
     "output_type": "stream",
     "text": [
      "[1, 2, 3]\n"
     ]
    }
   ],
   "source": [
    "print(sorted(dict(counter).values())) # g r b"
   ]
  },
  {
   "cell_type": "code",
   "execution_count": 6,
   "id": "increased-mercury",
   "metadata": {
    "ExecuteTime": {
     "end_time": "2021-06-10T01:59:19.055362Z",
     "start_time": "2021-06-10T01:59:19.046888Z"
    }
   },
   "outputs": [
    {
     "name": "stdout",
     "output_type": "stream",
     "text": [
      "[('green', 1), ('red', 2), ('blue', 3)]\n"
     ]
    }
   ],
   "source": [
    "print(sorted(dic_count.items(), key = lambda x:x[1]))"
   ]
  },
  {
   "cell_type": "code",
   "execution_count": 15,
   "id": "structured-mixture",
   "metadata": {
    "ExecuteTime": {
     "end_time": "2021-06-10T02:05:01.235965Z",
     "start_time": "2021-06-10T02:05:01.233515Z"
    }
   },
   "outputs": [
    {
     "name": "stdout",
     "output_type": "stream",
     "text": [
      "[('blue', 3), ('red', 2), ('green', 1)]\n"
     ]
    }
   ],
   "source": [
    "print(sorted(dic_count.items(), key = lambda x:x[1], reverse = True))"
   ]
  },
  {
   "cell_type": "code",
   "execution_count": 9,
   "id": "ecological-consortium",
   "metadata": {
    "ExecuteTime": {
     "end_time": "2021-06-10T02:00:43.424231Z",
     "start_time": "2021-06-10T02:00:43.421403Z"
    }
   },
   "outputs": [
    {
     "name": "stdout",
     "output_type": "stream",
     "text": [
      "[('green', 1), ('red', 2), ('blue', 3)] <function <lambda> at 0x7f8f44dea830>\n"
     ]
    }
   ],
   "source": [
    "sort = sorted(dic_count.items(), key = lambda x:x[1])\n",
    "print(sort, lambda x : x[0])"
   ]
  },
  {
   "cell_type": "markdown",
   "id": "saved-tonight",
   "metadata": {},
   "source": [
    "## 그리디 알고리즘"
   ]
  },
  {
   "cell_type": "code",
   "execution_count": 16,
   "id": "increased-black",
   "metadata": {
    "ExecuteTime": {
     "end_time": "2021-06-10T02:52:20.397035Z",
     "start_time": "2021-06-10T02:52:20.392547Z"
    }
   },
   "outputs": [
    {
     "name": "stdout",
     "output_type": "stream",
     "text": [
      "6\n"
     ]
    }
   ],
   "source": [
    "# 거스름 돈\n",
    "n = 1260\n",
    "count = 0\n",
    "\n",
    "array = [500, 100, 50, 10]\n",
    "\n",
    "for coin in array:\n",
    "    count += n // coin # 몫\n",
    "    n %= coin # 나머지\n",
    "    \n",
    "print(count)"
   ]
  },
  {
   "cell_type": "code",
   "execution_count": null,
   "id": "automated-producer",
   "metadata": {},
   "outputs": [],
   "source": []
  }
 ],
 "metadata": {
  "hide_input": false,
  "kernelspec": {
   "display_name": "aiffel",
   "language": "python",
   "name": "aiffel"
  },
  "language_info": {
   "codemirror_mode": {
    "name": "ipython",
    "version": 3
   },
   "file_extension": ".py",
   "mimetype": "text/x-python",
   "name": "python",
   "nbconvert_exporter": "python",
   "pygments_lexer": "ipython3",
   "version": "3.7.9"
  },
  "toc": {
   "base_numbering": 1,
   "nav_menu": {},
   "number_sections": true,
   "sideBar": true,
   "skip_h1_title": false,
   "title_cell": "Table of Contents",
   "title_sidebar": "Contents",
   "toc_cell": false,
   "toc_position": {},
   "toc_section_display": true,
   "toc_window_display": false
  },
  "varInspector": {
   "cols": {
    "lenName": 16,
    "lenType": 16,
    "lenVar": 40
   },
   "kernels_config": {
    "python": {
     "delete_cmd_postfix": "",
     "delete_cmd_prefix": "del ",
     "library": "var_list.py",
     "varRefreshCmd": "print(var_dic_list())"
    },
    "r": {
     "delete_cmd_postfix": ") ",
     "delete_cmd_prefix": "rm(",
     "library": "var_list.r",
     "varRefreshCmd": "cat(var_dic_list()) "
    }
   },
   "types_to_exclude": [
    "module",
    "function",
    "builtin_function_or_method",
    "instance",
    "_Feature"
   ],
   "window_display": false
  }
 },
 "nbformat": 4,
 "nbformat_minor": 5
}
