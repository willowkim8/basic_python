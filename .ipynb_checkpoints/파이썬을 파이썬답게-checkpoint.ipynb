{
 "cells": [
  {
   "cell_type": "code",
   "execution_count": 1,
   "id": "revised-acrylic",
   "metadata": {
    "ExecuteTime": {
     "end_time": "2021-06-11T05:18:10.618705Z",
     "start_time": "2021-06-11T05:18:10.613687Z"
    }
   },
   "outputs": [
    {
     "name": "stdout",
     "output_type": "stream",
     "text": [
      "time: 228 µs (started: 2021-06-11 14:18:10 +09:00)\n"
     ]
    }
   ],
   "source": [
    "# !pip install ipython-autotime\n",
    "%load_ext autotime"
   ]
  },
  {
   "cell_type": "markdown",
   "id": "norman-reputation",
   "metadata": {},
   "source": [
    "가독성이나, 팀의 코드 스타일에 따라서, a//b, a%b와 같이 쓸 때가 더 좋을 수도 있습니다.\n",
    "또한, divmod는 작은 숫자를 다룰 때는 a//b, a%b 보다 느립니다. 대신, 큰 숫자를 다룰 때는 전자가 후자보다 더 빠르지요."
   ]
  },
  {
   "cell_type": "code",
   "execution_count": 4,
   "id": "fallen-energy",
   "metadata": {
    "ExecuteTime": {
     "end_time": "2021-05-04T07:21:33.888720Z",
     "start_time": "2021-05-04T07:21:33.885210Z"
    }
   },
   "outputs": [
    {
     "name": "stdout",
     "output_type": "stream",
     "text": [
      "1 2\n",
      "time: 741 µs (started: 2021-05-04 16:21:33 +09:00)\n"
     ]
    }
   ],
   "source": [
    "a = 7\n",
    "b = 5\n",
    "print(a//b, a%b)"
   ]
  },
  {
   "cell_type": "code",
   "execution_count": 5,
   "id": "social-software",
   "metadata": {
    "ExecuteTime": {
     "end_time": "2021-05-04T07:21:36.022725Z",
     "start_time": "2021-05-04T07:21:36.020155Z"
    }
   },
   "outputs": [
    {
     "name": "stdout",
     "output_type": "stream",
     "text": [
      "1 2\n",
      "time: 462 µs (started: 2021-05-04 16:21:36 +09:00)\n"
     ]
    }
   ],
   "source": [
    "a = 7\n",
    "b = 5\n",
    "print(*divmod(a, b))"
   ]
  },
  {
   "cell_type": "code",
   "execution_count": 7,
   "id": "quality-peter",
   "metadata": {
    "ExecuteTime": {
     "end_time": "2021-05-04T07:21:47.341701Z",
     "start_time": "2021-05-04T07:21:47.338832Z"
    }
   },
   "outputs": [
    {
     "name": "stdout",
     "output_type": "stream",
     "text": [
      "1400 0\n",
      "time: 419 µs (started: 2021-05-04 16:21:47 +09:00)\n"
     ]
    }
   ],
   "source": [
    "a = 7000000\n",
    "b = 5000\n",
    "print(*divmod(a, b))"
   ]
  },
  {
   "cell_type": "code",
   "execution_count": 8,
   "id": "informed-valve",
   "metadata": {
    "ExecuteTime": {
     "end_time": "2021-05-04T07:22:16.786815Z",
     "start_time": "2021-05-04T07:22:16.784114Z"
    }
   },
   "outputs": [
    {
     "name": "stdout",
     "output_type": "stream",
     "text": [
      "1400 0\n",
      "time: 532 µs (started: 2021-05-04 16:22:16 +09:00)\n"
     ]
    }
   ],
   "source": [
    "a = 7000000\n",
    "b = 5000\n",
    "print(a//b, a%b)"
   ]
  },
  {
   "cell_type": "code",
   "execution_count": 21,
   "id": "descending-israel",
   "metadata": {
    "ExecuteTime": {
     "end_time": "2021-05-04T07:47:43.982965Z",
     "start_time": "2021-05-04T07:47:41.173270Z"
    }
   },
   "outputs": [
    {
     "name": "stdout",
     "output_type": "stream",
     "text": [
      "444 5\n",
      "124\n",
      "time: 2.81 s (started: 2021-05-04 16:47:41 +09:00)\n"
     ]
    }
   ],
   "source": [
    "# n진법으로 표기된 string을 10진법 숫자로 변환하기\n",
    "\n",
    "num, base = map(int, input().strip().split(' '))\n",
    "fourth = num//1000\n",
    "third = num//100 - fourth*10\n",
    "second = num//10 - fourth*100 - third*10\n",
    "first = num%10\n",
    "\n",
    "answer = first + base*second + base*base*third + base*base*base*fourth\n",
    "print(answer)"
   ]
  },
  {
   "cell_type": "markdown",
   "id": "cultural-prototype",
   "metadata": {},
   "source": [
    "파이썬의 int(x, base=10) 함수는 진법 변환을 지원  \n",
    "x는 str이어야 한다."
   ]
  },
  {
   "cell_type": "code",
   "execution_count": 22,
   "id": "manual-chair",
   "metadata": {
    "ExecuteTime": {
     "end_time": "2021-05-04T07:55:17.191839Z",
     "start_time": "2021-05-04T07:55:12.683375Z"
    }
   },
   "outputs": [
    {
     "name": "stdout",
     "output_type": "stream",
     "text": [
      "444 5\n"
     ]
    },
    {
     "data": {
      "text/plain": [
       "124"
      ]
     },
     "execution_count": 22,
     "metadata": {},
     "output_type": "execute_result"
    },
    {
     "name": "stdout",
     "output_type": "stream",
     "text": [
      "time: 4.51 s (started: 2021-05-04 16:55:12 +09:00)\n"
     ]
    }
   ],
   "source": [
    "num, base = map(int, input().strip().split(' '))\n",
    "int(str(num), base)"
   ]
  },
  {
   "cell_type": "code",
   "execution_count": 23,
   "id": "impressed-stephen",
   "metadata": {
    "ExecuteTime": {
     "end_time": "2021-05-04T07:55:52.002414Z",
     "start_time": "2021-05-04T07:55:47.107528Z"
    }
   },
   "outputs": [
    {
     "name": "stdout",
     "output_type": "stream",
     "text": [
      "444444444444444 5\n",
      "55555555555624\n",
      "time: 4.89 s (started: 2021-05-04 16:55:47 +09:00)\n"
     ]
    }
   ],
   "source": [
    "num, base = map(int, input().strip().split(' '))\n",
    "fourth = num//1000\n",
    "third = num//100 - fourth*10\n",
    "second = num//10 - fourth*100 - third*10\n",
    "first = num%10\n",
    "\n",
    "answer = first + base*second + base*base*third + base*base*base*fourth\n",
    "print(answer)"
   ]
  },
  {
   "cell_type": "code",
   "execution_count": 24,
   "id": "improving-pierre",
   "metadata": {
    "ExecuteTime": {
     "end_time": "2021-05-04T07:56:01.250621Z",
     "start_time": "2021-05-04T07:55:56.724364Z"
    }
   },
   "outputs": [
    {
     "name": "stdout",
     "output_type": "stream",
     "text": [
      "444444444444444 5\n"
     ]
    },
    {
     "data": {
      "text/plain": [
       "30517578124"
      ]
     },
     "execution_count": 24,
     "metadata": {},
     "output_type": "execute_result"
    },
    {
     "name": "stdout",
     "output_type": "stream",
     "text": [
      "time: 4.52 s (started: 2021-05-04 16:55:56 +09:00)\n"
     ]
    }
   ],
   "source": [
    "num, base = map(int, input().strip().split(' '))\n",
    "int(str(num), base)"
   ]
  },
  {
   "cell_type": "code",
   "execution_count": 6,
   "id": "sitting-juice",
   "metadata": {
    "ExecuteTime": {
     "end_time": "2021-05-06T07:03:20.304601Z",
     "start_time": "2021-05-06T07:03:18.155925Z"
    },
    "code_folding": []
   },
   "outputs": [
    {
     "name": "stdout",
     "output_type": "stream",
     "text": [
      "abc 7\n",
      "abc \n",
      " abc \n",
      " abc\n"
     ]
    }
   ],
   "source": [
    "# 문자열 정렬하기\n",
    "\n",
    "s, n = input().strip().split(' ')\n",
    "leng = len(s)\n",
    "remain = int(n) - leng\n",
    "# print(type(remain))\n",
    "print(s,''*remain)\n",
    "print(''*int(remain/2), s, ''*int(remain/2))\n",
    "print(''*remain, s)"
   ]
  },
  {
   "cell_type": "code",
   "execution_count": 1,
   "id": "bibliographic-sessions",
   "metadata": {
    "ExecuteTime": {
     "end_time": "2021-05-06T07:00:56.298924Z",
     "start_time": "2021-05-06T07:00:56.280410Z"
    },
    "scrolled": true
   },
   "outputs": [
    {
     "data": {
      "text/plain": [
       "''"
      ]
     },
     "execution_count": 1,
     "metadata": {},
     "output_type": "execute_result"
    }
   ],
   "source": [
    "''*7"
   ]
  },
  {
   "cell_type": "code",
   "execution_count": 7,
   "id": "applied-nickname",
   "metadata": {
    "ExecuteTime": {
     "end_time": "2021-05-06T07:03:32.173144Z",
     "start_time": "2021-05-06T07:03:32.164574Z"
    }
   },
   "outputs": [
    {
     "data": {
      "text/plain": [
       "0"
      ]
     },
     "execution_count": 7,
     "metadata": {},
     "output_type": "execute_result"
    }
   ],
   "source": [
    "len(\"\"*5)"
   ]
  },
  {
   "cell_type": "code",
   "execution_count": 27,
   "id": "deadly-space",
   "metadata": {
    "ExecuteTime": {
     "end_time": "2021-05-06T07:22:56.072549Z",
     "start_time": "2021-05-06T07:22:53.777250Z"
    }
   },
   "outputs": [
    {
     "name": "stdout",
     "output_type": "stream",
     "text": [
      "abc 7\n",
      "abc    \n",
      "  abc  \n",
      "    abc\n"
     ]
    }
   ],
   "source": [
    "# 문자열 정렬하기\n",
    "\n",
    "s, n = input().strip().split(' ')\n",
    "n = int(n)\n",
    "# remain = int(n) - len(s)\n",
    "# remain = int(remain)\n",
    "\n",
    "print(\"{0:<7}\".format(s))\n",
    "print(\"{0:^7}\".format(s))\n",
    "print(\"{0:>7}\".format(s))\n",
    "# print({}s,''*remain)\n",
    "# print(''*int(remain/2), s, ''*int(remain/2))\n",
    "# print(''*remain, s)"
   ]
  },
  {
   "cell_type": "code",
   "execution_count": 36,
   "id": "australian-formation",
   "metadata": {
    "ExecuteTime": {
     "end_time": "2021-05-06T07:29:29.837137Z",
     "start_time": "2021-05-06T07:29:26.460721Z"
    }
   },
   "outputs": [
    {
     "name": "stdout",
     "output_type": "stream",
     "text": [
      "abc 7\n"
     ]
    },
    {
     "ename": "ValueError",
     "evalue": "Unknown format code 'n' for object of type 'str'",
     "output_type": "error",
     "traceback": [
      "\u001b[0;31m---------------------------------------------------------------------------\u001b[0m",
      "\u001b[0;31mValueError\u001b[0m                                Traceback (most recent call last)",
      "\u001b[0;32m<ipython-input-36-a36364b727d4>\u001b[0m in \u001b[0;36m<module>\u001b[0;34m\u001b[0m\n\u001b[1;32m      1\u001b[0m \u001b[0ms\u001b[0m\u001b[0;34m,\u001b[0m \u001b[0mn\u001b[0m \u001b[0;34m=\u001b[0m \u001b[0minput\u001b[0m\u001b[0;34m(\u001b[0m\u001b[0;34m)\u001b[0m\u001b[0;34m.\u001b[0m\u001b[0mstrip\u001b[0m\u001b[0;34m(\u001b[0m\u001b[0;34m)\u001b[0m\u001b[0;34m.\u001b[0m\u001b[0msplit\u001b[0m\u001b[0;34m(\u001b[0m\u001b[0;34m' '\u001b[0m\u001b[0;34m)\u001b[0m\u001b[0;34m\u001b[0m\u001b[0;34m\u001b[0m\u001b[0m\n\u001b[1;32m      2\u001b[0m \u001b[0mn\u001b[0m \u001b[0;34m=\u001b[0m \u001b[0mint\u001b[0m\u001b[0;34m(\u001b[0m\u001b[0mn\u001b[0m\u001b[0;34m)\u001b[0m\u001b[0;34m\u001b[0m\u001b[0;34m\u001b[0m\u001b[0m\n\u001b[0;32m----> 3\u001b[0;31m \u001b[0mprint\u001b[0m\u001b[0;34m(\u001b[0m\u001b[0;34m\"{0:>n}\"\u001b[0m\u001b[0;34m.\u001b[0m\u001b[0mformat\u001b[0m\u001b[0;34m(\u001b[0m\u001b[0ms\u001b[0m\u001b[0;34m)\u001b[0m\u001b[0;34m)\u001b[0m\u001b[0;34m\u001b[0m\u001b[0;34m\u001b[0m\u001b[0m\n\u001b[0m",
      "\u001b[0;31mValueError\u001b[0m: Unknown format code 'n' for object of type 'str'"
     ]
    }
   ],
   "source": [
    "s, n = input().strip().split(' ')\n",
    "n = int(n)\n",
    "print(\"{0:>n}\".format(s))"
   ]
  },
  {
   "cell_type": "code",
   "execution_count": 40,
   "id": "unlikely-updating",
   "metadata": {
    "ExecuteTime": {
     "end_time": "2021-05-06T07:32:45.891050Z",
     "start_time": "2021-05-06T07:32:44.141568Z"
    }
   },
   "outputs": [
    {
     "name": "stdout",
     "output_type": "stream",
     "text": [
      "abc 7\n",
      "abc    \n",
      "  abc  \n",
      "    abc\n"
     ]
    }
   ],
   "source": [
    "s, n = input().strip().split(' ')\n",
    "n = int(n)\n",
    "print(s.ljust(n,' '))\n",
    "print(s.center(n,' '))\n",
    "print(s.rjust(n,' '))"
   ]
  },
  {
   "cell_type": "code",
   "execution_count": 21,
   "id": "unable-block",
   "metadata": {
    "ExecuteTime": {
     "end_time": "2021-05-06T07:18:17.089904Z",
     "start_time": "2021-05-06T07:18:17.087226Z"
    }
   },
   "outputs": [
    {
     "name": "stdout",
     "output_type": "stream",
     "text": [
      "hi        \n",
      "        hi\n"
     ]
    }
   ],
   "source": [
    "# 왼쪽 정렬\n",
    "a = '{0:<10}'.format('hi')\n",
    " \n",
    "print(a)        \n",
    "\n",
    "\n",
    "# 오른쪽 정렬\n",
    "a = '{0:>10}'.format('hi')\n",
    " \n",
    "print(a)"
   ]
  },
  {
   "cell_type": "code",
   "execution_count": 44,
   "id": "interstate-trailer",
   "metadata": {
    "ExecuteTime": {
     "end_time": "2021-05-06T07:38:12.469679Z",
     "start_time": "2021-05-06T07:38:08.431027Z"
    }
   },
   "outputs": [
    {
     "name": "stdout",
     "output_type": "stream",
     "text": [
      "1\n",
      "ABCDEFGHIJKLMNOPQRSTUVWXYZ\n"
     ]
    }
   ],
   "source": [
    "# 알파벳 출력하기\n",
    "\n",
    "num = int(input().strip())\n",
    "ans = 'abcdefghijklmnopqrstuvwxyz'\n",
    "if num == 0:\n",
    "    print(ans)\n",
    "    \n",
    "else :\n",
    "    print(ans.upper())"
   ]
  },
  {
   "cell_type": "code",
   "execution_count": 45,
   "id": "frozen-concern",
   "metadata": {
    "ExecuteTime": {
     "end_time": "2021-05-06T07:39:40.383313Z",
     "start_time": "2021-05-06T07:39:38.322085Z"
    }
   },
   "outputs": [
    {
     "name": "stdout",
     "output_type": "stream",
     "text": [
      "0\n",
      "abcdefghijklmnopqrstuvwxyz\n"
     ]
    }
   ],
   "source": [
    "import string \n",
    "num = int(input().strip())\n",
    "\n",
    "if num == 0:\n",
    "    print(string.ascii_lowercase)\n",
    "else :\n",
    "    print(string.ascii_uppercase)"
   ]
  },
  {
   "cell_type": "code",
   "execution_count": 46,
   "id": "cross-masters",
   "metadata": {
    "ExecuteTime": {
     "end_time": "2021-05-06T07:40:29.814884Z",
     "start_time": "2021-05-06T07:40:29.811382Z"
    }
   },
   "outputs": [
    {
     "data": {
      "text/plain": [
       "'0123456789'"
      ]
     },
     "execution_count": 46,
     "metadata": {},
     "output_type": "execute_result"
    }
   ],
   "source": [
    "string.ascii_letters # 대소문자 모두 abcdefghijklmnopqrstuvwxyzABCDEFGHIJKLMNOPQRSTUVWXYZ\n",
    "string.digits # 숫자 0123456789"
   ]
  },
  {
   "cell_type": "code",
   "execution_count": 48,
   "id": "associate-beads",
   "metadata": {
    "ExecuteTime": {
     "end_time": "2021-05-06T07:43:36.927630Z",
     "start_time": "2021-05-06T07:43:36.923652Z"
    }
   },
   "outputs": [
    {
     "data": {
      "text/plain": [
       "[1, 2, 3, 10]"
      ]
     },
     "execution_count": 48,
     "metadata": {},
     "output_type": "execute_result"
    }
   ],
   "source": [
    "# 원본을 유지한채, 정렬된 리스트 구하기\n",
    "list1 = [3, 2, 1, 10]\n",
    "list2 = sorted(list1)\n",
    "list2"
   ]
  },
  {
   "cell_type": "code",
   "execution_count": 2,
   "id": "banner-smile",
   "metadata": {
    "ExecuteTime": {
     "end_time": "2021-05-07T07:13:09.293871Z",
     "start_time": "2021-05-07T07:13:09.289741Z"
    }
   },
   "outputs": [
    {
     "name": "stdout",
     "output_type": "stream",
     "text": [
      "[1, 2, 3] [4, 5, 6] [7, 8, 9]\n",
      "7 8 9\n",
      "[[1, 4, 7], [2, 5, 8], [3, 6, 9]]\n"
     ]
    }
   ],
   "source": [
    "# 2차원 리스트 뒤집기\n",
    "mylist = [[1, 2, 3], [4, 5, 6], [7, 8, 9]]\n",
    "print(*mylist)\n",
    "print(*mylist[-1])\n",
    "\n",
    "def solution(mylist):\n",
    "    new = list(map(list,zip(*mylist)))\n",
    "    print(new)\n",
    "\n",
    "solution(mylist)"
   ]
  },
  {
   "cell_type": "code",
   "execution_count": 3,
   "id": "alone-semester",
   "metadata": {
    "ExecuteTime": {
     "end_time": "2021-05-07T07:13:09.476589Z",
     "start_time": "2021-05-07T07:13:09.474494Z"
    }
   },
   "outputs": [],
   "source": [
    "a,b,c = zip(*mylist)"
   ]
  },
  {
   "cell_type": "code",
   "execution_count": 7,
   "id": "universal-marina",
   "metadata": {
    "ExecuteTime": {
     "end_time": "2021-05-07T07:13:38.199459Z",
     "start_time": "2021-05-07T07:13:38.196298Z"
    }
   },
   "outputs": [
    {
     "data": {
      "text/plain": [
       "((2, 5, 8), tuple)"
      ]
     },
     "execution_count": 7,
     "metadata": {},
     "output_type": "execute_result"
    }
   ],
   "source": [
    "b, type(b)"
   ]
  },
  {
   "cell_type": "code",
   "execution_count": 9,
   "id": "theoretical-accounting",
   "metadata": {
    "ExecuteTime": {
     "end_time": "2021-05-07T07:13:51.237578Z",
     "start_time": "2021-05-07T07:13:51.235042Z"
    },
    "scrolled": true
   },
   "outputs": [
    {
     "data": {
      "text/plain": [
       "(list, <zip at 0x7f2f4036ebe0>)"
      ]
     },
     "execution_count": 9,
     "metadata": {},
     "output_type": "execute_result"
    }
   ],
   "source": [
    "list,zip(*mylist)"
   ]
  },
  {
   "cell_type": "code",
   "execution_count": 12,
   "id": "comfortable-combining",
   "metadata": {
    "ExecuteTime": {
     "end_time": "2021-05-07T07:14:07.235307Z",
     "start_time": "2021-05-07T07:14:07.233323Z"
    }
   },
   "outputs": [],
   "source": [
    "a,b,c = map(list,zip(*mylist))"
   ]
  },
  {
   "cell_type": "code",
   "execution_count": 14,
   "id": "sudden-therapist",
   "metadata": {
    "ExecuteTime": {
     "end_time": "2021-05-07T07:14:14.254695Z",
     "start_time": "2021-05-07T07:14:14.252097Z"
    }
   },
   "outputs": [
    {
     "data": {
      "text/plain": [
       "([1, 4, 7], list)"
      ]
     },
     "execution_count": 14,
     "metadata": {},
     "output_type": "execute_result"
    }
   ],
   "source": [
    "a, type(a)"
   ]
  },
  {
   "cell_type": "code",
   "execution_count": 16,
   "id": "innovative-turner",
   "metadata": {
    "ExecuteTime": {
     "end_time": "2021-05-07T07:21:16.818636Z",
     "start_time": "2021-05-07T07:21:16.814004Z"
    }
   },
   "outputs": [
    {
     "data": {
      "text/plain": [
       "[35, 35, 9, 67, 60]"
      ]
     },
     "execution_count": 16,
     "metadata": {},
     "output_type": "execute_result"
    }
   ],
   "source": [
    "# i번째 원소와 i+1번째 원소\n",
    "answer = []\n",
    "def solution(mylist):\n",
    "    n = len(mylist)\n",
    "    for i in range(n-1):\n",
    "        a = abs(int(mylist[i])-int(mylist[i+1]))\n",
    "        answer.append(a)\n",
    "    \n",
    "    return answer\n",
    "\n",
    "solution([83, 48, 13, 4, 71, 11])"
   ]
  },
  {
   "cell_type": "code",
   "execution_count": 18,
   "id": "federal-advantage",
   "metadata": {
    "ExecuteTime": {
     "end_time": "2021-05-07T07:25:24.927685Z",
     "start_time": "2021-05-07T07:25:24.925239Z"
    }
   },
   "outputs": [
    {
     "name": "stdout",
     "output_type": "stream",
     "text": [
      "[35, 35, 9, 67, 60, 35, 35, 9, 67, 60, 35, 35, 9, 67, 60]\n"
     ]
    }
   ],
   "source": [
    "# 반복할 수록 답이 능어남 뭐지ㅣㅣㅣ \n",
    "if __name__ == '__main__':\n",
    "    mylist = [83, 48, 13, 4, 71, 11]    \n",
    "    print(solution(mylist))"
   ]
  },
  {
   "cell_type": "code",
   "execution_count": 19,
   "id": "unexpected-backing",
   "metadata": {
    "ExecuteTime": {
     "end_time": "2021-05-07T07:25:48.233131Z",
     "start_time": "2021-05-07T07:25:48.230013Z"
    }
   },
   "outputs": [
    {
     "name": "stdout",
     "output_type": "stream",
     "text": [
      "[35, 35, 9, 67, 60]\n"
     ]
    }
   ],
   "source": [
    "def solution(mylist):\n",
    "    answer = []\n",
    "    for i in range(len(mylist)-1):\n",
    "        answer.append(abs(mylist[i] - mylist[i+1]))\n",
    "    return answer\n",
    "\n",
    "if __name__ == '__main__':\n",
    "    mylist = [83, 48, 13, 4, 71, 11]    \n",
    "    print(solution(mylist))"
   ]
  },
  {
   "cell_type": "code",
   "execution_count": 20,
   "id": "dedicated-auckland",
   "metadata": {
    "ExecuteTime": {
     "end_time": "2021-05-07T07:26:39.651052Z",
     "start_time": "2021-05-07T07:26:39.647685Z"
    }
   },
   "outputs": [
    {
     "name": "stdout",
     "output_type": "stream",
     "text": [
      "[35, 35, 9, 67, 60]\n"
     ]
    }
   ],
   "source": [
    "# zip 함수에 서로 길이가 다른 리스트가 인자로 들어오는 경우에는 길이가 짧은 쪽 까지만 이터레이션이 이루어집니다.\n",
    "def solution(mylist):\n",
    "    answer = []\n",
    "    for number1, number2 in zip(mylist, mylist[1:]):\n",
    "        answer.append(abs(number1 - number2))\n",
    "    return answer\n",
    "\n",
    "if __name__ == '__main__':\n",
    "    mylist = [83, 48, 13, 4, 71, 11]    \n",
    "    print(solution(mylist))"
   ]
  },
  {
   "cell_type": "code",
   "execution_count": 21,
   "id": "alert-financing",
   "metadata": {
    "ExecuteTime": {
     "end_time": "2021-05-07T07:32:24.305381Z",
     "start_time": "2021-05-07T07:32:24.301691Z"
    }
   },
   "outputs": [
    {
     "data": {
      "text/plain": [
       "[1, 100, 33]"
      ]
     },
     "execution_count": 21,
     "metadata": {},
     "output_type": "execute_result"
    }
   ],
   "source": [
    "# 모든 멤버의 type 변환하기\n",
    "def solution(mylist):\n",
    "    answer = []\n",
    "    for i in range(len(mylist)):\n",
    "        answer.append(int(mylist[i]))\n",
    "    return answer\n",
    "\n",
    "solution(['1', '100', '33'])"
   ]
  },
  {
   "cell_type": "code",
   "execution_count": 22,
   "id": "starting-swing",
   "metadata": {
    "ExecuteTime": {
     "end_time": "2021-05-07T07:34:04.616583Z",
     "start_time": "2021-05-07T07:34:04.613213Z"
    }
   },
   "outputs": [
    {
     "data": {
      "text/plain": [
       "[1, 100, 33]"
      ]
     },
     "execution_count": 22,
     "metadata": {},
     "output_type": "execute_result"
    }
   ],
   "source": [
    "# 다른 언어에서 \n",
    "list1 = ['1', '100', '33']\n",
    "list2 = []\n",
    "\n",
    "for value in list1:\n",
    "    list2.append(int(value))\n",
    "    \n",
    "list2"
   ]
  },
  {
   "cell_type": "code",
   "execution_count": 23,
   "id": "radio-winning",
   "metadata": {
    "ExecuteTime": {
     "end_time": "2021-05-07T07:34:28.963157Z",
     "start_time": "2021-05-07T07:34:28.958888Z"
    }
   },
   "outputs": [
    {
     "data": {
      "text/plain": [
       "[3, 3, 22]"
      ]
     },
     "execution_count": 23,
     "metadata": {},
     "output_type": "execute_result"
    }
   ],
   "source": [
    "list1 = [3.14, 3.5, 22.6]\n",
    "list2 = []\n",
    "\n",
    "for value in list1:\n",
    "    list2.append(int(value))\n",
    "    \n",
    "list2"
   ]
  },
  {
   "cell_type": "code",
   "execution_count": 26,
   "id": "alone-pharmacology",
   "metadata": {
    "ExecuteTime": {
     "end_time": "2021-05-07T07:35:43.880790Z",
     "start_time": "2021-05-07T07:35:43.875531Z"
    }
   },
   "outputs": [
    {
     "ename": "AttributeError",
     "evalue": "'tuple' object has no attribute 'append'",
     "output_type": "error",
     "traceback": [
      "\u001b[0;31m---------------------------------------------------------------------------\u001b[0m",
      "\u001b[0;31mAttributeError\u001b[0m                            Traceback (most recent call last)",
      "\u001b[0;32m<ipython-input-26-330eab63354d>\u001b[0m in \u001b[0;36m<module>\u001b[0;34m\u001b[0m\n\u001b[1;32m      3\u001b[0m \u001b[0;34m\u001b[0m\u001b[0m\n\u001b[1;32m      4\u001b[0m \u001b[0;32mfor\u001b[0m \u001b[0mvalue\u001b[0m \u001b[0;32min\u001b[0m \u001b[0mtuple1\u001b[0m\u001b[0;34m:\u001b[0m\u001b[0;34m\u001b[0m\u001b[0;34m\u001b[0m\u001b[0m\n\u001b[0;32m----> 5\u001b[0;31m     \u001b[0mtuple2\u001b[0m\u001b[0;34m.\u001b[0m\u001b[0mappend\u001b[0m\u001b[0;34m(\u001b[0m\u001b[0mint\u001b[0m\u001b[0;34m(\u001b[0m\u001b[0mvalue\u001b[0m\u001b[0;34m)\u001b[0m\u001b[0;34m)\u001b[0m\u001b[0;34m\u001b[0m\u001b[0;34m\u001b[0m\u001b[0m\n\u001b[0m\u001b[1;32m      6\u001b[0m \u001b[0;34m\u001b[0m\u001b[0m\n\u001b[1;32m      7\u001b[0m \u001b[0mtuple2\u001b[0m\u001b[0;34m\u001b[0m\u001b[0;34m\u001b[0m\u001b[0m\n",
      "\u001b[0;31mAttributeError\u001b[0m: 'tuple' object has no attribute 'append'"
     ]
    }
   ],
   "source": [
    "tuple1 = (3.14, 3.5, 22.6)\n",
    "tuple2 = ()\n",
    "\n",
    "for value in tuple1:\n",
    "    tuple2.append(int(value))\n",
    "    \n",
    "tuple2 "
   ]
  },
  {
   "cell_type": "code",
   "execution_count": 30,
   "id": "prime-launch",
   "metadata": {
    "ExecuteTime": {
     "end_time": "2021-05-07T07:43:16.941423Z",
     "start_time": "2021-05-07T07:43:16.937712Z"
    }
   },
   "outputs": [
    {
     "data": {
      "text/plain": [
       "(3, 3, 22)"
      ]
     },
     "execution_count": 30,
     "metadata": {},
     "output_type": "execute_result"
    }
   ],
   "source": [
    "tuple1 = (3.14, 3.5, 22.6)\n",
    "list2 = []\n",
    "\n",
    "for value in tuple1:\n",
    "    list2.append(int(value))\n",
    "    \n",
    "tuple(list2)"
   ]
  },
  {
   "cell_type": "markdown",
   "id": "gentle-turner",
   "metadata": {},
   "source": [
    "**파이썬에서는 for문 없이 사용 가능하다**"
   ]
  },
  {
   "cell_type": "code",
   "execution_count": 31,
   "id": "advanced-theory",
   "metadata": {
    "ExecuteTime": {
     "end_time": "2021-05-07T07:47:44.149065Z",
     "start_time": "2021-05-07T07:47:44.145225Z"
    }
   },
   "outputs": [
    {
     "data": {
      "text/plain": [
       "(3, 3, 22)"
      ]
     },
     "execution_count": 31,
     "metadata": {},
     "output_type": "execute_result"
    }
   ],
   "source": [
    "# 튜플에 있는 부동소숫점을 정수 배열로 변경 가능하다.\n",
    "tuple1 = (3.14, 3.5, 22.6)\n",
    "tuple2 = tuple(map(int, tuple1))\n",
    "tuple2"
   ]
  },
  {
   "cell_type": "code",
   "execution_count": 29,
   "id": "facial-drove",
   "metadata": {
    "ExecuteTime": {
     "end_time": "2021-05-07T07:38:10.628598Z",
     "start_time": "2021-05-07T07:38:10.625465Z"
    }
   },
   "outputs": [
    {
     "data": {
      "text/plain": [
       "[1, 100, 33]"
      ]
     },
     "execution_count": 29,
     "metadata": {},
     "output_type": "execute_result"
    }
   ],
   "source": [
    "# 파이썬에서는 for문 없이 사용 가능하다\n",
    "list1 = ['1', '100', '33']\n",
    "list2 = list(map(int, list1))\n",
    "list2"
   ]
  },
  {
   "cell_type": "code",
   "execution_count": 32,
   "id": "unauthorized-contract",
   "metadata": {
    "ExecuteTime": {
     "end_time": "2021-05-07T07:48:57.064825Z",
     "start_time": "2021-05-07T07:48:57.061611Z"
    }
   },
   "outputs": [
    {
     "data": {
      "text/plain": [
       "[2, 2, 1]"
      ]
     },
     "execution_count": 32,
     "metadata": {},
     "output_type": "execute_result"
    }
   ],
   "source": [
    "# map 함수 응용하기 길이를 List로 변환하기\n",
    "def solution(mylist):\n",
    "    answer = list(map(len, mylist))\n",
    "    return answer\n",
    "\n",
    "solution([[1, 2], [3, 4], [5]])"
   ]
  },
  {
   "cell_type": "code",
   "execution_count": 38,
   "id": "cutting-fence",
   "metadata": {
    "ExecuteTime": {
     "end_time": "2021-05-07T07:56:31.092145Z",
     "start_time": "2021-05-07T07:56:31.088479Z"
    }
   },
   "outputs": [
    {
     "data": {
      "text/plain": [
       "'10033'"
      ]
     },
     "execution_count": 38,
     "metadata": {},
     "output_type": "execute_result"
    }
   ],
   "source": [
    "# sequence 멤버를 하나로 이어붙이기\n",
    "def solution(mylist):\n",
    "    for i in range(len(mylist)-1):\n",
    "        answer = str(mylist[i]) + str(mylist[i+1])\n",
    "    return answer\n",
    "\n",
    "solution(['1', '100', '33'])"
   ]
  },
  {
   "cell_type": "markdown",
   "id": "dense-logan",
   "metadata": {},
   "source": [
    "append할 때 속도 개선 방법  \n",
    "https://atelier-house.tistory.com/3\n"
   ]
  },
  {
   "cell_type": "markdown",
   "id": "logical-highlight",
   "metadata": {},
   "source": [
    "***\n",
    "**이터레이터 만들기**  \n",
    "https://dojang.io/mod/page/view.php?id=2406"
   ]
  },
  {
   "cell_type": "code",
   "execution_count": 40,
   "id": "rolled-distribution",
   "metadata": {
    "ExecuteTime": {
     "end_time": "2021-05-07T10:42:36.863258Z",
     "start_time": "2021-05-07T10:42:36.859472Z"
    }
   },
   "outputs": [
    {
     "name": "stdout",
     "output_type": "stream",
     "text": [
      "0 2 "
     ]
    }
   ],
   "source": [
    "class Counter:\n",
    "    def __init__(self, stop):\n",
    "        self.current = 0    # 현재 숫자 유지, 0부터 지정된 숫자 직전까지 반복\n",
    "        self.stop = stop    # 반복을 끝낼 숫자\n",
    " \n",
    "    def __iter__(self):\n",
    "        return self         # 현재 인스턴스를 반환\n",
    " \n",
    "    def __next__(self):\n",
    "        if self.current < self.stop:    # 현재 숫자가 반복을 끝낼 숫자보다 작을 때\n",
    "            r = self.current            # 반환할 숫자를 변수에 저장\n",
    "            self.current += 2           # 현재 숫자를 1 증가시킴\n",
    "            return r                    # 숫자를 반환\n",
    "        else:                           # 현재 숫자가 반복을 끝낼 숫자보다 크거나 같을 때\n",
    "            raise StopIteration         # 예외 발생\n",
    " \n",
    "for i in Counter(3):\n",
    "    print(i, end=' ')"
   ]
  },
  {
   "cell_type": "code",
   "execution_count": 4,
   "id": "immune-system",
   "metadata": {
    "ExecuteTime": {
     "end_time": "2021-05-24T07:40:37.228202Z",
     "start_time": "2021-05-24T07:40:37.225501Z"
    }
   },
   "outputs": [
    {
     "data": {
      "text/plain": [
       "'apple, pear, grape, pineapple, orange'"
      ]
     },
     "execution_count": 4,
     "metadata": {},
     "output_type": "execute_result"
    }
   ],
   "source": [
    "mylist = ['apple', 'pear', 'grape', 'pineapple', 'orange']\n",
    "', '.join(mylist)"
   ]
  },
  {
   "cell_type": "code",
   "execution_count": 1,
   "id": "boolean-disorder",
   "metadata": {
    "ExecuteTime": {
     "end_time": "2021-05-24T07:38:59.292319Z",
     "start_time": "2021-05-24T07:38:58.090835Z"
    }
   },
   "outputs": [
    {
     "name": "stdout",
     "output_type": "stream",
     "text": [
      "5\n",
      "*\n",
      "**\n",
      "***\n",
      "****\n",
      "*****\n"
     ]
    }
   ],
   "source": [
    "n = int(input().strip())\n",
    "for i in range(n):\n",
    "    print('*'*(i+1))"
   ]
  },
  {
   "cell_type": "code",
   "execution_count": 2,
   "id": "palestinian-excuse",
   "metadata": {
    "ExecuteTime": {
     "end_time": "2021-05-24T07:39:16.437430Z",
     "start_time": "2021-05-24T07:39:15.498094Z"
    }
   },
   "outputs": [
    {
     "name": "stdout",
     "output_type": "stream",
     "text": [
      "5\n",
      "*\n",
      "**\n",
      "***\n",
      "****\n",
      "*****\n"
     ]
    }
   ],
   "source": [
    "n = int(input())\n",
    "for i in range(n):\n",
    "    print('*'*(i+1))"
   ]
  },
  {
   "cell_type": "markdown",
   "id": "informed-bikini",
   "metadata": {},
   "source": [
    "strip() 설명 : https://dojang.io/mod/page/view.php?id=1334"
   ]
  },
  {
   "cell_type": "code",
   "execution_count": 5,
   "id": "fluid-plasma",
   "metadata": {
    "ExecuteTime": {
     "end_time": "2021-05-24T07:43:05.865453Z",
     "start_time": "2021-05-24T07:43:05.862914Z"
    }
   },
   "outputs": [
    {
     "name": "stdout",
     "output_type": "stream",
     "text": [
      "[('A', 'x', '1'), ('A', 'x', '2'), ('A', 'x', '3'), ('A', 'x', '4'), ('A', 'y', '1'), ('A', 'y', '2'), ('A', 'y', '3'), ('A', 'y', '4'), ('B', 'x', '1'), ('B', 'x', '2'), ('B', 'x', '3'), ('B', 'x', '4'), ('B', 'y', '1'), ('B', 'y', '2'), ('B', 'y', '3'), ('B', 'y', '4'), ('C', 'x', '1'), ('C', 'x', '2'), ('C', 'x', '3'), ('C', 'x', '4'), ('C', 'y', '1'), ('C', 'y', '2'), ('C', 'y', '3'), ('C', 'y', '4'), ('D', 'x', '1'), ('D', 'x', '2'), ('D', 'x', '3'), ('D', 'x', '4'), ('D', 'y', '1'), ('D', 'y', '2'), ('D', 'y', '3'), ('D', 'y', '4')]\n"
     ]
    }
   ],
   "source": [
    "# itertools.product를 이용하면, for 문을 사용하지 않고도 곱집합을 구할 수 있습니다.\n",
    "import itertools\n",
    "\n",
    "iter1 = 'ABCD'\n",
    "iter2 = 'xy'\n",
    "iter3 = '1234'\n",
    "\n",
    "print(list(itertools.product(iter1,iter2,iter3)))"
   ]
  },
  {
   "cell_type": "code",
   "execution_count": 8,
   "id": "coastal-italic",
   "metadata": {
    "ExecuteTime": {
     "end_time": "2021-05-24T07:49:55.357112Z",
     "start_time": "2021-05-24T07:49:55.353915Z"
    }
   },
   "outputs": [
    {
     "data": {
      "text/plain": [
       "['2', '1', 'x', 'y', 'z']"
      ]
     },
     "execution_count": 8,
     "metadata": {},
     "output_type": "execute_result"
    }
   ],
   "source": [
    "# 2차원 리스트를 1차원 리스트로 만들기\n",
    "def solution(mylist):\n",
    "    answer = sum(mylist, [])\n",
    "    return answer\n",
    "    \n",
    "solution([['2','1'],['x','y','z']])"
   ]
  },
  {
   "cell_type": "code",
   "execution_count": 12,
   "id": "persistent-austria",
   "metadata": {
    "ExecuteTime": {
     "end_time": "2021-05-24T07:52:38.182066Z",
     "start_time": "2021-05-24T07:52:38.178847Z"
    }
   },
   "outputs": [
    {
     "data": {
      "text/plain": [
       "['', '2', '1', 'x', 'y', 'z']"
      ]
     },
     "execution_count": 12,
     "metadata": {},
     "output_type": "execute_result"
    }
   ],
   "source": [
    "def solution(mylist):\n",
    "    answer = sum(mylist, [\"\"])\n",
    "    return answer\n",
    "    \n",
    "solution([['2','1'],['x','y','z']])"
   ]
  },
  {
   "cell_type": "code",
   "execution_count": 14,
   "id": "complex-pioneer",
   "metadata": {
    "ExecuteTime": {
     "end_time": "2021-05-24T07:55:11.010238Z",
     "start_time": "2021-05-24T07:55:11.006767Z"
    }
   },
   "outputs": [
    {
     "data": {
      "text/plain": [
       "[1, 3, 5, '2', '1', 'x', 'y', 'z']"
      ]
     },
     "execution_count": 14,
     "metadata": {},
     "output_type": "execute_result"
    }
   ],
   "source": [
    "def solution(mylist):\n",
    "    answer = sum(mylist, [1, 3, 5])\n",
    "    return answer\n",
    "    \n",
    "solution([['2','1'],['x','y','z']])"
   ]
  },
  {
   "cell_type": "code",
   "execution_count": 16,
   "id": "embedded-market",
   "metadata": {
    "ExecuteTime": {
     "end_time": "2021-05-24T07:59:56.409391Z",
     "start_time": "2021-05-24T07:59:56.406110Z"
    }
   },
   "outputs": [
    {
     "data": {
      "text/plain": [
       "['2', '1', 'x', 'y', 'z']"
      ]
     },
     "execution_count": 16,
     "metadata": {},
     "output_type": "execute_result"
    }
   ],
   "source": [
    "def solution(mylist):\n",
    "    answer = sum(mylist, [])\n",
    "    return answer\n",
    "    \n",
    "solution([['2','1'],['x','y','z']])"
   ]
  },
  {
   "cell_type": "code",
   "execution_count": 17,
   "id": "educational-philippines",
   "metadata": {
    "ExecuteTime": {
     "end_time": "2021-05-24T08:06:23.965157Z",
     "start_time": "2021-05-24T08:06:23.962239Z"
    }
   },
   "outputs": [
    {
     "data": {
      "text/plain": [
       "['2', '1', 'x', 'y', 'z']"
      ]
     },
     "execution_count": 17,
     "metadata": {},
     "output_type": "execute_result"
    }
   ],
   "source": [
    "import itertools\n",
    "mylist = [['2','1'],['x','y','z']]\n",
    "list(itertools.chain.from_iterable(mylist))"
   ]
  },
  {
   "cell_type": "code",
   "execution_count": 19,
   "id": "clinical-banana",
   "metadata": {
    "ExecuteTime": {
     "end_time": "2021-05-24T08:06:46.843345Z",
     "start_time": "2021-05-24T08:06:46.840819Z"
    }
   },
   "outputs": [
    {
     "name": "stdout",
     "output_type": "stream",
     "text": [
      "<itertools.chain object at 0x7f9280c478d0>\n"
     ]
    }
   ],
   "source": [
    "import itertools\n",
    "mylist = [['2','1'],['x','y','z']]\n",
    "print(itertools.chain.from_iterable(mylist))"
   ]
  },
  {
   "cell_type": "code",
   "execution_count": 20,
   "id": "bearing-hypothesis",
   "metadata": {
    "ExecuteTime": {
     "end_time": "2021-05-24T08:10:26.954001Z",
     "start_time": "2021-05-24T08:10:26.951198Z"
    }
   },
   "outputs": [
    {
     "data": {
      "text/plain": [
       "['2', '1', 'x', 'y', 'z']"
      ]
     },
     "execution_count": 20,
     "metadata": {},
     "output_type": "execute_result"
    }
   ],
   "source": [
    "import itertools\n",
    "list(itertools.chain(*mylist))"
   ]
  },
  {
   "cell_type": "code",
   "execution_count": 24,
   "id": "outstanding-lender",
   "metadata": {
    "ExecuteTime": {
     "end_time": "2021-05-24T08:11:24.201297Z",
     "start_time": "2021-05-24T08:11:24.198252Z"
    }
   },
   "outputs": [
    {
     "data": {
      "text/plain": [
       "['2', '1', 'x', 'y', 'z']"
      ]
     },
     "execution_count": 24,
     "metadata": {},
     "output_type": "execute_result"
    }
   ],
   "source": [
    "# itertools와 unpacking\n",
    "list(itertools.chain(*mylist))"
   ]
  },
  {
   "cell_type": "code",
   "execution_count": 26,
   "id": "charming-showcase",
   "metadata": {
    "ExecuteTime": {
     "end_time": "2021-05-24T08:13:40.996662Z",
     "start_time": "2021-05-24T08:13:40.993492Z"
    }
   },
   "outputs": [
    {
     "data": {
      "text/plain": [
       "['2', '1', 'x', 'y', 'z']"
      ]
     },
     "execution_count": 26,
     "metadata": {},
     "output_type": "execute_result"
    }
   ],
   "source": [
    "# list comprehension 이용\n",
    "[element for array in mylist for element in array]"
   ]
  },
  {
   "cell_type": "code",
   "execution_count": 29,
   "id": "coral-person",
   "metadata": {
    "ExecuteTime": {
     "end_time": "2021-05-24T08:21:44.855920Z",
     "start_time": "2021-05-24T08:21:44.852911Z"
    }
   },
   "outputs": [
    {
     "data": {
      "text/plain": [
       "['2', '1', 'x', 'y', 'z']"
      ]
     },
     "execution_count": 29,
     "metadata": {},
     "output_type": "execute_result"
    }
   ],
   "source": [
    "# reduce 함수 이용 1\n",
    "from functools import reduce\n",
    "list(reduce(lambda x, y: x+y, mylist))"
   ]
  },
  {
   "cell_type": "code",
   "execution_count": 2,
   "id": "federal-chaos",
   "metadata": {
    "ExecuteTime": {
     "end_time": "2021-05-25T07:12:07.264996Z",
     "start_time": "2021-05-25T07:12:07.255883Z"
    }
   },
   "outputs": [
    {
     "data": {
      "text/plain": [
       "['2', '1', 'x', 'y', 'z']"
      ]
     },
     "execution_count": 2,
     "metadata": {},
     "output_type": "execute_result"
    }
   ],
   "source": [
    "# 방법 6 -reduce 함수 이용 2\n",
    "from functools import reduce\n",
    "import operator\n",
    "\n",
    "mylist = [['2','1'],['x','y','z']]\n",
    "list(reduce(operator.add, mylist))"
   ]
  },
  {
   "cell_type": "code",
   "execution_count": 4,
   "id": "interior-poster",
   "metadata": {
    "ExecuteTime": {
     "end_time": "2021-05-25T07:15:19.018790Z",
     "start_time": "2021-05-25T07:15:19.015629Z"
    }
   },
   "outputs": [
    {
     "data": {
      "text/plain": [
       "['2', '1', 'x', 'y']"
      ]
     },
     "execution_count": 4,
     "metadata": {},
     "output_type": "execute_result"
    }
   ],
   "source": [
    "# 방법 7 - numpy 라이브러리의  flatten 이용 : 원소의 길이가 같을때 만 사용 가능\n",
    "import numpy as np \n",
    "\n",
    "mylist = [['2','1'],['x','y']] \n",
    "np.array(mylist).flatten().tolist()"
   ]
  },
  {
   "cell_type": "code",
   "execution_count": 27,
   "id": "satellite-bangladesh",
   "metadata": {
    "ExecuteTime": {
     "end_time": "2021-05-25T07:45:09.828306Z",
     "start_time": "2021-05-25T07:45:09.819761Z"
    }
   },
   "outputs": [
    {
     "data": {
      "text/plain": [
       "2"
      ]
     },
     "execution_count": 27,
     "metadata": {},
     "output_type": "execute_result"
    }
   ],
   "source": [
    "5%3"
   ]
  },
  {
   "cell_type": "code",
   "execution_count": 26,
   "id": "demographic-weapon",
   "metadata": {
    "ExecuteTime": {
     "end_time": "2021-05-25T07:38:49.406181Z",
     "start_time": "2021-05-25T07:38:49.400437Z"
    }
   },
   "outputs": [
    {
     "data": {
      "text/plain": [
       "[[1, 2, 3], [2, 1, 3], [3, 1, 2], [1, 3, 2], [2, 3, 1], [3, 2, 1]]"
      ]
     },
     "execution_count": 26,
     "metadata": {},
     "output_type": "execute_result"
    }
   ],
   "source": [
    "# 순열과 조합 - 예시 답안\n",
    "def permute(arr):\n",
    "    arr.sort()\n",
    "    result = [arr[:]]\n",
    "    c = [0] * len(arr)\n",
    "    i = 0\n",
    "    while i < len(arr):\n",
    "        if c[i] < i:\n",
    "            if i % 2 == 0: # 0 포함 짝수일 때\n",
    "                arr[0], arr[i] = arr[i], arr[0]\n",
    "            else:\n",
    "                arr[c[i]], arr[i] = arr[i], arr[c[i]]\n",
    "            result.append(arr[:])\n",
    "            c[i] += 1\n",
    "            i = 0\n",
    "        else:\n",
    "            c[i] = 0\n",
    "            i += 1\n",
    "    return result\n",
    "\n",
    "permute([1, 2, 3])"
   ]
  },
  {
   "cell_type": "code",
   "execution_count": 18,
   "id": "diagnostic-tracker",
   "metadata": {
    "ExecuteTime": {
     "end_time": "2021-05-25T07:33:18.958381Z",
     "start_time": "2021-05-25T07:33:18.955634Z"
    }
   },
   "outputs": [
    {
     "data": {
      "text/plain": [
       "[[1, 2, 3]]"
      ]
     },
     "execution_count": 18,
     "metadata": {},
     "output_type": "execute_result"
    }
   ],
   "source": [
    "mylist = [1, 2, 3]\n",
    "result = [mylist[:]]\n",
    "result"
   ]
  },
  {
   "cell_type": "code",
   "execution_count": 22,
   "id": "attempted-scroll",
   "metadata": {
    "ExecuteTime": {
     "end_time": "2021-05-25T07:36:56.473247Z",
     "start_time": "2021-05-25T07:36:56.470268Z"
    }
   },
   "outputs": [
    {
     "data": {
      "text/plain": [
       "[1, 1, 2, 3, 4, 5]"
      ]
     },
     "execution_count": 22,
     "metadata": {},
     "output_type": "execute_result"
    }
   ],
   "source": [
    "mylist = [5,3,1,2,4,1]\n",
    "mylist.sort()\n",
    "mylist"
   ]
  },
  {
   "cell_type": "code",
   "execution_count": 25,
   "id": "developmental-pittsburgh",
   "metadata": {
    "ExecuteTime": {
     "end_time": "2021-05-25T07:38:18.513032Z",
     "start_time": "2021-05-25T07:38:18.509503Z"
    }
   },
   "outputs": [
    {
     "data": {
      "text/plain": [
       "['b', 'b', 'c', 'f']"
      ]
     },
     "execution_count": 25,
     "metadata": {},
     "output_type": "execute_result"
    }
   ],
   "source": [
    "mylist = ['c','b','b','f']\n",
    "mylist.sort()\n",
    "mylist"
   ]
  },
  {
   "cell_type": "code",
   "execution_count": 8,
   "id": "intelligent-fight",
   "metadata": {
    "ExecuteTime": {
     "end_time": "2021-05-25T07:24:57.744109Z",
     "start_time": "2021-05-25T07:24:57.740185Z"
    }
   },
   "outputs": [
    {
     "data": {
      "text/plain": [
       "[['A', 'B', 'C'],\n",
       " ['B', 'A', 'C'],\n",
       " ['C', 'A', 'B'],\n",
       " ['A', 'C', 'B'],\n",
       " ['B', 'C', 'A'],\n",
       " ['C', 'B', 'A']]"
      ]
     },
     "execution_count": 8,
     "metadata": {},
     "output_type": "execute_result"
    }
   ],
   "source": [
    "permute(['A','B','C'])"
   ]
  },
  {
   "cell_type": "code",
   "execution_count": 16,
   "id": "noticed-culture",
   "metadata": {
    "ExecuteTime": {
     "end_time": "2021-05-25T07:31:22.782629Z",
     "start_time": "2021-05-25T07:31:22.779959Z"
    }
   },
   "outputs": [
    {
     "data": {
      "text/plain": [
       "[[2, 1], [1, 2]]"
      ]
     },
     "execution_count": 16,
     "metadata": {},
     "output_type": "execute_result"
    }
   ],
   "source": [
    "permute([2, 1])"
   ]
  },
  {
   "cell_type": "code",
   "execution_count": 15,
   "id": "noted-closure",
   "metadata": {
    "ExecuteTime": {
     "end_time": "2021-05-25T07:30:20.128769Z",
     "start_time": "2021-05-25T07:30:20.122883Z"
    }
   },
   "outputs": [
    {
     "ename": "TypeError",
     "evalue": "sequence item 0: expected str instance, int found",
     "output_type": "error",
     "traceback": [
      "\u001b[0;31m---------------------------------------------------------------------------\u001b[0m",
      "\u001b[0;31mTypeError\u001b[0m                                 Traceback (most recent call last)",
      "\u001b[0;32m<ipython-input-15-e3fa5b0bd2d3>\u001b[0m in \u001b[0;36m<module>\u001b[0;34m\u001b[0m\n\u001b[1;32m      2\u001b[0m \u001b[0;34m\u001b[0m\u001b[0m\n\u001b[1;32m      3\u001b[0m \u001b[0mmylist\u001b[0m \u001b[0;34m=\u001b[0m \u001b[0;34m[\u001b[0m\u001b[0;36m1\u001b[0m\u001b[0;34m,\u001b[0m \u001b[0;36m2\u001b[0m\u001b[0;34m,\u001b[0m \u001b[0;36m3\u001b[0m\u001b[0;34m]\u001b[0m\u001b[0;34m\u001b[0m\u001b[0;34m\u001b[0m\u001b[0m\n\u001b[0;32m----> 4\u001b[0;31m \u001b[0mprint\u001b[0m\u001b[0;34m(\u001b[0m\u001b[0mlist\u001b[0m\u001b[0;34m(\u001b[0m\u001b[0mmap\u001b[0m\u001b[0;34m(\u001b[0m\u001b[0;34m''\u001b[0m\u001b[0;34m.\u001b[0m\u001b[0mjoin\u001b[0m\u001b[0;34m,\u001b[0m \u001b[0mitertools\u001b[0m\u001b[0;34m.\u001b[0m\u001b[0mpermutations\u001b[0m\u001b[0;34m(\u001b[0m\u001b[0mmylist\u001b[0m\u001b[0;34m)\u001b[0m\u001b[0;34m)\u001b[0m\u001b[0;34m)\u001b[0m\u001b[0;34m)\u001b[0m\u001b[0;34m\u001b[0m\u001b[0;34m\u001b[0m\u001b[0m\n\u001b[0m",
      "\u001b[0;31mTypeError\u001b[0m: sequence item 0: expected str instance, int found"
     ]
    }
   ],
   "source": [
    "import itertools\n",
    "\n",
    "mylist = [1, 2, 3]\n",
    "print(list(map(''.join, itertools.permutations(mylist))))"
   ]
  },
  {
   "cell_type": "code",
   "execution_count": 9,
   "id": "conventional-dining",
   "metadata": {
    "ExecuteTime": {
     "end_time": "2021-05-25T07:25:09.218415Z",
     "start_time": "2021-05-25T07:25:09.215834Z"
    },
    "scrolled": true
   },
   "outputs": [
    {
     "name": "stdout",
     "output_type": "stream",
     "text": [
      "['A B C', 'A C B', 'B A C', 'B C A', 'C A B', 'C B A']\n"
     ]
    }
   ],
   "source": [
    "import itertools\n",
    "\n",
    "mylist = ['A','B','C']\n",
    "print(list(map(' '.join, itertools.permutations(mylist))))"
   ]
  },
  {
   "cell_type": "code",
   "execution_count": 12,
   "id": "amended-decision",
   "metadata": {
    "ExecuteTime": {
     "end_time": "2021-05-25T07:26:04.268145Z",
     "start_time": "2021-05-25T07:26:04.264811Z"
    }
   },
   "outputs": [
    {
     "name": "stdout",
     "output_type": "stream",
     "text": [
      "['AB', 'AC', 'BA', 'BC', 'CA', 'CB']\n"
     ]
    }
   ],
   "source": [
    "import itertools\n",
    "\n",
    "mylist = ['A','B','C']\n",
    "print(list(map(''.join, itertools.permutations(mylist, 2))))"
   ]
  },
  {
   "cell_type": "code",
   "execution_count": 3,
   "id": "younger-friend",
   "metadata": {
    "ExecuteTime": {
     "end_time": "2021-06-08T07:14:55.499330Z",
     "start_time": "2021-06-08T07:14:55.488244Z"
    }
   },
   "outputs": [
    {
     "data": {
      "text/plain": [
       "[[1, 2, 3], [2, 1, 3], [3, 1, 2], [1, 3, 2], [2, 3, 1], [3, 2, 1]]"
      ]
     },
     "execution_count": 3,
     "metadata": {},
     "output_type": "execute_result"
    },
    {
     "name": "stdout",
     "output_type": "stream",
     "text": [
      "time: 7.68 ms (started: 2021-06-08 16:14:55 +09:00)\n"
     ]
    }
   ],
   "source": [
    "def permute(arr):\n",
    "    result = [arr[:]]\n",
    "    c = [0] * len(arr)\n",
    "    i = 0\n",
    "    while i < len(arr):\n",
    "        if c[i] < i:\n",
    "            if i % 2 == 0:\n",
    "                arr[0], arr[i] = arr[i], arr[0]\n",
    "            else:\n",
    "                arr[c[i]], arr[i] = arr[i], arr[c[i]]\n",
    "            result.append(arr[:])\n",
    "            c[i] += 1\n",
    "            i = 0\n",
    "        else:\n",
    "            c[i] = 0\n",
    "            i += 1\n",
    "    return result\n",
    "\n",
    "permute([1,2,3])"
   ]
  },
  {
   "cell_type": "code",
   "execution_count": 4,
   "id": "weird-lingerie",
   "metadata": {
    "ExecuteTime": {
     "end_time": "2021-06-08T07:16:33.092000Z",
     "start_time": "2021-06-08T07:16:33.084432Z"
    }
   },
   "outputs": [
    {
     "data": {
      "text/plain": [
       "[[1, 2, 3], [2, 1, 3], [3, 1, 2], [1, 3, 2], [2, 3, 1], [3, 2, 1]]"
      ]
     },
     "execution_count": 4,
     "metadata": {},
     "output_type": "execute_result"
    },
    {
     "name": "stdout",
     "output_type": "stream",
     "text": [
      "time: 2.95 ms (started: 2021-06-08 16:16:33 +09:00)\n"
     ]
    }
   ],
   "source": [
    "# 정답과 비슷한 result를 내는 코드 분석\n",
    "def solution(arr):\n",
    "    arr.sort()\n",
    "    result = [arr[:]]\n",
    "    c = [0] * len(arr)\n",
    "    i = 0\n",
    "    while i < len(arr):\n",
    "        if c[i] < i:\n",
    "            if i % 2 == 0:\n",
    "                arr[0], arr[i] = arr[i], arr[0]\n",
    "            else:\n",
    "                arr[c[i]], arr[i] = arr[i], arr[c[i]]\n",
    "            result.append(arr[:])\n",
    "            c[i] += 1\n",
    "            i = 0\n",
    "        else:\n",
    "            c[i] = 0\n",
    "            i += 1\n",
    "    return result\n",
    "\n",
    "solution([1, 2, 3])"
   ]
  },
  {
   "cell_type": "code",
   "execution_count": 6,
   "id": "excellent-rental",
   "metadata": {
    "ExecuteTime": {
     "end_time": "2021-06-08T07:18:14.923406Z",
     "start_time": "2021-06-08T07:18:14.920505Z"
    }
   },
   "outputs": [
    {
     "name": "stdout",
     "output_type": "stream",
     "text": [
      "[0, 0, 0]\n",
      "[[1, 2, 3]]\n",
      "time: 536 µs (started: 2021-06-08 16:18:14 +09:00)\n"
     ]
    }
   ],
   "source": [
    "arr = [1, 2, 3]\n",
    "result = [arr[:]]\n",
    "c = [0] * len(arr)\n",
    "i = 0\n",
    "print(c)\n",
    "print(result)"
   ]
  },
  {
   "cell_type": "code",
   "execution_count": 9,
   "id": "underlying-exhaust",
   "metadata": {
    "ExecuteTime": {
     "end_time": "2021-06-08T07:33:21.001065Z",
     "start_time": "2021-06-08T07:33:20.997174Z"
    }
   },
   "outputs": [
    {
     "data": {
      "text/plain": [
       "[[1, 2, 3], [2, 1, 3], [1, 2, 3]]"
      ]
     },
     "execution_count": 9,
     "metadata": {},
     "output_type": "execute_result"
    },
    {
     "name": "stdout",
     "output_type": "stream",
     "text": [
      "time: 1.69 ms (started: 2021-06-08 16:33:20 +09:00)\n"
     ]
    }
   ],
   "source": [
    "i = 1\n",
    "arr[c[i]], arr[i] = arr[i], arr[c[i]]\n",
    "result.append(arr[:])\n",
    "result"
   ]
  },
  {
   "cell_type": "code",
   "execution_count": 10,
   "id": "simplified-tampa",
   "metadata": {
    "ExecuteTime": {
     "end_time": "2021-06-08T07:33:33.856751Z",
     "start_time": "2021-06-08T07:33:33.853293Z"
    }
   },
   "outputs": [
    {
     "data": {
      "text/plain": [
       "1"
      ]
     },
     "execution_count": 10,
     "metadata": {},
     "output_type": "execute_result"
    },
    {
     "name": "stdout",
     "output_type": "stream",
     "text": [
      "time: 1.35 ms (started: 2021-06-08 16:33:33 +09:00)\n"
     ]
    }
   ],
   "source": [
    "arr[c[i]]"
   ]
  },
  {
   "cell_type": "code",
   "execution_count": 12,
   "id": "proprietary-model",
   "metadata": {
    "ExecuteTime": {
     "end_time": "2021-06-08T07:36:52.573313Z",
     "start_time": "2021-06-08T07:36:52.570438Z"
    }
   },
   "outputs": [
    {
     "name": "stdout",
     "output_type": "stream",
     "text": [
      "[(1, 2, 3), (1, 3, 2), (2, 1, 3), (2, 3, 1), (3, 1, 2), (3, 2, 1)]\n",
      "time: 715 µs (started: 2021-06-08 16:36:52 +09:00)\n"
     ]
    }
   ],
   "source": [
    "from itertools import permutations\n",
    "arr = [1, 2, 3] \n",
    "print(list(permutations(arr, 3)))"
   ]
  },
  {
   "cell_type": "code",
   "execution_count": 25,
   "id": "coupled-development",
   "metadata": {
    "ExecuteTime": {
     "end_time": "2021-06-08T07:52:16.883586Z",
     "start_time": "2021-06-08T07:52:11.864293Z"
    }
   },
   "outputs": [
    {
     "name": "stdout",
     "output_type": "stream",
     "text": [
      "dfdefdgf\n",
      "Counter({'d': 3, 'f': 3, 'e': 1, 'g': 1})\n",
      "time: 5.02 s (started: 2021-06-08 16:52:11 +09:00)\n"
     ]
    }
   ],
   "source": [
    "import collections as co\n",
    "a = input().strip()\n",
    "answer = co.Counter(a)\n",
    "print(answer)"
   ]
  },
  {
   "cell_type": "code",
   "execution_count": 18,
   "id": "compound-memorial",
   "metadata": {
    "ExecuteTime": {
     "end_time": "2021-06-08T07:47:40.105609Z",
     "start_time": "2021-06-08T07:47:40.102182Z"
    }
   },
   "outputs": [
    {
     "data": {
      "text/plain": [
       "collections.Counter"
      ]
     },
     "execution_count": 18,
     "metadata": {},
     "output_type": "execute_result"
    },
    {
     "name": "stdout",
     "output_type": "stream",
     "text": [
      "time: 1.4 ms (started: 2021-06-08 16:47:40 +09:00)\n"
     ]
    }
   ],
   "source": [
    "type(answer)"
   ]
  },
  {
   "cell_type": "code",
   "execution_count": 27,
   "id": "electoral-roller",
   "metadata": {
    "ExecuteTime": {
     "end_time": "2021-06-08T07:53:00.521608Z",
     "start_time": "2021-06-08T07:53:00.518411Z"
    }
   },
   "outputs": [
    {
     "data": {
      "text/plain": [
       "0"
      ]
     },
     "execution_count": 27,
     "metadata": {},
     "output_type": "execute_result"
    },
    {
     "name": "stdout",
     "output_type": "stream",
     "text": [
      "time: 1.31 ms (started: 2021-06-08 16:53:00 +09:00)\n"
     ]
    }
   ],
   "source": [
    "answer"
   ]
  },
  {
   "cell_type": "code",
   "execution_count": 22,
   "id": "unexpected-surgery",
   "metadata": {
    "ExecuteTime": {
     "end_time": "2021-06-08T07:49:13.935586Z",
     "start_time": "2021-06-08T07:49:13.932607Z"
    }
   },
   "outputs": [
    {
     "data": {
      "text/plain": [
       "2"
      ]
     },
     "execution_count": 22,
     "metadata": {},
     "output_type": "execute_result"
    },
    {
     "name": "stdout",
     "output_type": "stream",
     "text": [
      "time: 1.22 ms (started: 2021-06-08 16:49:13 +09:00)\n"
     ]
    }
   ],
   "source": [
    "answer['a']"
   ]
  },
  {
   "cell_type": "code",
   "execution_count": 30,
   "id": "strategic-destruction",
   "metadata": {
    "ExecuteTime": {
     "end_time": "2021-06-08T07:56:01.854300Z",
     "start_time": "2021-06-08T07:56:01.850195Z"
    }
   },
   "outputs": [
    {
     "name": "stdout",
     "output_type": "stream",
     "text": [
      "d\n",
      "3\n",
      "f\n",
      "3\n",
      "d\n",
      "3\n",
      "e\n",
      "f\n",
      "3\n",
      "d\n",
      "3\n",
      "g\n",
      "f\n",
      "3\n",
      "time: 713 µs (started: 2021-06-08 16:56:01 +09:00)\n"
     ]
    }
   ],
   "source": [
    "import collections as co\n",
    "# my_str = input().strip()\n",
    "my_str = 'dfdefdgf'\n",
    "answer = co.Counter(my_str)\n",
    "for i in my_str:\n",
    "    n=0\n",
    "    if answer[i]>n:\n",
    "        n=answer[i]\n",
    "    \n",
    "for j in my_str:\n",
    "    print(j)\n",
    "    if answer[j] == n:\n",
    "        print(answer[j])"
   ]
  },
  {
   "cell_type": "code",
   "execution_count": 3,
   "id": "passive-defense",
   "metadata": {
    "ExecuteTime": {
     "end_time": "2021-06-10T07:04:31.966272Z",
     "start_time": "2021-06-10T07:04:31.959335Z"
    }
   },
   "outputs": [
    {
     "name": "stdout",
     "output_type": "stream",
     "text": [
      "{'d': 3, 'f': 3, 'e': 1, 'g': 1}\n",
      "time: 1.44 ms (started: 2021-06-10 16:04:31 +09:00)\n"
     ]
    }
   ],
   "source": [
    "import collections as co\n",
    "my_str = 'dfdefdgf'\n",
    "answer = co.Counter(my_str)\n",
    "answer = dict(answer)\n",
    "\n",
    "print(answer)"
   ]
  },
  {
   "cell_type": "code",
   "execution_count": 5,
   "id": "continent-navigator",
   "metadata": {
    "ExecuteTime": {
     "end_time": "2021-06-10T07:05:03.342563Z",
     "start_time": "2021-06-10T07:05:03.330457Z"
    }
   },
   "outputs": [
    {
     "data": {
      "text/plain": [
       "3"
      ]
     },
     "execution_count": 5,
     "metadata": {},
     "output_type": "execute_result"
    },
    {
     "name": "stdout",
     "output_type": "stream",
     "text": [
      "time: 6.08 ms (started: 2021-06-10 16:05:03 +09:00)\n"
     ]
    }
   ],
   "source": [
    "max(answer.values())"
   ]
  },
  {
   "cell_type": "code",
   "execution_count": 8,
   "id": "juvenile-credit",
   "metadata": {
    "ExecuteTime": {
     "end_time": "2021-06-10T07:09:06.134041Z",
     "start_time": "2021-06-10T07:09:06.128796Z"
    }
   },
   "outputs": [
    {
     "data": {
      "text/plain": [
       "4"
      ]
     },
     "execution_count": 8,
     "metadata": {},
     "output_type": "execute_result"
    },
    {
     "name": "stdout",
     "output_type": "stream",
     "text": [
      "time: 2.64 ms (started: 2021-06-10 16:09:06 +09:00)\n"
     ]
    }
   ],
   "source": [
    "len(answer)"
   ]
  },
  {
   "cell_type": "code",
   "execution_count": 15,
   "id": "amino-steering",
   "metadata": {
    "ExecuteTime": {
     "end_time": "2021-06-10T07:11:56.337005Z",
     "start_time": "2021-06-10T07:11:56.326394Z"
    }
   },
   "outputs": [
    {
     "data": {
      "text/plain": [
       "dict_values"
      ]
     },
     "execution_count": 15,
     "metadata": {},
     "output_type": "execute_result"
    },
    {
     "name": "stdout",
     "output_type": "stream",
     "text": [
      "time: 4.48 ms (started: 2021-06-10 16:11:56 +09:00)\n"
     ]
    }
   ],
   "source": [
    "type(answer.values())"
   ]
  },
  {
   "cell_type": "code",
   "execution_count": 26,
   "id": "scenic-recall",
   "metadata": {
    "ExecuteTime": {
     "end_time": "2021-06-10T07:24:56.562891Z",
     "start_time": "2021-06-10T07:24:56.558585Z"
    },
    "scrolled": true
   },
   "outputs": [
    {
     "name": "stdout",
     "output_type": "stream",
     "text": [
      "df\n",
      "time: 1.39 ms (started: 2021-06-10 16:24:56 +09:00)\n"
     ]
    }
   ],
   "source": [
    "import collections as co\n",
    "my_str = 'dfdefdgf'\n",
    "answer = co.Counter(my_str)\n",
    "answer = dict(answer)\n",
    "\n",
    "a = max(answer.values())\n",
    "\n",
    "n = len(answer)\n",
    "\n",
    "# 문자열끼리도 더하기 가능\n",
    "res = \"\" \n",
    "for key, value in answer.items():\n",
    "    if value == a:\n",
    "        res += key\n",
    "    \n",
    "print(res)"
   ]
  },
  {
   "cell_type": "code",
   "execution_count": 33,
   "id": "unable-knitting",
   "metadata": {
    "ExecuteTime": {
     "end_time": "2021-06-10T07:31:42.089533Z",
     "start_time": "2021-06-10T07:31:42.085146Z"
    }
   },
   "outputs": [
    {
     "name": "stdout",
     "output_type": "stream",
     "text": [
      "df\n",
      "time: 942 µs (started: 2021-06-10 16:31:42 +09:00)\n"
     ]
    }
   ],
   "source": [
    "import collections as co\n",
    "my_str = 'dfdefdgf'\n",
    "answer = co.Counter(my_str)\n",
    "answer = dict(answer)\n",
    "\n",
    "a = max(answer.values())\n",
    "\n",
    "n = len(answer)\n",
    "\n",
    "# 리스트에서 하나의 문자열로 만들기 .join()\n",
    "res = []\n",
    "for key, value in answer.items():\n",
    "    if value == a:\n",
    "        res.append(key)\n",
    "        \n",
    "print(\"\".join(res))"
   ]
  },
  {
   "cell_type": "code",
   "execution_count": 32,
   "id": "compliant-explosion",
   "metadata": {
    "ExecuteTime": {
     "end_time": "2021-06-10T07:28:37.976025Z",
     "start_time": "2021-06-10T07:28:37.965118Z"
    }
   },
   "outputs": [
    {
     "name": "stdout",
     "output_type": "stream",
     "text": [
      "ab\n",
      "time: 2.92 ms (started: 2021-06-10 16:28:37 +09:00)\n"
     ]
    }
   ],
   "source": [
    "my_str = 'bbaa'\n",
    "my_str = sorted(my_str)#.strip()\n",
    "\n",
    "answer = co.Counter(my_str)\n",
    "answer = dict(answer)\n",
    "\n",
    "a = max(answer.values())\n",
    "\n",
    "n = len(answer)\n",
    "\n",
    "res = \"\"\n",
    "for key, value in answer.items():\n",
    "    if value == a:\n",
    "        res += key\n",
    "    \n",
    "print(res)"
   ]
  },
  {
   "cell_type": "code",
   "execution_count": 39,
   "id": "geographic-greek",
   "metadata": {
    "ExecuteTime": {
     "end_time": "2021-06-10T07:38:03.097429Z",
     "start_time": "2021-06-10T07:38:03.088379Z"
    }
   },
   "outputs": [
    {
     "name": "stdout",
     "output_type": "stream",
     "text": [
      "[4, 36]\n",
      "time: 2.07 ms (started: 2021-06-10 16:38:03 +09:00)\n"
     ]
    }
   ],
   "source": [
    "# 2-depth 블록은 시간이 오래걸려요\n",
    "my_list=[3,2,6,7]\n",
    "\n",
    "a = []\n",
    "for i in range(len(my_list)):\n",
    "    if my_list[i] % 2 == 0:\n",
    "        my_list[i] = int(my_list[i])**2\n",
    "        a.append(my_list[i])\n",
    "        \n",
    "print(a)"
   ]
  },
  {
   "cell_type": "code",
   "execution_count": 40,
   "id": "psychological-questionnaire",
   "metadata": {
    "ExecuteTime": {
     "end_time": "2021-06-10T07:40:50.956983Z",
     "start_time": "2021-06-10T07:40:50.949521Z"
    }
   },
   "outputs": [
    {
     "name": "stdout",
     "output_type": "stream",
     "text": [
      "time: 1.13 ms (started: 2021-06-10 16:40:50 +09:00)\n"
     ]
    }
   ],
   "source": [
    "# list comprehension 으로 하면 시간 덜걸림\n",
    "mylist = [3, 2, 6, 7]\n",
    "answer = [number**2 for number in mylist if number % 2 == 0]"
   ]
  },
  {
   "cell_type": "code",
   "execution_count": 43,
   "id": "equipped-lyric",
   "metadata": {
    "ExecuteTime": {
     "end_time": "2021-06-10T07:51:29.734938Z",
     "start_time": "2021-06-10T07:51:22.256137Z"
    }
   },
   "outputs": [
    {
     "name": "stdout",
     "output_type": "stream",
     "text": [
      "5\n",
      "1\n",
      "2\n",
      "3\n",
      "1\n",
      "found\n",
      "time: 7.47 s (started: 2021-06-10 16:51:22 +09:00)\n"
     ]
    }
   ],
   "source": [
    "import math\n",
    "\n",
    "b='not found'\n",
    "for _ in range(5):\n",
    "    a = int(input())\n",
    "    if math.sqrt(a) == int(a):\n",
    "        b = 'found'\n",
    "\n",
    "print(b)"
   ]
  },
  {
   "cell_type": "code",
   "execution_count": 55,
   "id": "unexpected-recipient",
   "metadata": {
    "ExecuteTime": {
     "end_time": "2021-06-10T08:16:08.291488Z",
     "start_time": "2021-06-10T08:16:06.232596Z"
    }
   },
   "outputs": [
    {
     "name": "stdout",
     "output_type": "stream",
     "text": [
      "2\n",
      "4\n",
      "2\n",
      "5\n",
      "1\n",
      "found\n",
      "time: 2.05 s (started: 2021-06-10 17:16:06 +09:00)\n"
     ]
    }
   ],
   "source": [
    "import math\n",
    "\n",
    "b='not found'\n",
    "a = 1\n",
    "for _ in range(5):\n",
    "    a *= int(input())\n",
    "#     print(math.sqrt(a), round(a**0.5))\n",
    "    if math.sqrt(a) == round(a**0.5):\n",
    "        b = 'found'\n",
    "\n",
    "print(b)"
   ]
  },
  {
   "cell_type": "code",
   "execution_count": 56,
   "id": "quantitative-bottom",
   "metadata": {
    "ExecuteTime": {
     "end_time": "2021-06-10T08:16:16.284642Z",
     "start_time": "2021-06-10T08:16:12.809091Z"
    }
   },
   "outputs": [
    {
     "name": "stdout",
     "output_type": "stream",
     "text": [
      "2\n",
      "4\n",
      "2\n",
      "5\n",
      "1\n",
      "found\n",
      "time: 3.47 s (started: 2021-06-10 17:16:12 +09:00)\n"
     ]
    }
   ],
   "source": [
    "# 예시 정답\n",
    "import math\n",
    "\n",
    "if __name__ == '__main__':\n",
    "    numbers = [int(input()) for _ in range(5)]\n",
    "    multiplied = 1\n",
    "    for number in numbers:\n",
    "        multiplied *= number\n",
    "        if math.sqrt(multiplied) == int(math.sqrt(multiplied)):\n",
    "            print('found')\n",
    "            break\n",
    "    else:\n",
    "        print('not found')"
   ]
  },
  {
   "cell_type": "markdown",
   "id": "latest-procedure",
   "metadata": {},
   "source": [
    "내꺼가 더 빠름   \n",
    "근데 내가 class 를 못쓰니까. 흠. 공부가 필요하군\n",
    "\n",
    "`if __name__ == '__main__':`"
   ]
  },
  {
   "cell_type": "markdown",
   "id": "loose-phenomenon",
   "metadata": {},
   "source": [
    "## if \\_\\_name\\_\\_ == “\\_\\_main\\_\\_”은 왜 필요할까?"
   ]
  },
  {
   "cell_type": "markdown",
   "id": "auburn-offset",
   "metadata": {},
   "source": [
    "참고 : https://hyoje420.tistory.com/45\n",
    "\n",
    "이를 이해하려면 먼저 파이썬의 코드 실행 방식과 `__name__`이라는 내장 변수를 알아야 한다.\n",
    "C 언어와 java같은 경우에은 main문이 있지만,  \n",
    "파이썬은 main문 대신에, 들여쓰기가 되지 않은 level0의 코드를 가장 먼저 실행시킨다.\n",
    "\n",
    "**`__main__`**\n",
    "파이썬은 다양한 정보를 담고있는 내장변수가 존재한다. 이 중에서 `__main__`이라는 내장변수를 알아보자.  \n",
    "직접 실행된 모듈의 경우 `__main__` 이라는 값을 가지게 되며, 직접 실행되지 않은 import된 모듈은 모듈의 이름(파일명)을 가지게 된다.  "
   ]
  },
  {
   "cell_type": "markdown",
   "id": "technological-probability",
   "metadata": {
    "ExecuteTime": {
     "end_time": "2021-06-11T05:26:52.950858Z",
     "start_time": "2021-06-11T05:26:52.945316Z"
    }
   },
   "source": [
    "```\n",
    "#module.py\n",
    "\n",
    "def hello():\n",
    "    print(\"Hello!\")\n",
    "\n",
    "print(__name__)\n",
    "```\n",
    "\n",
    "위의 파일을 저장 후 아래 코드 실행"
   ]
  },
  {
   "cell_type": "markdown",
   "id": "successful-mainland",
   "metadata": {},
   "source": [
    "```\n",
    "# main.py\n",
    "\n",
    "import module\n",
    "\n",
    "print(__name__)\n",
    "module.hello()\n",
    "```\n",
    "를 VSC에서 돌리면 아래와 같은 결과가 나온다.  \n",
    "\n",
    "```\n",
    "module\n",
    "__main__\n",
    "Hello!\n",
    "```\n",
    "\n",
    "주피터는 스크립트 이고 vsc는 파일을 실행(ctrl+F5)하기 때문에 다른 결과가 나온다."
   ]
  },
  {
   "attachments": {
    "image.png": {
     "image/png": "[encoded data removed]"
    }
   },
   "cell_type": "markdown",
   "id": "spiritual-enhancement",
   "metadata": {},
   "source": [
    "![image.png](attachment:image.png)"
   ]
  },
  {
   "cell_type": "markdown",
   "id": "received-compiler",
   "metadata": {},
   "source": [
    "참고 동영상 : https://dojang.io/mod/page/view.php?id=2448  \n",
    "jupyter 와 vsc의 차이점 찾아서 보기\n",
    "\n",
    "참고 : https://kimvampa.tistory.com/27  \n",
    "https://suho413.tistory.com/entry/Jupyteripynb-%EC%8B%A4%ED%96%89-%ED%8C%8C%EC%9D%BCexe-%EB%A7%8C%EB%93%A4%EA%B8%B0"
   ]
  },
  {
   "cell_type": "code",
   "execution_count": 8,
   "id": "noticed-magnitude",
   "metadata": {
    "ExecuteTime": {
     "end_time": "2021-06-11T05:49:31.337717Z",
     "start_time": "2021-06-11T05:49:31.334424Z"
    },
    "scrolled": true
   },
   "outputs": [
    {
     "name": "stdout",
     "output_type": "stream",
     "text": [
      "__main__\n",
      "----------------\n",
      "Hello!\n",
      "time: 712 µs (started: 2021-06-11 14:49:31 +09:00)\n"
     ]
    }
   ],
   "source": [
    "# main.py\n",
    "\n",
    "import module\n",
    "\n",
    "print(__name__)\n",
    "module.hello()"
   ]
  },
  {
   "cell_type": "markdown",
   "id": "collected-chain",
   "metadata": {},
   "source": [
    "이로써 알 수 있는 것은 직접 실행한 파일은 `__name__ `내장변수에 `__main__`이라는 값이 들어간다는 것을 알 수 있고,  \n",
    "그렇지 않은 import된 모듈들은 각 모듈의 이름이 들어간다는 것을 알 수 있다.  \n",
    "\n",
    "위의 모듈에 ` if __name__ == \"__main__\"` 조건문을 넣어서 진행해보자.  \n",
    "```\n",
    "# module2.py\n",
    "\n",
    "def hello():\n",
    "    print(\"Hello!\")\n",
    "\n",
    "if __name__==\"__main__\":\n",
    "    print(__name__)\n",
    "```\n",
    "\n"
   ]
  },
  {
   "cell_type": "code",
   "execution_count": 10,
   "id": "coupled-window",
   "metadata": {
    "ExecuteTime": {
     "end_time": "2021-06-11T05:55:43.159361Z",
     "start_time": "2021-06-11T05:55:43.151021Z"
    }
   },
   "outputs": [
    {
     "name": "stdout",
     "output_type": "stream",
     "text": [
      "__main__\n",
      "----------------\n",
      "Hello!\n",
      "time: 2.66 ms (started: 2021-06-11 14:55:43 +09:00)\n"
     ]
    }
   ],
   "source": [
    "import module2\n",
    "\n",
    "print(__name__)\n",
    "print('----------------')\n",
    "module2.hello()"
   ]
  },
  {
   "cell_type": "markdown",
   "id": "raised-namibia",
   "metadata": {},
   "source": [
    "**결론**  \n",
    "`if __name__==\"__main__\"`이라는 조건문을 넣어주고 그 아래는 직접 실행시켰을 때만 실행되길 원하는 코드들을 넣어주는 것  \n",
    "\n",
    "예를 들어 모듈내에서만 사용하는 테스트나 로그같은 출력부분들을 넣어주게 되면 실제 import될 때는 출력되지 않으면서 모듈에 포함된 기능만을 포함시킬 수 있기 때문에 상당히 효율적인 프로그래밍이 가능하게 된다."
   ]
  },
  {
   "cell_type": "code",
   "execution_count": 11,
   "id": "beginning-expert",
   "metadata": {
    "ExecuteTime": {
     "end_time": "2021-06-11T06:10:59.554331Z",
     "start_time": "2021-06-11T06:10:59.546035Z"
    }
   },
   "outputs": [
    {
     "name": "stdout",
     "output_type": "stream",
     "text": [
      "time: 6.22 ms (started: 2021-06-11 15:10:59 +09:00)\n"
     ]
    }
   ],
   "source": [
    "%magic"
   ]
  },
  {
   "cell_type": "code",
   "execution_count": 14,
   "id": "novel-tissue",
   "metadata": {
    "ExecuteTime": {
     "end_time": "2021-06-11T06:15:58.275468Z",
     "start_time": "2021-06-11T06:15:58.272187Z"
    }
   },
   "outputs": [
    {
     "name": "stdout",
     "output_type": "stream",
     "text": [
      "__main__\n",
      "Hello!\n",
      "time: 1.02 ms (started: 2021-06-11 15:15:58 +09:00)\n"
     ]
    }
   ],
   "source": [
    "%run main.py"
   ]
  },
  {
   "cell_type": "code",
   "execution_count": 15,
   "id": "tough-guitar",
   "metadata": {
    "ExecuteTime": {
     "end_time": "2021-06-11T06:16:02.949662Z",
     "start_time": "2021-06-11T06:16:02.946527Z"
    }
   },
   "outputs": [
    {
     "name": "stdout",
     "output_type": "stream",
     "text": [
      "__main__\n",
      "----------------\n",
      "Hello!\n",
      "time: 1.28 ms (started: 2021-06-11 15:16:02 +09:00)\n"
     ]
    }
   ],
   "source": [
    "%run main2.py"
   ]
  },
  {
   "cell_type": "markdown",
   "id": "functional-killing",
   "metadata": {},
   "source": [
    "# 2021.06.14"
   ]
  },
  {
   "cell_type": "markdown",
   "id": "secure-livestock",
   "metadata": {},
   "source": [
    "## flag 대신 for-else 사용하기"
   ]
  },
  {
   "cell_type": "code",
   "execution_count": 1,
   "id": "incident-reset",
   "metadata": {
    "ExecuteTime": {
     "end_time": "2021-06-14T13:15:18.956284Z",
     "start_time": "2021-06-14T13:15:09.900612Z"
    }
   },
   "outputs": [
    {
     "name": "stdout",
     "output_type": "stream",
     "text": [
      "5\n",
      "1\n",
      "2\n",
      "4\n",
      "3\n",
      "not found\n"
     ]
    }
   ],
   "source": [
    "# 다른 언어에서\n",
    "import math\n",
    "\n",
    "if __name__ == '__main__':\n",
    "    numbers = [int(input()) for _ in range(5)]\n",
    "    multiplied = 1\n",
    "    flag = True # 깃발이라는 뜻 처럼 필요할 때, flag를 False로 만들어서 멈추기\n",
    "    for number in numbers:\n",
    "        multiplied *= number\n",
    "        # math.sqrt(x) 는 제곱근 반환\n",
    "        if math.sqrt(multiplied) == int(math.sqrt(multiplied)):\n",
    "            flag = False\n",
    "            print('found')\n",
    "            break\n",
    "\n",
    "    if flag:\n",
    "        print('not found')"
   ]
  },
  {
   "cell_type": "code",
   "execution_count": 3,
   "id": "artificial-prairie",
   "metadata": {
    "ExecuteTime": {
     "end_time": "2021-06-14T13:16:12.135187Z",
     "start_time": "2021-06-14T13:16:08.625614Z"
    }
   },
   "outputs": [
    {
     "name": "stdout",
     "output_type": "stream",
     "text": [
      "1\n",
      "2\n",
      "3\n",
      "4\n",
      "5\n",
      "found\n"
     ]
    }
   ],
   "source": [
    "# for-else -> for문이 중간에 break 안걸리면 else로 넘어간다. \n",
    "import math\n",
    "\n",
    "if __name__ == '__main__':\n",
    "    numbers = [int(input()) for _ in range(5)]\n",
    "    multiplied = 1\n",
    "    for number in numbers:\n",
    "        multiplied *= number\n",
    "        if math.sqrt(multiplied) == int(math.sqrt(multiplied)):\n",
    "            print('found')\n",
    "            break\n",
    "    else:\n",
    "        print('not found')"
   ]
  },
  {
   "cell_type": "code",
   "execution_count": 1,
   "id": "rotary-female",
   "metadata": {
    "ExecuteTime": {
     "end_time": "2021-06-16T07:31:23.822326Z",
     "start_time": "2021-06-16T07:31:23.818657Z"
    }
   },
   "outputs": [
    {
     "name": "stdout",
     "output_type": "stream",
     "text": [
      "abc 3\n"
     ]
    }
   ],
   "source": [
    "# 두 변수의 값 바꾸기 - swap\n",
    "\n",
    "a = 3\n",
    "b = 'abc'\n",
    "\n",
    "a, b = b, a\n",
    "\n",
    "print(a, b)"
   ]
  },
  {
   "cell_type": "markdown",
   "id": "pressing-mount",
   "metadata": {},
   "source": [
    "## 이진분류"
   ]
  },
  {
   "cell_type": "code",
   "execution_count": 7,
   "id": "activated-reservation",
   "metadata": {
    "ExecuteTime": {
     "end_time": "2021-06-16T08:11:03.529617Z",
     "start_time": "2021-06-16T08:11:03.525360Z"
    }
   },
   "outputs": [
    {
     "name": "stdout",
     "output_type": "stream",
     "text": [
      "3\n",
      "7\n",
      "1\n",
      "2\n",
      "2\n",
      "2\n",
      "3\n",
      "2\n"
     ]
    }
   ],
   "source": [
    "def bisect(a, x, lo=0, hi=None):\n",
    "    if lo < 0:\n",
    "        raise ValueError('lo must be non-negative')\n",
    "    if hi is None:\n",
    "        hi = len(a)\n",
    "    while lo < hi:\n",
    "        mid = (lo + hi) // 2\n",
    "        print(mid)\n",
    "        print(a[mid])\n",
    "        if a[mid] < x:\n",
    "            lo = mid + 1\n",
    "            print(lo)\n",
    "        else:\n",
    "            hi = mid\n",
    "    return lo\n",
    "\n",
    "mylist = [1, 2, 3, 7, 9, 11, 33]\n",
    "print(bisect(mylist, 3))"
   ]
  },
  {
   "cell_type": "code",
   "execution_count": 5,
   "id": "agricultural-highland",
   "metadata": {
    "ExecuteTime": {
     "end_time": "2021-06-16T08:08:47.598005Z",
     "start_time": "2021-06-16T08:08:47.595070Z"
    }
   },
   "outputs": [
    {
     "name": "stdout",
     "output_type": "stream",
     "text": [
      "3\n"
     ]
    }
   ],
   "source": [
    "import bisect\n",
    "mylist = [1, 2, 3, 7, 9, 11, 33]\n",
    "print(bisect.bisect(mylist, 3))"
   ]
  },
  {
   "cell_type": "code",
   "execution_count": null,
   "id": "shared-borough",
   "metadata": {},
   "outputs": [],
   "source": []
  }
 ],
 "metadata": {
  "hide_input": false,
  "kernelspec": {
   "display_name": "aiffel",
   "language": "python",
   "name": "aiffel"
  },
  "language_info": {
   "codemirror_mode": {
    "name": "ipython",
    "version": 3
   },
   "file_extension": ".py",
   "mimetype": "text/x-python",
   "name": "python",
   "nbconvert_exporter": "python",
   "pygments_lexer": "ipython3",
   "version": "3.7.9"
  },
  "toc": {
   "base_numbering": 1,
   "nav_menu": {},
   "number_sections": true,
   "sideBar": true,
   "skip_h1_title": false,
   "title_cell": "Table of Contents",
   "title_sidebar": "Contents",
   "toc_cell": false,
   "toc_position": {},
   "toc_section_display": true,
   "toc_window_display": true
  },
  "varInspector": {
   "cols": {
    "lenName": 16,
    "lenType": 16,
    "lenVar": 40
   },
   "kernels_config": {
    "python": {
     "delete_cmd_postfix": "",
     "delete_cmd_prefix": "del ",
     "library": "var_list.py",
     "varRefreshCmd": "print(var_dic_list())"
    },
    "r": {
     "delete_cmd_postfix": ") ",
     "delete_cmd_prefix": "rm(",
     "library": "var_list.r",
     "varRefreshCmd": "cat(var_dic_list()) "
    }
   },
   "types_to_exclude": [
    "module",
    "function",
    "builtin_function_or_method",
    "instance",
    "_Feature"
   ],
   "window_display": false
  }
 },
 "nbformat": 4,
 "nbformat_minor": 5
}
