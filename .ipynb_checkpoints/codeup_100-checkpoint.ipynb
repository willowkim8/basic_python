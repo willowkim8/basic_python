{
 "cells": [
  {
   "cell_type": "markdown",
   "id": "fourth-freedom",
   "metadata": {},
   "source": [
    "# 7th May"
   ]
  },
  {
   "cell_type": "code",
   "execution_count": 1,
   "id": "copyrighted-brother",
   "metadata": {
    "ExecuteTime": {
     "end_time": "2021-05-08T10:18:09.872841Z",
     "start_time": "2021-05-08T10:18:07.293381Z"
    }
   },
   "outputs": [
    {
     "name": "stdout",
     "output_type": "stream",
     "text": [
      "3:15\n",
      "3:15\n"
     ]
    }
   ],
   "source": [
    "a, b = input().split(':')\n",
    "print(a, b, sep=':')"
   ]
  },
  {
   "cell_type": "code",
   "execution_count": 2,
   "id": "finite-danger",
   "metadata": {
    "ExecuteTime": {
     "end_time": "2021-05-08T10:19:03.256610Z",
     "start_time": "2021-05-08T10:18:56.664410Z"
    }
   },
   "outputs": [
    {
     "name": "stdout",
     "output_type": "stream",
     "text": [
      "2021.05.08\n",
      "08-05-2021\n"
     ]
    }
   ],
   "source": [
    "y, m, d = input().split('.')\n",
    "print(d, m, y, sep='-')"
   ]
  },
  {
   "cell_type": "code",
   "execution_count": 8,
   "id": "underlying-worker",
   "metadata": {
    "ExecuteTime": {
     "end_time": "2021-05-08T10:22:54.937842Z",
     "start_time": "2021-05-08T10:22:49.784465Z"
    }
   },
   "outputs": [
    {
     "name": "stdout",
     "output_type": "stream",
     "text": [
      "940826-25888888\n",
      "94082625888888\n"
     ]
    }
   ],
   "source": [
    "f,b = input().split('-') # input의 default는 str\n",
    "# f = str(f)\n",
    "# b = str(b)\n",
    "print(f+b)"
   ]
  },
  {
   "cell_type": "code",
   "execution_count": 9,
   "id": "measured-reducing",
   "metadata": {
    "ExecuteTime": {
     "end_time": "2021-05-08T10:26:21.421130Z",
     "start_time": "2021-05-08T10:26:18.300169Z"
    }
   },
   "outputs": [
    {
     "name": "stdout",
     "output_type": "stream",
     "text": [
      "hello\n",
      "h\n",
      "e\n",
      "l\n",
      "l\n",
      "o\n"
     ]
    }
   ],
   "source": [
    "s = input() # str도 slice가능하다\n",
    "print(s[0])\n",
    "print(s[1])\n",
    "print(s[2])\n",
    "print(s[3])\n",
    "print(s[4])"
   ]
  },
  {
   "cell_type": "code",
   "execution_count": 10,
   "id": "welsh-register",
   "metadata": {
    "ExecuteTime": {
     "end_time": "2021-05-09T03:36:56.560660Z",
     "start_time": "2021-05-09T03:36:53.419131Z"
    }
   },
   "outputs": [
    {
     "name": "stdout",
     "output_type": "stream",
     "text": [
      "210509\n",
      "21 05 09\n"
     ]
    }
   ],
   "source": [
    "s = input()\n",
    "print(s[0:2], s[2:4], s[4:6])"
   ]
  },
  {
   "cell_type": "code",
   "execution_count": 11,
   "id": "dutch-needle",
   "metadata": {
    "ExecuteTime": {
     "end_time": "2021-05-09T03:39:24.961419Z",
     "start_time": "2021-05-09T03:39:19.902775Z"
    }
   },
   "outputs": [
    {
     "name": "stdout",
     "output_type": "stream",
     "text": [
      "17:23:57\n",
      "23\n"
     ]
    }
   ],
   "source": [
    "a, b, c = input().split(':')\n",
    "print(b)"
   ]
  },
  {
   "cell_type": "code",
   "execution_count": null,
   "id": "painted-lobby",
   "metadata": {},
   "outputs": [],
   "source": [
    "w1, w2 = input().split()\n",
    "s = w1 + w2\n",
    "print(s)"
   ]
  },
  {
   "cell_type": "code",
   "execution_count": 16,
   "id": "judicial-injection",
   "metadata": {
    "ExecuteTime": {
     "end_time": "2021-05-09T03:46:59.908804Z",
     "start_time": "2021-05-09T03:46:57.252917Z"
    }
   },
   "outputs": [
    {
     "name": "stdout",
     "output_type": "stream",
     "text": [
      "0.1\n",
      "0.9\n",
      "1.0\n"
     ]
    }
   ],
   "source": [
    "a = input()\n",
    "b = input()\n",
    "s = float(a)+float(b)\n",
    "print(s)"
   ]
  },
  {
   "cell_type": "markdown",
   "id": "renewable-destination",
   "metadata": {},
   "source": [
    "10진수 형태로 입력받고  \n",
    "%x로 출력하면 16진수(hexadecimal) 소문자로 출력된다.  \n",
    "(%o로 출력하면 8진수(octal) 문자열로 출력된다.)  \n",
    " \n",
    "10진법은 한 자리에 10개(0 1 2 3 4 5 6 7 8 9)의 문자를 사용하고,  \n",
    "16진법은 영문 소문자를 사용하는 경우에 한 자리에 16개(0 1 2 3 4 5 6 7 8 9 a b c d e f)의 문자를 사용한다.  \n",
    "16진수 a는 10진수의 10, b는 11, c는 12 ... 와 같다.    \n",
    "\n",
    "https://eehoeskrap.tistory.com/260"
   ]
  },
  {
   "cell_type": "code",
   "execution_count": 23,
   "id": "printable-practitioner",
   "metadata": {
    "ExecuteTime": {
     "end_time": "2021-05-09T04:09:37.904430Z",
     "start_time": "2021-05-09T04:09:36.760364Z"
    }
   },
   "outputs": [
    {
     "name": "stdout",
     "output_type": "stream",
     "text": [
      "255\n",
      "ff\n"
     ]
    }
   ],
   "source": [
    "# printf 출력\n",
    "a = input()\n",
    "n = int(a)            #입력된 a를 10진수 값으로 변환해 변수 n에 저장\n",
    "print('%x' %n)  #n에 저장되어있는 값을 16진수(he'x'adecimal) 소문자 형태 문자열로 출력"
   ]
  },
  {
   "cell_type": "code",
   "execution_count": 24,
   "id": "positive-decline",
   "metadata": {
    "ExecuteTime": {
     "end_time": "2021-05-09T04:15:52.525664Z",
     "start_time": "2021-05-09T04:15:51.296282Z"
    }
   },
   "outputs": [
    {
     "name": "stdout",
     "output_type": "stream",
     "text": [
      "255\n",
      "FF\n"
     ]
    }
   ],
   "source": [
    "a = input()\n",
    "n = int(a)       \n",
    "print('%X' %n)  "
   ]
  },
  {
   "cell_type": "code",
   "execution_count": null,
   "id": "middle-party",
   "metadata": {},
   "outputs": [],
   "source": [
    "a = input()\n",
    "n = int(a, 16)      #입력된 a를 16진수로 인식해 변수 n에 저장\n",
    "print('%o' % n)  #n에 저장되어있는 값을 8진수(octal) 형태 문자열로 출력"
   ]
  },
  {
   "cell_type": "code",
   "execution_count": null,
   "id": "concerned-huntington",
   "metadata": {},
   "outputs": [],
   "source": [
    "# unicode(유니코드): 문자 -> 10진수 유니코드\n",
    "n = ord(input())\n",
    "print(n)"
   ]
  },
  {
   "cell_type": "code",
   "execution_count": null,
   "id": "impaired-cutting",
   "metadata": {},
   "outputs": [],
   "source": [
    "# chr( )는 정수값->문자, ord( )는 문자->정수값\n",
    "c = int(input())\n",
    "print(chr(c))  #c에 저장되어 있는 정수 값을 유니코드 문자(chracter)로 바꿔 출력한다. "
   ]
  },
  {
   "cell_type": "code",
   "execution_count": 25,
   "id": "suited-variation",
   "metadata": {
    "ExecuteTime": {
     "end_time": "2021-05-09T04:20:28.205422Z",
     "start_time": "2021-05-09T04:20:25.203410Z"
    }
   },
   "outputs": [
    {
     "name": "stdout",
     "output_type": "stream",
     "text": [
      "-1\n",
      "1\n"
     ]
    }
   ],
   "source": [
    "a = input()\n",
    "a = int(a)\n",
    "print(-a)"
   ]
  },
  {
   "cell_type": "code",
   "execution_count": 26,
   "id": "enormous-pressing",
   "metadata": {
    "ExecuteTime": {
     "end_time": "2021-05-09T04:30:51.100891Z",
     "start_time": "2021-05-09T04:30:50.333410Z"
    }
   },
   "outputs": [
    {
     "name": "stdout",
     "output_type": "stream",
     "text": [
      "a\n",
      "b\n"
     ]
    }
   ],
   "source": [
    "a = ord(input())\n",
    "b = a + 1\n",
    "print(chr(b))"
   ]
  },
  {
   "cell_type": "code",
   "execution_count": 29,
   "id": "prime-campbell",
   "metadata": {
    "ExecuteTime": {
     "end_time": "2021-05-09T04:33:41.755499Z",
     "start_time": "2021-05-09T04:33:39.141388Z"
    }
   },
   "outputs": [
    {
     "name": "stdout",
     "output_type": "stream",
     "text": [
      "123 -123\n",
      "246\n"
     ]
    }
   ],
   "source": [
    "a, b = input().split()\n",
    "a = int(a)\n",
    "b = int(b)\n",
    "print(a-b)"
   ]
  },
  {
   "cell_type": "code",
   "execution_count": 30,
   "id": "fixed-slovenia",
   "metadata": {
    "ExecuteTime": {
     "end_time": "2021-05-09T04:34:18.702331Z",
     "start_time": "2021-05-09T04:34:16.405601Z"
    }
   },
   "outputs": [
    {
     "name": "stdout",
     "output_type": "stream",
     "text": [
      "123 -123\n",
      "246\n"
     ]
    }
   ],
   "source": [
    "a, b = input().split()\n",
    "a, b = int(a), int(b)\n",
    "print(a-b)"
   ]
  },
  {
   "cell_type": "code",
   "execution_count": null,
   "id": "quiet-parks",
   "metadata": {},
   "outputs": [],
   "source": [
    "a, b = input().split()\n",
    "m = float(a)*float(b)\n",
    "print(m)"
   ]
  },
  {
   "cell_type": "code",
   "execution_count": 31,
   "id": "protective-cross",
   "metadata": {
    "ExecuteTime": {
     "end_time": "2021-05-09T04:36:35.651770Z",
     "start_time": "2021-05-09T04:36:26.857620Z"
    }
   },
   "outputs": [
    {
     "name": "stdout",
     "output_type": "stream",
     "text": [
      "abc 3\n",
      "abcabcabc\n"
     ]
    }
   ],
   "source": [
    "w, n = input().split()\n",
    "print(w*int(n))"
   ]
  },
  {
   "cell_type": "code",
   "execution_count": 33,
   "id": "heated-antenna",
   "metadata": {
    "ExecuteTime": {
     "end_time": "2021-05-09T04:37:46.174564Z",
     "start_time": "2021-05-09T04:37:36.063564Z"
    }
   },
   "outputs": [
    {
     "name": "stdout",
     "output_type": "stream",
     "text": [
      "5\n",
      "inyu king\n",
      "inyu kinginyu kinginyu kinginyu kinginyu king\n"
     ]
    }
   ],
   "source": [
    "n = input()\n",
    "s = input()\n",
    "print(int(n)*s)"
   ]
  },
  {
   "cell_type": "code",
   "execution_count": 34,
   "id": "parental-fellowship",
   "metadata": {
    "ExecuteTime": {
     "end_time": "2021-05-09T04:40:23.017995Z",
     "start_time": "2021-05-09T04:40:20.836000Z"
    }
   },
   "outputs": [
    {
     "name": "stdout",
     "output_type": "stream",
     "text": [
      "2 10\n",
      "1024\n"
     ]
    }
   ],
   "source": [
    "a, b = input().split()\n",
    "c = int(a)**int(b) \n",
    "print(c)"
   ]
  },
  {
   "cell_type": "markdown",
   "id": "concrete-michael",
   "metadata": {},
   "source": [
    "# 11th May"
   ]
  },
  {
   "cell_type": "code",
   "execution_count": 2,
   "id": "stainless-article",
   "metadata": {
    "ExecuteTime": {
     "end_time": "2021-05-11T07:07:57.041403Z",
     "start_time": "2021-05-11T07:07:52.960503Z"
    },
    "scrolled": true
   },
   "outputs": [
    {
     "name": "stdout",
     "output_type": "stream",
     "text": [
      "4.0 2.0\n",
      "16.0\n"
     ]
    }
   ],
   "source": [
    "f1, f2 = input().split()\n",
    "a = float(f1)**float(f2)\n",
    "print(a)"
   ]
  },
  {
   "cell_type": "code",
   "execution_count": 3,
   "id": "lyric-teacher",
   "metadata": {
    "ExecuteTime": {
     "end_time": "2021-05-11T07:08:59.861158Z",
     "start_time": "2021-05-11T07:08:54.730747Z"
    }
   },
   "outputs": [
    {
     "name": "stdout",
     "output_type": "stream",
     "text": [
      "10 3\n",
      "3\n"
     ]
    }
   ],
   "source": [
    "a, b = input().split()\n",
    "c = int(a)//int(b) # 몫만 출력\n",
    "print(c)"
   ]
  },
  {
   "cell_type": "code",
   "execution_count": null,
   "id": "concrete-shanghai",
   "metadata": {},
   "outputs": [],
   "source": [
    "a, b = input().split()\n",
    "c = int(a)%int(b) # 나머지만 출력\n",
    "print(c)"
   ]
  },
  {
   "cell_type": "markdown",
   "id": "detected-australia",
   "metadata": {},
   "source": [
    "# autotiome"
   ]
  },
  {
   "cell_type": "code",
   "execution_count": 10,
   "id": "unauthorized-exemption",
   "metadata": {
    "ExecuteTime": {
     "end_time": "2021-05-11T12:50:46.036858Z",
     "start_time": "2021-05-11T12:50:44.182598Z"
    },
    "scrolled": true
   },
   "outputs": [
    {
     "name": "stdout",
     "output_type": "stream",
     "text": [
      "Requirement already satisfied: ipython-autotime in /home/aiffel-dj35/anaconda3/envs/aiffel/lib/python3.7/site-packages (0.3.1)\n",
      "Requirement already satisfied: ipython in /home/aiffel-dj35/anaconda3/envs/aiffel/lib/python3.7/site-packages (from ipython-autotime) (7.20.0)\n",
      "Requirement already satisfied: pickleshare in /home/aiffel-dj35/anaconda3/envs/aiffel/lib/python3.7/site-packages (from ipython->ipython-autotime) (0.7.5)\n",
      "Requirement already satisfied: prompt-toolkit!=3.0.0,!=3.0.1,<3.1.0,>=2.0.0 in /home/aiffel-dj35/anaconda3/envs/aiffel/lib/python3.7/site-packages (from ipython->ipython-autotime) (3.0.8)\n",
      "Requirement already satisfied: setuptools>=18.5 in /home/aiffel-dj35/anaconda3/envs/aiffel/lib/python3.7/site-packages (from ipython->ipython-autotime) (52.0.0.post20210125)\n",
      "Requirement already satisfied: pygments in /home/aiffel-dj35/anaconda3/envs/aiffel/lib/python3.7/site-packages (from ipython->ipython-autotime) (2.8.0)\n",
      "Requirement already satisfied: decorator in /home/aiffel-dj35/anaconda3/envs/aiffel/lib/python3.7/site-packages (from ipython->ipython-autotime) (4.4.2)\n",
      "Requirement already satisfied: jedi>=0.16 in /home/aiffel-dj35/anaconda3/envs/aiffel/lib/python3.7/site-packages (from ipython->ipython-autotime) (0.18.0)\n",
      "Requirement already satisfied: pexpect>4.3 in /home/aiffel-dj35/anaconda3/envs/aiffel/lib/python3.7/site-packages (from ipython->ipython-autotime) (4.8.0)\n",
      "Requirement already satisfied: backcall in /home/aiffel-dj35/anaconda3/envs/aiffel/lib/python3.7/site-packages (from ipython->ipython-autotime) (0.2.0)\n",
      "Requirement already satisfied: traitlets>=4.2 in /home/aiffel-dj35/anaconda3/envs/aiffel/lib/python3.7/site-packages (from ipython->ipython-autotime) (5.0.5)\n",
      "Requirement already satisfied: parso<0.9.0,>=0.8.0 in /home/aiffel-dj35/anaconda3/envs/aiffel/lib/python3.7/site-packages (from jedi>=0.16->ipython->ipython-autotime) (0.8.1)\n",
      "Requirement already satisfied: ptyprocess>=0.5 in /home/aiffel-dj35/anaconda3/envs/aiffel/lib/python3.7/site-packages (from pexpect>4.3->ipython->ipython-autotime) (0.7.0)\n",
      "Requirement already satisfied: wcwidth in /home/aiffel-dj35/anaconda3/envs/aiffel/lib/python3.7/site-packages (from prompt-toolkit!=3.0.0,!=3.0.1,<3.1.0,>=2.0.0->ipython->ipython-autotime) (0.2.5)\n",
      "Requirement already satisfied: ipython-genutils in /home/aiffel-dj35/anaconda3/envs/aiffel/lib/python3.7/site-packages (from traitlets>=4.2->ipython->ipython-autotime) (0.2.0)\n",
      "time: 918 µs (started: 2021-05-11 21:50:46 +09:00)\n"
     ]
    }
   ],
   "source": [
    "!pip install ipython-autotime\n",
    "%load_ext autotime"
   ]
  },
  {
   "cell_type": "code",
   "execution_count": 5,
   "id": "marine-affect",
   "metadata": {
    "ExecuteTime": {
     "end_time": "2021-05-11T07:15:38.123620Z",
     "start_time": "2021-05-11T07:15:31.917478Z"
    }
   },
   "outputs": [
    {
     "name": "stdout",
     "output_type": "stream",
     "text": [
      "3.141592\n",
      "3.14\n",
      "time: 6.2 s (started: 2021-05-11 16:15:31 +09:00)\n"
     ]
    }
   ],
   "source": [
    "# 소숫점이하 자리\n",
    "a=float(input())\n",
    "print( format(a, \".2f\") )"
   ]
  },
  {
   "cell_type": "code",
   "execution_count": 6,
   "id": "promotional-constant",
   "metadata": {
    "ExecuteTime": {
     "end_time": "2021-05-11T07:16:01.840449Z",
     "start_time": "2021-05-11T07:15:59.105134Z"
    }
   },
   "outputs": [
    {
     "name": "stdout",
     "output_type": "stream",
     "text": [
      "3.141592\n",
      "3.14\n",
      "time: 2.73 s (started: 2021-05-11 16:15:59 +09:00)\n"
     ]
    }
   ],
   "source": [
    "a=float(input())\n",
    "print(round(a, 2))"
   ]
  },
  {
   "cell_type": "markdown",
   "id": "brutal-fashion",
   "metadata": {},
   "source": [
    "round가 포멧보다 훨씬 빠르다."
   ]
  },
  {
   "cell_type": "code",
   "execution_count": 12,
   "id": "separate-commissioner",
   "metadata": {
    "ExecuteTime": {
     "end_time": "2021-05-11T07:20:14.008002Z",
     "start_time": "2021-05-11T07:20:12.325916Z"
    }
   },
   "outputs": [
    {
     "name": "stdout",
     "output_type": "stream",
     "text": [
      "10.0 0.0001\n",
      "100000.0\n",
      "time: 1.68 s (started: 2021-05-11 16:20:12 +09:00)\n"
     ]
    }
   ],
   "source": [
    "f1, f2 = input().split()\n",
    "a = round(float(f1)/float(f2), 3)\n",
    "print(a)"
   ]
  },
  {
   "cell_type": "markdown",
   "id": "parliamentary-solid",
   "metadata": {},
   "source": [
    "round는 위의 경우처럼 나누어 떨어지는 경우에 소숫점 첫째자리까지만 허용한다.   \n",
    "이 경우에 원하는 자리까지 0을 출력하고 싶을 때 format을 써야 한다.\n"
   ]
  },
  {
   "cell_type": "code",
   "execution_count": 13,
   "id": "sensitive-windsor",
   "metadata": {
    "ExecuteTime": {
     "end_time": "2021-05-11T07:21:38.866497Z",
     "start_time": "2021-05-11T07:21:34.707299Z"
    }
   },
   "outputs": [
    {
     "name": "stdout",
     "output_type": "stream",
     "text": [
      "10.0 0.0001\n",
      "100000.000\n",
      "time: 4.15 s (started: 2021-05-11 16:21:34 +09:00)\n"
     ]
    }
   ],
   "source": [
    "f1, f2 = input().split()\n",
    "a = format(float(f1)/float(f2), \".3f\")\n",
    "print(a)"
   ]
  },
  {
   "cell_type": "code",
   "execution_count": 14,
   "id": "wooden-stack",
   "metadata": {
    "ExecuteTime": {
     "end_time": "2021-05-11T07:24:54.473180Z",
     "start_time": "2021-05-11T07:24:50.269683Z"
    }
   },
   "outputs": [
    {
     "name": "stdout",
     "output_type": "stream",
     "text": [
      "10 3\n",
      "13\n",
      "7\n",
      "30\n",
      "3\n",
      "1\n",
      "3.33\n",
      "time: 4.19 s (started: 2021-05-11 16:24:50 +09:00)\n"
     ]
    }
   ],
   "source": [
    "a, b = input().split()\n",
    "a, b = int(a), int(b)\n",
    "print(a+b)\n",
    "print(a-b)\n",
    "print(a*b)\n",
    "print(a//b)\n",
    "print(a%b)\n",
    "print(format(a/b, \".2f\"))"
   ]
  },
  {
   "cell_type": "code",
   "execution_count": 16,
   "id": "cardiac-shield",
   "metadata": {
    "ExecuteTime": {
     "end_time": "2021-05-11T07:27:09.731504Z",
     "start_time": "2021-05-11T07:27:06.086093Z"
    }
   },
   "outputs": [
    {
     "name": "stdout",
     "output_type": "stream",
     "text": [
      "1 2 3\n",
      "6 2.00\n",
      "time: 3.64 s (started: 2021-05-11 16:27:06 +09:00)\n"
     ]
    }
   ],
   "source": [
    "a, b, c = input().split()\n",
    "d = int(a)+int(b)+int(c)\n",
    "print(d, format(d/3, \".2f\"))"
   ]
  },
  {
   "cell_type": "code",
   "execution_count": 17,
   "id": "baking-norfolk",
   "metadata": {
    "ExecuteTime": {
     "end_time": "2021-05-11T07:28:46.359971Z",
     "start_time": "2021-05-11T07:28:43.689339Z"
    }
   },
   "outputs": [
    {
     "name": "stdout",
     "output_type": "stream",
     "text": [
      "1024\n",
      "2048\n",
      "time: 2.67 s (started: 2021-05-11 16:28:43 +09:00)\n"
     ]
    }
   ],
   "source": [
    "a = int(input())\n",
    "print(2*a)"
   ]
  },
  {
   "cell_type": "markdown",
   "id": "accepting-convenience",
   "metadata": {},
   "source": [
    "http://tcpschool.com/c/c_refer_bitCalculation  \n",
    "비트단위시프트를 왜 쓰는지"
   ]
  },
  {
   "cell_type": "code",
   "execution_count": 18,
   "id": "linear-oracle",
   "metadata": {
    "ExecuteTime": {
     "end_time": "2021-05-11T07:29:44.682003Z",
     "start_time": "2021-05-11T07:29:42.227554Z"
    }
   },
   "outputs": [
    {
     "name": "stdout",
     "output_type": "stream",
     "text": [
      "1024\n",
      "2048\n",
      "time: 2.45 s (started: 2021-05-11 16:29:42 +09:00)\n"
     ]
    }
   ],
   "source": [
    "# 비트단위시프트연산자 <<, >>를 이용\n",
    "a = int(input())\n",
    "print(a<<1)"
   ]
  },
  {
   "cell_type": "code",
   "execution_count": 22,
   "id": "cordless-recovery",
   "metadata": {
    "ExecuteTime": {
     "end_time": "2021-05-11T07:30:40.124198Z",
     "start_time": "2021-05-11T07:30:37.925526Z"
    }
   },
   "outputs": [
    {
     "name": "stdout",
     "output_type": "stream",
     "text": [
      "1073741823\n",
      "2147483646\n",
      "time: 2.19 s (started: 2021-05-11 16:30:37 +09:00)\n"
     ]
    }
   ],
   "source": [
    "a = int(input())\n",
    "print(2*a)"
   ]
  },
  {
   "cell_type": "code",
   "execution_count": 21,
   "id": "political-single",
   "metadata": {
    "ExecuteTime": {
     "end_time": "2021-05-11T07:30:34.301075Z",
     "start_time": "2021-05-11T07:30:29.545400Z"
    }
   },
   "outputs": [
    {
     "name": "stdout",
     "output_type": "stream",
     "text": [
      "1073741823\n",
      "2147483646\n",
      "time: 4.75 s (started: 2021-05-11 16:30:29 +09:00)\n"
     ]
    }
   ],
   "source": [
    "# 비트단위시프트연산자 <<, >>를 이용\n",
    "a = int(input())\n",
    "print(a<<1)"
   ]
  },
  {
   "attachments": {
    "image.png": {
     "image/png": "[encoded data removed]"
    }
   },
   "cell_type": "markdown",
   "id": "driven-republican",
   "metadata": {},
   "source": [
    "비트 연산자가 효율적인지 확인이 필요하다.  \n",
    "![image.png](attachment:image.png)"
   ]
  },
  {
   "cell_type": "code",
   "execution_count": 23,
   "id": "willing-retail",
   "metadata": {
    "ExecuteTime": {
     "end_time": "2021-05-11T07:33:10.981674Z",
     "start_time": "2021-05-11T07:33:07.371877Z"
    }
   },
   "outputs": [
    {
     "name": "stdout",
     "output_type": "stream",
     "text": [
      "1 3\n",
      "8\n",
      "time: 3.61 s (started: 2021-05-11 16:33:07 +09:00)\n"
     ]
    }
   ],
   "source": [
    "a, b = input().split()\n",
    "print(int(a)<<int(b))"
   ]
  },
  {
   "cell_type": "code",
   "execution_count": 26,
   "id": "empirical-milwaukee",
   "metadata": {
    "ExecuteTime": {
     "end_time": "2021-05-11T07:37:03.359527Z",
     "start_time": "2021-05-11T07:37:00.800689Z"
    }
   },
   "outputs": [
    {
     "name": "stdout",
     "output_type": "stream",
     "text": [
      "10 3\n",
      "False\n",
      "time: 2.55 s (started: 2021-05-11 16:37:00 +09:00)\n"
     ]
    }
   ],
   "source": [
    "a, b = input().split()\n",
    "if int(a)<int(b) :\n",
    "    print(\"True\")\n",
    "else :\n",
    "    print('False')"
   ]
  },
  {
   "cell_type": "code",
   "execution_count": 27,
   "id": "coupled-upper",
   "metadata": {
    "ExecuteTime": {
     "end_time": "2021-05-11T07:38:06.086291Z",
     "start_time": "2021-05-11T07:38:04.328447Z"
    }
   },
   "outputs": [
    {
     "name": "stdout",
     "output_type": "stream",
     "text": [
      "10 3\n",
      "False\n",
      "time: 1.75 s (started: 2021-05-11 16:38:04 +09:00)\n"
     ]
    }
   ],
   "source": [
    "a, b = input().split()\n",
    "a = int(a)\n",
    "b = int(b)\n",
    "print(a<b)"
   ]
  },
  {
   "cell_type": "markdown",
   "id": "listed-leonard",
   "metadata": {},
   "source": [
    "bool dtype 을 쓸 줄 알아야한다.  \n",
    "어떤 값을 비교하기 위해 비교/관계(comparison/relational) 연산자(operator)를 사용할 수 있다.\n",
    "비교/관계연산자는 <, >, <=, >=, ==(같다), !=(다르다) 6개  \n",
    "True(참) 또는 False(거짓) 값으로만 표현하고 저장하는 값을 불(bool)/불리언(boolean) 값"
   ]
  },
  {
   "cell_type": "code",
   "execution_count": 28,
   "id": "fabulous-maple",
   "metadata": {
    "ExecuteTime": {
     "end_time": "2021-05-11T07:40:48.522515Z",
     "start_time": "2021-05-11T07:40:46.645185Z"
    }
   },
   "outputs": [
    {
     "name": "stdout",
     "output_type": "stream",
     "text": [
      "10 3\n",
      "False\n",
      "time: 1.87 s (started: 2021-05-11 16:40:46 +09:00)\n"
     ]
    }
   ],
   "source": [
    "a, b = input().split()\n",
    "a, b = int(a), int(b)\n",
    "print(a==b)"
   ]
  },
  {
   "cell_type": "code",
   "execution_count": 32,
   "id": "standard-minister",
   "metadata": {
    "ExecuteTime": {
     "end_time": "2021-05-11T07:42:06.528036Z",
     "start_time": "2021-05-11T07:42:04.244776Z"
    }
   },
   "outputs": [
    {
     "name": "stdout",
     "output_type": "stream",
     "text": [
      "0 -1\n",
      "False\n",
      "time: 2.28 s (started: 2021-05-11 16:42:04 +09:00)\n"
     ]
    }
   ],
   "source": [
    "a, b = input().split()\n",
    "a, b = int(a), int(b)\n",
    "print(a<=b)\n",
    "# print(a=<b) # error 난다."
   ]
  },
  {
   "cell_type": "code",
   "execution_count": 35,
   "id": "inside-excitement",
   "metadata": {
    "ExecuteTime": {
     "end_time": "2021-05-11T07:42:58.821871Z",
     "start_time": "2021-05-11T07:42:56.948046Z"
    }
   },
   "outputs": [
    {
     "name": "stdout",
     "output_type": "stream",
     "text": [
      "1 1\n",
      "False\n",
      "time: 1.87 s (started: 2021-05-11 16:42:56 +09:00)\n"
     ]
    }
   ],
   "source": [
    "a, b = input().split()\n",
    "a, b = int(a), int(b)\n",
    "print(a!=b)"
   ]
  },
  {
   "cell_type": "code",
   "execution_count": 38,
   "id": "impressed-fiber",
   "metadata": {
    "ExecuteTime": {
     "end_time": "2021-05-11T07:43:47.685331Z",
     "start_time": "2021-05-11T07:43:47.182125Z"
    }
   },
   "outputs": [
    {
     "name": "stdout",
     "output_type": "stream",
     "text": [
      "0\n",
      "False\n",
      "time: 500 ms (started: 2021-05-11 16:43:47 +09:00)\n"
     ]
    }
   ],
   "source": [
    "n = int(input())\n",
    "print(bool(n)) \n",
    "# python 언어에서 정수값 0은 False(거짓)로 평가되고, 그 외의 값들은 모두 True(참)로 평가"
   ]
  },
  {
   "cell_type": "code",
   "execution_count": 39,
   "id": "divine-interface",
   "metadata": {
    "ExecuteTime": {
     "end_time": "2021-05-11T07:45:36.950201Z",
     "start_time": "2021-05-11T07:45:36.170053Z"
    }
   },
   "outputs": [
    {
     "name": "stdout",
     "output_type": "stream",
     "text": [
      "0\n",
      "True\n",
      "time: 774 ms (started: 2021-05-11 16:45:36 +09:00)\n"
     ]
    }
   ],
   "source": [
    "a = bool(int(input()))\n",
    "print(not a)"
   ]
  },
  {
   "cell_type": "code",
   "execution_count": 40,
   "id": "danish-symposium",
   "metadata": {
    "ExecuteTime": {
     "end_time": "2021-05-11T07:45:47.773304Z",
     "start_time": "2021-05-11T07:45:43.876708Z"
    }
   },
   "outputs": [
    {
     "name": "stdout",
     "output_type": "stream",
     "text": [
      "100\n",
      "False\n",
      "time: 3.89 s (started: 2021-05-11 16:45:43 +09:00)\n"
     ]
    }
   ],
   "source": [
    "a = bool(int(input()))\n",
    "print(not a)"
   ]
  },
  {
   "cell_type": "code",
   "execution_count": 41,
   "id": "boxed-hometown",
   "metadata": {
    "ExecuteTime": {
     "end_time": "2021-05-11T07:46:24.496583Z",
     "start_time": "2021-05-11T07:46:17.600593Z"
    }
   },
   "outputs": [
    {
     "name": "stdout",
     "output_type": "stream",
     "text": [
      "5 7\n",
      "True\n",
      "time: 6.89 s (started: 2021-05-11 16:46:17 +09:00)\n"
     ]
    }
   ],
   "source": [
    "a, b = input().split()\n",
    "print(bool(int(a)) and bool(int(b)))"
   ]
  },
  {
   "cell_type": "code",
   "execution_count": 43,
   "id": "transsexual-maintenance",
   "metadata": {
    "ExecuteTime": {
     "end_time": "2021-05-11T07:46:56.450915Z",
     "start_time": "2021-05-11T07:46:54.396200Z"
    }
   },
   "outputs": [
    {
     "name": "stdout",
     "output_type": "stream",
     "text": [
      "0 1\n",
      "True\n",
      "time: 2.05 s (started: 2021-05-11 16:46:54 +09:00)\n"
     ]
    }
   ],
   "source": [
    "a, b = input().split()\n",
    "print(bool(int(a)) or bool(int(b)))"
   ]
  },
  {
   "cell_type": "code",
   "execution_count": 47,
   "id": "chubby-storage",
   "metadata": {
    "ExecuteTime": {
     "end_time": "2021-05-11T07:48:17.249037Z",
     "start_time": "2021-05-11T07:48:17.240612Z"
    }
   },
   "outputs": [
    {
     "name": "stdout",
     "output_type": "stream",
     "text": [
      "time: 981 µs (started: 2021-05-11 16:48:17 +09:00)\n"
     ]
    }
   ],
   "source": [
    "a, b = 0, 1"
   ]
  },
  {
   "cell_type": "code",
   "execution_count": 48,
   "id": "activated-creativity",
   "metadata": {
    "ExecuteTime": {
     "end_time": "2021-05-11T07:48:25.109455Z",
     "start_time": "2021-05-11T07:48:25.102872Z"
    }
   },
   "outputs": [
    {
     "name": "stdout",
     "output_type": "stream",
     "text": [
      "True\n",
      "time: 2.24 ms (started: 2021-05-11 16:48:25 +09:00)\n"
     ]
    }
   ],
   "source": [
    "# a, b = input().split()\n",
    "print(bool(int(a)) != bool(int(b)))"
   ]
  },
  {
   "cell_type": "code",
   "execution_count": 49,
   "id": "tight-wallace",
   "metadata": {
    "ExecuteTime": {
     "end_time": "2021-05-11T07:48:25.406516Z",
     "start_time": "2021-05-11T07:48:25.403963Z"
    }
   },
   "outputs": [
    {
     "name": "stdout",
     "output_type": "stream",
     "text": [
      "True\n",
      "time: 392 µs (started: 2021-05-11 16:48:25 +09:00)\n"
     ]
    }
   ],
   "source": [
    "a, b = input().split()\n",
    "c = bool(int(a))\n",
    "d = bool(int(b))\n",
    "print((c and (not d)) or ((not c) and d))"
   ]
  },
  {
   "cell_type": "markdown",
   "id": "indirect-yacht",
   "metadata": {},
   "source": [
    "불 대수(boolean algebra)는 수학자 불이 만들어낸 것으로 True(참)/False(거짓) 값만 가지는 논리값과 그 값들 사이의 연산을 다룬다.  \n",
    "불 대수가 비교보다 빠르다."
   ]
  },
  {
   "cell_type": "code",
   "execution_count": 53,
   "id": "marked-karma",
   "metadata": {
    "ExecuteTime": {
     "end_time": "2021-05-11T07:51:16.094313Z",
     "start_time": "2021-05-11T07:51:15.183128Z"
    }
   },
   "outputs": [
    {
     "name": "stdout",
     "output_type": "stream",
     "text": [
      "0 0\n",
      "True\n",
      "time: 907 ms (started: 2021-05-11 16:51:15 +09:00)\n"
     ]
    }
   ],
   "source": [
    "a, b = input().split()\n",
    "c = bool(int(a))\n",
    "d = bool(int(b))\n",
    "print(c == d)"
   ]
  },
  {
   "cell_type": "code",
   "execution_count": 54,
   "id": "adaptive-liberty",
   "metadata": {
    "ExecuteTime": {
     "end_time": "2021-05-11T07:51:46.691525Z",
     "start_time": "2021-05-11T07:51:44.225925Z"
    }
   },
   "outputs": [
    {
     "name": "stdout",
     "output_type": "stream",
     "text": [
      "0 0\n",
      "True\n",
      "time: 2.46 s (started: 2021-05-11 16:51:44 +09:00)\n"
     ]
    }
   ],
   "source": [
    "a, b = input().split()\n",
    "a = bool(int(a))\n",
    "b = bool(int(b))\n",
    "print((a and b) or (not a and not b))"
   ]
  },
  {
   "cell_type": "code",
   "execution_count": 2,
   "id": "contrary-reproduction",
   "metadata": {
    "ExecuteTime": {
     "end_time": "2021-05-11T12:27:45.085736Z",
     "start_time": "2021-05-11T12:27:42.690069Z"
    }
   },
   "outputs": [
    {
     "name": "stdout",
     "output_type": "stream",
     "text": [
      "0 1\n",
      "False\n"
     ]
    }
   ],
   "source": [
    "a, b = input().split()\n",
    "a = bool(int(a))\n",
    "b = bool(int(b))\n",
    "print(not a and not b) # not a 와 not b가 true일때 True 출력"
   ]
  },
  {
   "cell_type": "code",
   "execution_count": 4,
   "id": "impaired-coalition",
   "metadata": {
    "ExecuteTime": {
     "end_time": "2021-05-11T12:32:17.848204Z",
     "start_time": "2021-05-11T12:32:15.668736Z"
    }
   },
   "outputs": [
    {
     "name": "stdout",
     "output_type": "stream",
     "text": [
      "2\n",
      "-3\n"
     ]
    }
   ],
   "source": [
    "a = int(input())\n",
    "print(~a)"
   ]
  },
  {
   "attachments": {
    "image.png": {
     "image/png": "[encoded data removed]"
    }
   },
   "cell_type": "markdown",
   "id": "italian-antigua",
   "metadata": {},
   "source": [
    "**bitwise not**\n",
    "![image.png](attachment:image.png)"
   ]
  },
  {
   "cell_type": "code",
   "execution_count": 5,
   "id": "extreme-burner",
   "metadata": {
    "ExecuteTime": {
     "end_time": "2021-05-11T12:37:39.008929Z",
     "start_time": "2021-05-11T12:37:37.574671Z"
    }
   },
   "outputs": [
    {
     "name": "stdout",
     "output_type": "stream",
     "text": [
      "3 5\n",
      "1\n"
     ]
    }
   ],
   "source": [
    "a, b = input().split()\n",
    "a, b = int(a), int(b)\n",
    "print(a & b)"
   ]
  },
  {
   "cell_type": "code",
   "execution_count": 6,
   "id": "alive-collins",
   "metadata": {
    "ExecuteTime": {
     "end_time": "2021-05-11T12:38:50.140209Z",
     "start_time": "2021-05-11T12:38:48.724944Z"
    }
   },
   "outputs": [
    {
     "name": "stdout",
     "output_type": "stream",
     "text": [
      "3 5\n",
      "7\n"
     ]
    }
   ],
   "source": [
    "a, b = input().split()\n",
    "a, b = int(a), int(b)\n",
    "print(a|b)"
   ]
  },
  {
   "cell_type": "code",
   "execution_count": 7,
   "id": "casual-choice",
   "metadata": {
    "ExecuteTime": {
     "end_time": "2021-05-11T12:39:54.682222Z",
     "start_time": "2021-05-11T12:39:52.396516Z"
    }
   },
   "outputs": [
    {
     "name": "stdout",
     "output_type": "stream",
     "text": [
      "3 5\n",
      "6\n"
     ]
    }
   ],
   "source": [
    "a, b = input().split()\n",
    "a, b = int(a), int(b)\n",
    "print(a^b) # 서로 다를 때 1"
   ]
  },
  {
   "cell_type": "code",
   "execution_count": 14,
   "id": "imperial-arena",
   "metadata": {
    "ExecuteTime": {
     "end_time": "2021-05-11T12:52:08.829146Z",
     "start_time": "2021-05-11T12:52:04.684699Z"
    }
   },
   "outputs": [
    {
     "name": "stdout",
     "output_type": "stream",
     "text": [
      "123456789 789456123\n",
      "789456123\n",
      "time: 4.14 s (started: 2021-05-11 21:52:04 +09:00)\n"
     ]
    }
   ],
   "source": [
    "a, b = input().split()\n",
    "a = int(a) \n",
    "b = int(b)\n",
    "c = (a if (a>=b) else b)\n",
    "print(int(c))"
   ]
  },
  {
   "cell_type": "code",
   "execution_count": 13,
   "id": "stone-decline",
   "metadata": {
    "ExecuteTime": {
     "end_time": "2021-05-11T12:52:01.627067Z",
     "start_time": "2021-05-11T12:51:56.674368Z"
    }
   },
   "outputs": [
    {
     "name": "stdout",
     "output_type": "stream",
     "text": [
      "123456789 789456123\n",
      "789456123\n",
      "time: 4.94 s (started: 2021-05-11 21:51:56 +09:00)\n"
     ]
    }
   ],
   "source": [
    "a, b = input().split()\n",
    "a = int(a) \n",
    "b = int(b)\n",
    "if a>=b :\n",
    "    c = a\n",
    "else :\n",
    "    c = b\n",
    "print(c)"
   ]
  },
  {
   "cell_type": "code",
   "execution_count": 20,
   "id": "united-appraisal",
   "metadata": {
    "ExecuteTime": {
     "end_time": "2021-05-11T12:58:10.874385Z",
     "start_time": "2021-05-11T12:58:08.950418Z"
    }
   },
   "outputs": [
    {
     "name": "stdout",
     "output_type": "stream",
     "text": [
      "0 1 -2\n",
      "-2\n",
      "time: 1.92 s (started: 2021-05-11 21:58:08 +09:00)\n"
     ]
    }
   ],
   "source": [
    "a, b, c = input().split()\n",
    "a, b, c = int(a), int(b), int(c)\n",
    "d = a if a<b else b\n",
    "e = d if d<c else c\n",
    "print(e)"
   ]
  },
  {
   "cell_type": "code",
   "execution_count": null,
   "id": "invisible-terminal",
   "metadata": {},
   "outputs": [],
   "source": [
    "a, b, c = input().split()\n",
    "\n",
    "a = int(a)\n",
    "b = int(b)\n",
    "c = int(c)\n",
    "\n",
    "if a%2==0 :  #논리적으로 한 단위로 처리해야하는 경우 콜론(:)을 찍고, 들여쓰기로 작성 한다.\n",
    "    print(a)\n",
    "\n",
    "if b%2==0 :\n",
    "    print(b) \n",
    "\n",
    "if c%2==0 :\n",
    "    print(c) "
   ]
  },
  {
   "cell_type": "code",
   "execution_count": 21,
   "id": "necessary-seminar",
   "metadata": {
    "ExecuteTime": {
     "end_time": "2021-05-11T13:00:20.762676Z",
     "start_time": "2021-05-11T13:00:19.482755Z"
    }
   },
   "outputs": [
    {
     "name": "stdout",
     "output_type": "stream",
     "text": [
      "1 2 3\n",
      "odd\n",
      "even\n",
      "odd\n",
      "time: 1.27 s (started: 2021-05-11 22:00:19 +09:00)\n"
     ]
    }
   ],
   "source": [
    "a, b, c = input().split()\n",
    "\n",
    "a = int(a)\n",
    "b = int(b)\n",
    "c = int(c)\n",
    "\n",
    "for i in [a,b,c]:\n",
    "    if i%2==0 :\n",
    "        print(\"even\")\n",
    "    else :\n",
    "        print(\"odd\") "
   ]
  },
  {
   "cell_type": "code",
   "execution_count": 22,
   "id": "powerful-result",
   "metadata": {
    "ExecuteTime": {
     "end_time": "2021-05-11T13:01:10.888145Z",
     "start_time": "2021-05-11T13:01:07.983637Z"
    }
   },
   "outputs": [
    {
     "name": "stdout",
     "output_type": "stream",
     "text": [
      "1 2 3\n",
      "odd\n",
      "even\n",
      "odd\n",
      "time: 2.9 s (started: 2021-05-11 22:01:07 +09:00)\n"
     ]
    }
   ],
   "source": [
    "a, b, c = input().split()\n",
    "\n",
    "a = int(a)\n",
    "b = int(b)\n",
    "c = int(c)\n",
    "\n",
    "if a%2==0 :\n",
    "    print(\"even\")\n",
    "else :\n",
    "    print(\"odd\") \n",
    "    \n",
    "if b%2==0 :\n",
    "    print(\"even\")\n",
    "else :\n",
    "    print(\"odd\") \n",
    "    \n",
    "if c%2==0 :\n",
    "    print(\"even\")\n",
    "else :\n",
    "    print(\"odd\") "
   ]
  },
  {
   "cell_type": "code",
   "execution_count": 23,
   "id": "charming-ballet",
   "metadata": {
    "ExecuteTime": {
     "end_time": "2021-05-11T13:14:00.541242Z",
     "start_time": "2021-05-11T13:13:58.752260Z"
    }
   },
   "outputs": [
    {
     "name": "stdout",
     "output_type": "stream",
     "text": [
      "8\n",
      "C\n",
      "time: 1.79 s (started: 2021-05-11 22:13:58 +09:00)\n"
     ]
    }
   ],
   "source": [
    "a = int(input())\n",
    "if a<0:\n",
    "    if a%2 == 0:\n",
    "        print(\"A\")\n",
    "    else :\n",
    "        print(\"B\")\n",
    "if a>0:\n",
    "    if a%2 == 0:\n",
    "        print(\"C\")\n",
    "    else :\n",
    "        print(\"D\")"
   ]
  },
  {
   "cell_type": "code",
   "execution_count": 24,
   "id": "athletic-senegal",
   "metadata": {
    "ExecuteTime": {
     "end_time": "2021-05-11T13:17:47.709692Z",
     "start_time": "2021-05-11T13:17:46.897175Z"
    }
   },
   "outputs": [
    {
     "name": "stdout",
     "output_type": "stream",
     "text": [
      "73\n",
      "B\n",
      "time: 804 ms (started: 2021-05-11 22:17:46 +09:00)\n"
     ]
    }
   ],
   "source": [
    "a = int(input())\n",
    "if a>=90 :\n",
    "    print(\"A\")\n",
    "elif 90>a>=70 :\n",
    "    print(\"B\")\n",
    "elif 70>a>=40 :\n",
    "    print(\"C\")\n",
    "else :\n",
    "    print(\"D\")"
   ]
  },
  {
   "cell_type": "code",
   "execution_count": 29,
   "id": "suited-louis",
   "metadata": {
    "ExecuteTime": {
     "end_time": "2021-05-11T13:18:42.569176Z",
     "start_time": "2021-05-11T13:18:41.209720Z"
    }
   },
   "outputs": [
    {
     "name": "stdout",
     "output_type": "stream",
     "text": [
      "73\n",
      "B\n",
      "time: 1.35 s (started: 2021-05-11 22:18:41 +09:00)\n"
     ]
    }
   ],
   "source": [
    "n = int(input())\n",
    "if n>=90 :\n",
    "    print('A')\n",
    "else :\n",
    "    if n>=70 :\n",
    "        print('B')\n",
    "    else :\n",
    "        if n>=40 :\n",
    "            print('C')\n",
    "        else :\n",
    "            print('D') "
   ]
  },
  {
   "cell_type": "code",
   "execution_count": 31,
   "id": "cubic-turkey",
   "metadata": {
    "ExecuteTime": {
     "end_time": "2021-05-11T13:29:20.251295Z",
     "start_time": "2021-05-11T13:29:18.895937Z"
    }
   },
   "outputs": [
    {
     "name": "stdout",
     "output_type": "stream",
     "text": [
      "A\n",
      "best!!!\n",
      "time: 1.35 s (started: 2021-05-11 22:29:18 +09:00)\n"
     ]
    }
   ],
   "source": [
    "a = input()\n",
    "if a == 'A' :\n",
    "    print(\"best!!!\")\n",
    "elif a == 'B' :\n",
    "    print(\"good!!\")\n",
    "elif a == 'C' :\n",
    "    print(\"run!\")\n",
    "elif a == 'D' :\n",
    "    print(\"slowly~\")\n",
    "else :\n",
    "    print(\"what?\")"
   ]
  },
  {
   "cell_type": "code",
   "execution_count": 89,
   "id": "blond-probe",
   "metadata": {
    "ExecuteTime": {
     "end_time": "2021-05-11T15:39:16.693134Z",
     "start_time": "2021-05-11T15:39:15.317855Z"
    }
   },
   "outputs": [
    {
     "name": "stdout",
     "output_type": "stream",
     "text": [
      "13\n",
      "fall\n",
      "time: 1.37 s (started: 2021-05-12 00:39:15 +09:00)\n"
     ]
    }
   ],
   "source": [
    "a = input()\n",
    "if a == '12' or a =='1' or  a =='2':\n",
    "    print('winter')\n",
    "elif a == '3' or a =='4' or a =='5' :\n",
    "    print('spring')\n",
    "elif a == '6' or a =='7' or a =='8' :\n",
    "    print('summer')\n",
    "else :\n",
    "    print('fall')\n",
    "    \n",
    "# any 함수 by 성은님 : https://blockdmask.tistory.com/430"
   ]
  },
  {
   "cell_type": "code",
   "execution_count": 90,
   "id": "decreased-research",
   "metadata": {
    "ExecuteTime": {
     "end_time": "2021-05-11T15:39:23.724363Z",
     "start_time": "2021-05-11T15:39:22.419864Z"
    }
   },
   "outputs": [
    {
     "name": "stdout",
     "output_type": "stream",
     "text": [
      "13\n",
      "winter\n",
      "time: 1.3 s (started: 2021-05-12 00:39:22 +09:00)\n"
     ]
    }
   ],
   "source": [
    "a = int(input())\n",
    "if  a//3 == 1:\n",
    "    print('spring')\n",
    "elif a//3 == 2 :\n",
    "    print('summer')\n",
    "elif a//3 == 3 :\n",
    "    print('fall')\n",
    "else :\n",
    "    print('winter')"
   ]
  },
  {
   "cell_type": "code",
   "execution_count": 44,
   "id": "static-pontiac",
   "metadata": {
    "ExecuteTime": {
     "end_time": "2021-05-11T14:26:39.306322Z",
     "start_time": "2021-05-11T14:26:34.394553Z"
    }
   },
   "outputs": [
    {
     "name": "stdout",
     "output_type": "stream",
     "text": [
      "7\n",
      "7\n",
      "4\n",
      "4\n",
      "0\n",
      "time: 4.91 s (started: 2021-05-11 23:26:34 +09:00)\n"
     ]
    }
   ],
   "source": [
    "a = 1\n",
    "while a != 0:\n",
    "    a = int(input())\n",
    "    if a!=0:\n",
    "        print(a)\n",
    "        continue\n",
    "    else :\n",
    "        continue"
   ]
  },
  {
   "cell_type": "code",
   "execution_count": null,
   "id": "hollywood-reaction",
   "metadata": {},
   "outputs": [],
   "source": [
    "# 추천 코드\n",
    "while True: # while에 조건식 대신 True를 지정하면 무한히 반복하는 무한 루프가 만들어집니다.\n",
    "    a=int(input())\n",
    "    if a==0:\n",
    "        break\n",
    "    else:\n",
    "        print(a)"
   ]
  },
  {
   "cell_type": "code",
   "execution_count": null,
   "id": "oriental-multiple",
   "metadata": {},
   "outputs": [],
   "source": [
    "# while 1:    # 0이 아닌 숫자는 True로 취급하여 무한 루프로 동작\n",
    "    print('Hello, world!')"
   ]
  },
  {
   "cell_type": "code",
   "execution_count": null,
   "id": "daily-broad",
   "metadata": {},
   "outputs": [],
   "source": [
    "# while 'Hello':    # 내용이 있는 문자열은 True로 취급하여 무한 루프로 동작\n",
    "    print('Hello, world!')"
   ]
  },
  {
   "cell_type": "code",
   "execution_count": 46,
   "id": "raised-conflict",
   "metadata": {
    "ExecuteTime": {
     "end_time": "2021-05-11T14:47:31.585769Z",
     "start_time": "2021-05-11T14:47:26.959618Z"
    }
   },
   "outputs": [
    {
     "name": "stdout",
     "output_type": "stream",
     "text": [
      "5\n",
      "5\n",
      "4\n",
      "3\n",
      "2\n",
      "1\n",
      "time: 4.62 s (started: 2021-05-11 23:47:26 +09:00)\n"
     ]
    }
   ],
   "source": [
    "while True:\n",
    "    a = int(input())\n",
    "    while a != 0:\n",
    "        print(a)\n",
    "        a -= 1\n",
    "        continue\n",
    "    if a == 0:\n",
    "        break"
   ]
  },
  {
   "cell_type": "code",
   "execution_count": 47,
   "id": "ordinary-spectacular",
   "metadata": {
    "ExecuteTime": {
     "end_time": "2021-05-11T14:48:38.067326Z",
     "start_time": "2021-05-11T14:48:36.875859Z"
    }
   },
   "outputs": [
    {
     "name": "stdout",
     "output_type": "stream",
     "text": [
      "8\n",
      "8\n",
      "7\n",
      "6\n",
      "5\n",
      "4\n",
      "3\n",
      "2\n",
      "1\n",
      "time: 1.19 s (started: 2021-05-11 23:48:36 +09:00)\n"
     ]
    }
   ],
   "source": [
    "# 추천 코드\n",
    "a=int(input())\n",
    "\n",
    "while a!=0:\n",
    "    print(a)\n",
    "    a=a-1"
   ]
  },
  {
   "cell_type": "code",
   "execution_count": 55,
   "id": "systematic-genetics",
   "metadata": {
    "ExecuteTime": {
     "end_time": "2021-05-11T14:54:15.543389Z",
     "start_time": "2021-05-11T14:54:14.389444Z"
    }
   },
   "outputs": [
    {
     "name": "stdout",
     "output_type": "stream",
     "text": [
      "5\n",
      "4\n",
      "3\n",
      "2\n",
      "1\n",
      "0\n",
      "time: 1.15 s (started: 2021-05-11 23:54:14 +09:00)\n"
     ]
    }
   ],
   "source": [
    "a = int(input())\n",
    "\n",
    "while a > -1:\n",
    "    a = a-1\n",
    "    print(a)\n",
    "    if a == 0 :\n",
    "        break"
   ]
  },
  {
   "cell_type": "code",
   "execution_count": 56,
   "id": "rotary-language",
   "metadata": {
    "ExecuteTime": {
     "end_time": "2021-05-11T14:55:45.103723Z",
     "start_time": "2021-05-11T14:55:43.600084Z"
    }
   },
   "outputs": [
    {
     "name": "stdout",
     "output_type": "stream",
     "text": [
      "8\n",
      "7\n",
      "6\n",
      "5\n",
      "4\n",
      "3\n",
      "2\n",
      "1\n",
      "0\n",
      "time: 1.5 s (started: 2021-05-11 23:55:43 +09:00)\n"
     ]
    }
   ],
   "source": [
    "# 추천 코드\n",
    "a=int(input())\n",
    "\n",
    "while a!=0:\n",
    "    a=a-1\n",
    "    print(a)"
   ]
  },
  {
   "cell_type": "code",
   "execution_count": 57,
   "id": "boring-terrorism",
   "metadata": {
    "ExecuteTime": {
     "end_time": "2021-05-11T14:56:39.702572Z",
     "start_time": "2021-05-11T14:56:37.890632Z"
    }
   },
   "outputs": [
    {
     "name": "stdout",
     "output_type": "stream",
     "text": [
      "e\n",
      "a b c d e time: 1.81 s (started: 2021-05-11 23:56:37 +09:00)\n"
     ]
    }
   ],
   "source": [
    "c = ord(input())\n",
    "t = ord('a')\n",
    "while t<=c :\n",
    "    print(chr(t), end=' ')\n",
    "    t += 1"
   ]
  },
  {
   "cell_type": "code",
   "execution_count": 58,
   "id": "adolescent-pillow",
   "metadata": {
    "ExecuteTime": {
     "end_time": "2021-05-11T14:57:09.186703Z",
     "start_time": "2021-05-11T14:57:07.594857Z"
    }
   },
   "outputs": [
    {
     "name": "stdout",
     "output_type": "stream",
     "text": [
      "e\n",
      "a\n",
      "b\n",
      "c\n",
      "d\n",
      "e\n",
      "time: 1.59 s (started: 2021-05-11 23:57:07 +09:00)\n"
     ]
    }
   ],
   "source": [
    "c = ord(input())\n",
    "t = ord('a')\n",
    "while t<=c :\n",
    "    print(chr(t))\n",
    "    t += 1"
   ]
  },
  {
   "cell_type": "code",
   "execution_count": 60,
   "id": "dynamic-graduate",
   "metadata": {
    "ExecuteTime": {
     "end_time": "2021-05-11T15:01:20.895867Z",
     "start_time": "2021-05-11T15:01:19.430806Z"
    }
   },
   "outputs": [
    {
     "name": "stdout",
     "output_type": "stream",
     "text": [
      "5\n",
      "0\n",
      "1\n",
      "2\n",
      "3\n",
      "4\n",
      "5\n",
      "time: 1.46 s (started: 2021-05-12 00:01:19 +09:00)\n"
     ]
    }
   ],
   "source": [
    "a=int(input())\n",
    "n=0\n",
    "while a>-1 :\n",
    "    print(n)\n",
    "    n += 1\n",
    "    if n == a+1 :\n",
    "        break"
   ]
  },
  {
   "cell_type": "code",
   "execution_count": 61,
   "id": "isolated-reader",
   "metadata": {
    "ExecuteTime": {
     "end_time": "2021-05-11T15:02:54.051693Z",
     "start_time": "2021-05-11T15:02:53.066918Z"
    }
   },
   "outputs": [
    {
     "name": "stdout",
     "output_type": "stream",
     "text": [
      "8\n",
      "0\n",
      "1\n",
      "2\n",
      "3\n",
      "4\n",
      "5\n",
      "6\n",
      "7\n",
      "8\n",
      "time: 982 ms (started: 2021-05-12 00:02:53 +09:00)\n"
     ]
    }
   ],
   "source": [
    "# 추천 코드\n",
    "n=int(input())\n",
    "\n",
    "i=0\n",
    "while i<=n:\n",
    "    print(i)\n",
    "    i+=1"
   ]
  },
  {
   "cell_type": "code",
   "execution_count": 63,
   "id": "exterior-orchestra",
   "metadata": {
    "ExecuteTime": {
     "end_time": "2021-05-11T15:04:21.432600Z",
     "start_time": "2021-05-11T15:04:20.004862Z"
    }
   },
   "outputs": [
    {
     "name": "stdout",
     "output_type": "stream",
     "text": [
      "5\n",
      "0\n",
      "1\n",
      "2\n",
      "3\n",
      "4\n",
      "5\n",
      "time: 1.43 s (started: 2021-05-12 00:04:20 +09:00)\n"
     ]
    }
   ],
   "source": [
    "n=int(input())\n",
    "\n",
    "for i in range(n+1):\n",
    "    print(i)"
   ]
  },
  {
   "cell_type": "code",
   "execution_count": 66,
   "id": "suburban-cabin",
   "metadata": {
    "ExecuteTime": {
     "end_time": "2021-05-11T15:10:05.588391Z",
     "start_time": "2021-05-11T15:10:04.457525Z"
    }
   },
   "outputs": [
    {
     "name": "stdout",
     "output_type": "stream",
     "text": [
      "5\n",
      "6\n",
      "time: 1.13 s (started: 2021-05-12 00:10:04 +09:00)\n"
     ]
    }
   ],
   "source": [
    "n = int(input())\n",
    "\n",
    "s = 0\n",
    "for i in range(1, n+1) :\n",
    "    if i%2==0 :\n",
    "        s += i\n",
    "        \n",
    "print(s)"
   ]
  },
  {
   "cell_type": "code",
   "execution_count": 74,
   "id": "smart-worst",
   "metadata": {
    "ExecuteTime": {
     "end_time": "2021-05-11T15:23:22.869999Z",
     "start_time": "2021-05-11T15:23:17.685825Z"
    }
   },
   "outputs": [
    {
     "name": "stdout",
     "output_type": "stream",
     "text": [
      "x\n",
      "x\n",
      "d\n",
      "d\n",
      "g\n",
      "g\n",
      "q\n",
      "q\n",
      "time: 5.18 s (started: 2021-05-12 00:23:17 +09:00)\n"
     ]
    }
   ],
   "source": [
    "while True:\n",
    "    c = ord(input())\n",
    "    if c != ord('q'):\n",
    "        print(chr(c))\n",
    "    if c == ord('q'):\n",
    "        print('q')\n",
    "        break"
   ]
  },
  {
   "cell_type": "code",
   "execution_count": 78,
   "id": "british-negative",
   "metadata": {
    "ExecuteTime": {
     "end_time": "2021-05-11T15:25:19.795892Z",
     "start_time": "2021-05-11T15:25:15.661610Z"
    }
   },
   "outputs": [
    {
     "name": "stdout",
     "output_type": "stream",
     "text": [
      "ㅈ\n",
      "ㅈ\n",
      "q\n",
      "q\n",
      "time: 4.13 s (started: 2021-05-12 00:25:15 +09:00)\n"
     ]
    }
   ],
   "source": [
    "# 추천 코드\n",
    "while True:\n",
    "    x=input()\n",
    "    print(x)\n",
    "    if x=='q':\n",
    "        break"
   ]
  },
  {
   "cell_type": "code",
   "execution_count": 106,
   "id": "combined-reminder",
   "metadata": {
    "ExecuteTime": {
     "end_time": "2021-05-11T15:51:43.639766Z",
     "start_time": "2021-05-11T15:51:42.892994Z"
    }
   },
   "outputs": [
    {
     "name": "stdout",
     "output_type": "stream",
     "text": [
      "54\n",
      "9\n",
      "time: 744 ms (started: 2021-05-12 00:51:42 +09:00)\n"
     ]
    }
   ],
   "source": [
    "n = int(input())\n",
    "a = 0\n",
    "s = 0\n",
    "while s<=n :\n",
    "    a = a+1\n",
    "    s = s+a\n",
    "if s>n:\n",
    "    print(a-1)\n",
    "elif s==n:\n",
    "    print(a)"
   ]
  },
  {
   "cell_type": "code",
   "execution_count": 107,
   "id": "operating-allowance",
   "metadata": {
    "ExecuteTime": {
     "end_time": "2021-05-11T15:53:41.878437Z",
     "start_time": "2021-05-11T15:53:41.870497Z"
    }
   },
   "outputs": [
    {
     "data": {
      "text/plain": [
       "55"
      ]
     },
     "execution_count": 107,
     "metadata": {},
     "output_type": "execute_result"
    },
    {
     "name": "stdout",
     "output_type": "stream",
     "text": [
      "time: 6.08 ms (started: 2021-05-12 00:53:41 +09:00)\n"
     ]
    }
   ],
   "source": [
    "1+2+3+4+5+6+7+8+9+10"
   ]
  },
  {
   "cell_type": "code",
   "execution_count": 111,
   "id": "classified-thesis",
   "metadata": {
    "ExecuteTime": {
     "end_time": "2021-05-11T16:00:38.470664Z",
     "start_time": "2021-05-11T16:00:36.935384Z"
    }
   },
   "outputs": [
    {
     "name": "stdout",
     "output_type": "stream",
     "text": [
      "2 3\n",
      "1 1\n",
      "1 2\n",
      "1 3\n",
      "2 1\n",
      "2 2\n",
      "2 3\n",
      "time: 1.53 s (started: 2021-05-12 01:00:36 +09:00)\n"
     ]
    }
   ],
   "source": [
    "n, m = input().split()\n",
    "n, m = int(n), int(m)\n",
    "\n",
    "for i in range(1, n+1) :\n",
    "    for j in range(1, m+1) :\n",
    "        print(i, j)"
   ]
  },
  {
   "cell_type": "code",
   "execution_count": 117,
   "id": "compact-harvey",
   "metadata": {
    "ExecuteTime": {
     "end_time": "2021-05-11T17:10:15.137166Z",
     "start_time": "2021-05-11T17:10:10.936005Z"
    }
   },
   "outputs": [
    {
     "name": "stdout",
     "output_type": "stream",
     "text": [
      "8\n",
      "9*9=51\n",
      "time: 4.2 s (started: 2021-05-12 02:10:10 +09:00)\n"
     ]
    }
   ],
   "source": [
    "# 6081\n",
    "X = input()\n",
    "# for i in range(format(16,16)):\n",
    "print('%X'%n, '*%X'%i, '=%X'%(n*i), sep='')"
   ]
  },
  {
   "cell_type": "code",
   "execution_count": 123,
   "id": "brilliant-philadelphia",
   "metadata": {
    "ExecuteTime": {
     "end_time": "2021-05-11T17:18:56.670936Z",
     "start_time": "2021-05-11T17:18:54.652796Z"
    }
   },
   "outputs": [
    {
     "name": "stdout",
     "output_type": "stream",
     "text": [
      "9\n",
      "1 2 X 4 5 X 7 8 X time: 2.02 s (started: 2021-05-12 02:18:54 +09:00)\n"
     ]
    }
   ],
   "source": [
    "n = int(input())\n",
    "for i in range(1, n+1) :\n",
    "    if i%3==0 :\n",
    "        print(\"X\", end=' ')    #출력 후 공백문자(빈칸, ' ')로 끝냄\n",
    "    elif i%3!=0 : \n",
    "        print(i, end=' ')\n",
    "    "
   ]
  },
  {
   "cell_type": "code",
   "execution_count": null,
   "id": "pharmaceutical-submission",
   "metadata": {},
   "outputs": [],
   "source": [
    "n = input()\n",
    "a=len(n)\n",
    "for i in range(n):"
   ]
  },
  {
   "cell_type": "markdown",
   "id": "weighted-wiring",
   "metadata": {},
   "source": [
    "# 12th May"
   ]
  },
  {
   "cell_type": "code",
   "execution_count": 1,
   "id": "waiting-calgary",
   "metadata": {
    "ExecuteTime": {
     "end_time": "2021-05-13T07:06:24.160816Z",
     "start_time": "2021-05-13T07:06:18.748241Z"
    }
   },
   "outputs": [
    {
     "name": "stdout",
     "output_type": "stream",
     "text": [
      "Requirement already satisfied: ipython-autotime in /home/aiffel-dj35/anaconda3/envs/aiffel/lib/python3.7/site-packages (0.3.1)\n",
      "Requirement already satisfied: ipython in /home/aiffel-dj35/anaconda3/envs/aiffel/lib/python3.7/site-packages (from ipython-autotime) (7.20.0)\n",
      "Requirement already satisfied: jedi>=0.16 in /home/aiffel-dj35/anaconda3/envs/aiffel/lib/python3.7/site-packages (from ipython->ipython-autotime) (0.18.0)\n",
      "Requirement already satisfied: backcall in /home/aiffel-dj35/anaconda3/envs/aiffel/lib/python3.7/site-packages (from ipython->ipython-autotime) (0.2.0)\n",
      "Requirement already satisfied: traitlets>=4.2 in /home/aiffel-dj35/anaconda3/envs/aiffel/lib/python3.7/site-packages (from ipython->ipython-autotime) (5.0.5)\n",
      "Requirement already satisfied: prompt-toolkit!=3.0.0,!=3.0.1,<3.1.0,>=2.0.0 in /home/aiffel-dj35/anaconda3/envs/aiffel/lib/python3.7/site-packages (from ipython->ipython-autotime) (3.0.8)\n",
      "Requirement already satisfied: decorator in /home/aiffel-dj35/anaconda3/envs/aiffel/lib/python3.7/site-packages (from ipython->ipython-autotime) (4.4.2)\n",
      "Requirement already satisfied: pygments in /home/aiffel-dj35/anaconda3/envs/aiffel/lib/python3.7/site-packages (from ipython->ipython-autotime) (2.8.0)\n",
      "Requirement already satisfied: pexpect>4.3 in /home/aiffel-dj35/anaconda3/envs/aiffel/lib/python3.7/site-packages (from ipython->ipython-autotime) (4.8.0)\n",
      "Requirement already satisfied: setuptools>=18.5 in /home/aiffel-dj35/anaconda3/envs/aiffel/lib/python3.7/site-packages (from ipython->ipython-autotime) (52.0.0.post20210125)\n",
      "Requirement already satisfied: pickleshare in /home/aiffel-dj35/anaconda3/envs/aiffel/lib/python3.7/site-packages (from ipython->ipython-autotime) (0.7.5)\n",
      "Requirement already satisfied: parso<0.9.0,>=0.8.0 in /home/aiffel-dj35/anaconda3/envs/aiffel/lib/python3.7/site-packages (from jedi>=0.16->ipython->ipython-autotime) (0.8.1)\n",
      "Requirement already satisfied: ptyprocess>=0.5 in /home/aiffel-dj35/anaconda3/envs/aiffel/lib/python3.7/site-packages (from pexpect>4.3->ipython->ipython-autotime) (0.7.0)\n",
      "Requirement already satisfied: wcwidth in /home/aiffel-dj35/anaconda3/envs/aiffel/lib/python3.7/site-packages (from prompt-toolkit!=3.0.0,!=3.0.1,<3.1.0,>=2.0.0->ipython->ipython-autotime) (0.2.5)\n",
      "Requirement already satisfied: ipython-genutils in /home/aiffel-dj35/anaconda3/envs/aiffel/lib/python3.7/site-packages (from traitlets>=4.2->ipython->ipython-autotime) (0.2.0)\n",
      "time: 567 µs (started: 2021-05-13 16:06:24 +09:00)\n"
     ]
    }
   ],
   "source": [
    "!pip install ipython-autotime\n",
    "%load_ext autotime"
   ]
  },
  {
   "cell_type": "markdown",
   "id": "polish-automation",
   "metadata": {},
   "source": [
    "# 삼육구문제\n",
    "단, 30 보다 작은 정수 1개가 입력된다.\n",
    "(1 ~ 29)"
   ]
  },
  {
   "cell_type": "code",
   "execution_count": 13,
   "id": "amazing-hollow",
   "metadata": {
    "ExecuteTime": {
     "end_time": "2021-05-13T07:19:39.924219Z",
     "start_time": "2021-05-13T07:19:37.740740Z"
    }
   },
   "outputs": [
    {
     "name": "stdout",
     "output_type": "stream",
     "text": [
      "13\n",
      "1 2 X 4 5 X 7 8 X 10 11 12 X time: 2.18 s (started: 2021-05-13 16:19:37 +09:00)\n"
     ]
    }
   ],
   "source": [
    "n = int(input())\n",
    "\n",
    "for i in range(1, n+1):\n",
    "    if i%10==3 or i%10==6 or i%10==9:\n",
    "        print('X', end=' ')\n",
    "    else :\n",
    "        print(i, end=' ')"
   ]
  },
  {
   "cell_type": "code",
   "execution_count": 19,
   "id": "individual-huntington",
   "metadata": {
    "ExecuteTime": {
     "end_time": "2021-05-13T07:29:20.580137Z",
     "start_time": "2021-05-13T07:29:19.750819Z"
    }
   },
   "outputs": [
    {
     "name": "stdout",
     "output_type": "stream",
     "text": [
      "2 2 2\n",
      "0 0 0\n",
      "0 0 1\n",
      "0 1 0\n",
      "0 1 1\n",
      "1 0 0\n",
      "1 0 1\n",
      "1 1 0\n",
      "1 1 1\n",
      "8\n",
      "time: 825 ms (started: 2021-05-13 16:29:19 +09:00)\n"
     ]
    }
   ],
   "source": [
    "a, b, c = input().split()\n",
    "a, b, c = int(a), int(b), int(c)\n",
    "d=0\n",
    "for i in range(a):\n",
    "    for j in range(b):\n",
    "        for k in range(c):\n",
    "            d += 1\n",
    "            print(i, j, k)\n",
    "print(d)\n",
    "# 더 빠르게 하는 방법도 있을까?"
   ]
  },
  {
   "cell_type": "code",
   "execution_count": 20,
   "id": "sensitive-determination",
   "metadata": {
    "ExecuteTime": {
     "end_time": "2021-05-13T07:33:09.804460Z",
     "start_time": "2021-05-13T07:33:09.801368Z"
    }
   },
   "outputs": [
    {
     "data": {
      "text/plain": [
       "0.1682281494140625"
      ]
     },
     "execution_count": 20,
     "metadata": {},
     "output_type": "execute_result"
    },
    {
     "name": "stdout",
     "output_type": "stream",
     "text": [
      "time: 1.25 ms (started: 2021-05-13 16:33:09 +09:00)\n"
     ]
    }
   ],
   "source": [
    "44100*16*2*1/8/1024/1024 "
   ]
  },
  {
   "cell_type": "code",
   "execution_count": 23,
   "id": "burning-contamination",
   "metadata": {
    "ExecuteTime": {
     "end_time": "2021-05-13T07:35:41.636709Z",
     "start_time": "2021-05-13T07:35:39.464544Z"
    }
   },
   "outputs": [
    {
     "name": "stdout",
     "output_type": "stream",
     "text": [
      "44100 16 2 10\n",
      "1.7 MB\n",
      "time: 2.17 s (started: 2021-05-13 16:35:39 +09:00)\n"
     ]
    }
   ],
   "source": [
    "a, b, c, d=input().split()\n",
    "a, b, c, d=int(a), int(b), int(c), int(d)\n",
    "sp = a*b*c*d/8/1024/1024\n",
    "print(round(sp,1), \"MB\")"
   ]
  },
  {
   "cell_type": "code",
   "execution_count": 24,
   "id": "rotary-collar",
   "metadata": {
    "ExecuteTime": {
     "end_time": "2021-05-13T07:36:12.333284Z",
     "start_time": "2021-05-13T07:36:12.330086Z"
    }
   },
   "outputs": [
    {
     "data": {
      "text/plain": [
       "2.25"
      ]
     },
     "execution_count": 24,
     "metadata": {},
     "output_type": "execute_result"
    },
    {
     "name": "stdout",
     "output_type": "stream",
     "text": [
      "time: 1.15 ms (started: 2021-05-13 16:36:12 +09:00)\n"
     ]
    }
   ],
   "source": [
    "1024*768*24/8/1024/1024"
   ]
  },
  {
   "cell_type": "code",
   "execution_count": 27,
   "id": "finite-commissioner",
   "metadata": {
    "ExecuteTime": {
     "end_time": "2021-05-13T07:38:05.766857Z",
     "start_time": "2021-05-13T07:38:05.299896Z"
    }
   },
   "outputs": [
    {
     "name": "stdout",
     "output_type": "stream",
     "text": [
      "100 100 4\n",
      "0.0 MB\n",
      "time: 464 ms (started: 2021-05-13 16:38:05 +09:00)\n"
     ]
    }
   ],
   "source": [
    "a, b, c=input().split()\n",
    "a, b, c=int(a), int(b), int(c)\n",
    "sp = a*b*c/8/1024/1024\n",
    "print(round(sp,2), \"MB\")"
   ]
  },
  {
   "cell_type": "code",
   "execution_count": 28,
   "id": "growing-canon",
   "metadata": {
    "ExecuteTime": {
     "end_time": "2021-05-13T07:38:08.601014Z",
     "start_time": "2021-05-13T07:38:08.103152Z"
    }
   },
   "outputs": [
    {
     "name": "stdout",
     "output_type": "stream",
     "text": [
      "100 100 4\n",
      "0.00 MB\n",
      "time: 495 ms (started: 2021-05-13 16:38:08 +09:00)\n"
     ]
    }
   ],
   "source": [
    "a, b, c=input().split()\n",
    "a, b, c=int(a), int(b), int(c)\n",
    "sp = a*b*c/8/1024/1024\n",
    "print(format(sp, \".2f\") , \"MB\")"
   ]
  },
  {
   "cell_type": "code",
   "execution_count": 38,
   "id": "infinite-result",
   "metadata": {
    "ExecuteTime": {
     "end_time": "2021-05-13T07:45:06.627532Z",
     "start_time": "2021-05-13T07:45:06.624861Z"
    }
   },
   "outputs": [
    {
     "name": "stdout",
     "output_type": "stream",
     "text": [
      "66\n",
      "time: 427 µs (started: 2021-05-13 16:45:06 +09:00)\n"
     ]
    }
   ],
   "source": [
    "# n = int(input())\n",
    "n = 57\n",
    "s = 0\n",
    "c = 0\n",
    "while True :\n",
    "    s += c\n",
    "    c += 1\n",
    "    if s>=n :\n",
    "        break\n",
    "print(s)"
   ]
  },
  {
   "cell_type": "code",
   "execution_count": 40,
   "id": "affected-conditions",
   "metadata": {
    "ExecuteTime": {
     "end_time": "2021-05-13T07:45:16.943919Z",
     "start_time": "2021-05-13T07:45:15.264717Z"
    }
   },
   "outputs": [
    {
     "name": "stdout",
     "output_type": "stream",
     "text": [
      "57\n",
      "66\n",
      "time: 1.68 s (started: 2021-05-13 16:45:15 +09:00)\n"
     ]
    }
   ],
   "source": [
    "n = int(input())\n",
    "s = 0\n",
    "c = 0\n",
    "while True :\n",
    "    c += 1\n",
    "    s += c\n",
    "    if s>=n :\n",
    "        break\n",
    "print(s)"
   ]
  },
  {
   "cell_type": "code",
   "execution_count": 42,
   "id": "olympic-evidence",
   "metadata": {
    "ExecuteTime": {
     "end_time": "2021-05-13T07:48:17.626293Z",
     "start_time": "2021-05-13T07:48:16.155267Z"
    }
   },
   "outputs": [
    {
     "name": "stdout",
     "output_type": "stream",
     "text": [
      "14\n",
      "1 2 4 5 7 8 10 11 13 14 time: 1.47 s (started: 2021-05-13 16:48:16 +09:00)\n"
     ]
    }
   ],
   "source": [
    "n = int(input())\n",
    "for i in range(1, n+1):\n",
    "    if i%3 != 0:\n",
    "        print(i, end=\" \")"
   ]
  },
  {
   "cell_type": "code",
   "execution_count": 43,
   "id": "furnished-farming",
   "metadata": {
    "ExecuteTime": {
     "end_time": "2021-05-13T07:49:54.202923Z",
     "start_time": "2021-05-13T07:49:52.160694Z"
    }
   },
   "outputs": [
    {
     "name": "stdout",
     "output_type": "stream",
     "text": [
      "1 3 5\n",
      "13\n",
      "time: 2.04 s (started: 2021-05-13 16:49:52 +09:00)\n"
     ]
    }
   ],
   "source": [
    "a, b, c=input().split()\n",
    "a, b, c=int(a), int(b), int(c)\n",
    "d = a + b*(c-1)\n",
    "print(d)"
   ]
  },
  {
   "cell_type": "code",
   "execution_count": 45,
   "id": "legendary-threat",
   "metadata": {
    "ExecuteTime": {
     "end_time": "2021-05-13T08:08:22.939217Z",
     "start_time": "2021-05-13T08:08:20.745749Z"
    }
   },
   "outputs": [
    {
     "name": "stdout",
     "output_type": "stream",
     "text": [
      "2 3 7\n",
      "1458\n",
      "time: 2.19 s (started: 2021-05-13 17:08:20 +09:00)\n"
     ]
    }
   ],
   "source": [
    "a, b, c=input().split()\n",
    "a, b, c=int(a), int(b), int(c)\n",
    "d = a*b**(c-1)\n",
    "print(d)"
   ]
  },
  {
   "cell_type": "code",
   "execution_count": 48,
   "id": "quantitative-impossible",
   "metadata": {
    "ExecuteTime": {
     "end_time": "2021-05-13T08:16:38.367323Z",
     "start_time": "2021-05-13T08:16:37.543959Z"
    }
   },
   "outputs": [
    {
     "name": "stdout",
     "output_type": "stream",
     "text": [
      "1 -2 1 8\n",
      "-85\n",
      "time: 816 ms (started: 2021-05-13 17:16:37 +09:00)\n"
     ]
    }
   ],
   "source": [
    "a, b, c, d=input().split()\n",
    "a, b, c, d=int(a), int(b), int(c), int(d)\n",
    "\n",
    "for i in range(d-1):\n",
    "    a = a*b+c\n",
    "    \n",
    "print(a)"
   ]
  },
  {
   "cell_type": "markdown",
   "id": "separated-contest",
   "metadata": {},
   "source": [
    "# 22th May"
   ]
  },
  {
   "cell_type": "code",
   "execution_count": 34,
   "id": "amended-compromise",
   "metadata": {
    "ExecuteTime": {
     "end_time": "2021-05-22T07:48:02.623637Z",
     "start_time": "2021-05-22T07:48:00.854972Z"
    }
   },
   "outputs": [
    {
     "name": "stdout",
     "output_type": "stream",
     "text": [
      "Requirement already satisfied: ipython-autotime in /home/aiffel-dj35/anaconda3/envs/aiffel/lib/python3.7/site-packages (0.3.1)\n",
      "Requirement already satisfied: ipython in /home/aiffel-dj35/anaconda3/envs/aiffel/lib/python3.7/site-packages (from ipython-autotime) (7.20.0)\n",
      "Requirement already satisfied: backcall in /home/aiffel-dj35/anaconda3/envs/aiffel/lib/python3.7/site-packages (from ipython->ipython-autotime) (0.2.0)\n",
      "Requirement already satisfied: pexpect>4.3 in /home/aiffel-dj35/anaconda3/envs/aiffel/lib/python3.7/site-packages (from ipython->ipython-autotime) (4.8.0)\n",
      "Requirement already satisfied: traitlets>=4.2 in /home/aiffel-dj35/anaconda3/envs/aiffel/lib/python3.7/site-packages (from ipython->ipython-autotime) (5.0.5)\n",
      "Requirement already satisfied: setuptools>=18.5 in /home/aiffel-dj35/anaconda3/envs/aiffel/lib/python3.7/site-packages (from ipython->ipython-autotime) (52.0.0.post20210125)\n",
      "Requirement already satisfied: pickleshare in /home/aiffel-dj35/anaconda3/envs/aiffel/lib/python3.7/site-packages (from ipython->ipython-autotime) (0.7.5)\n",
      "Requirement already satisfied: prompt-toolkit!=3.0.0,!=3.0.1,<3.1.0,>=2.0.0 in /home/aiffel-dj35/anaconda3/envs/aiffel/lib/python3.7/site-packages (from ipython->ipython-autotime) (3.0.8)\n",
      "Requirement already satisfied: jedi>=0.16 in /home/aiffel-dj35/anaconda3/envs/aiffel/lib/python3.7/site-packages (from ipython->ipython-autotime) (0.18.0)\n",
      "Requirement already satisfied: pygments in /home/aiffel-dj35/anaconda3/envs/aiffel/lib/python3.7/site-packages (from ipython->ipython-autotime) (2.8.0)\n",
      "Requirement already satisfied: decorator in /home/aiffel-dj35/anaconda3/envs/aiffel/lib/python3.7/site-packages (from ipython->ipython-autotime) (4.4.2)\n",
      "Requirement already satisfied: parso<0.9.0,>=0.8.0 in /home/aiffel-dj35/anaconda3/envs/aiffel/lib/python3.7/site-packages (from jedi>=0.16->ipython->ipython-autotime) (0.8.1)\n",
      "Requirement already satisfied: ptyprocess>=0.5 in /home/aiffel-dj35/anaconda3/envs/aiffel/lib/python3.7/site-packages (from pexpect>4.3->ipython->ipython-autotime) (0.7.0)\n",
      "Requirement already satisfied: wcwidth in /home/aiffel-dj35/anaconda3/envs/aiffel/lib/python3.7/site-packages (from prompt-toolkit!=3.0.0,!=3.0.1,<3.1.0,>=2.0.0->ipython->ipython-autotime) (0.2.5)\n",
      "Requirement already satisfied: ipython-genutils in /home/aiffel-dj35/anaconda3/envs/aiffel/lib/python3.7/site-packages (from traitlets>=4.2->ipython->ipython-autotime) (0.2.0)\n",
      "The autotime extension is already loaded. To reload it, use:\n",
      "  %reload_ext autotime\n",
      "time: 1.76 s (started: 2021-05-22 16:48:00 +09:00)\n"
     ]
    }
   ],
   "source": [
    "!pip install ipython-autotime\n",
    "%load_ext autotime"
   ]
  },
  {
   "cell_type": "code",
   "execution_count": 2,
   "id": "interstate-harvest",
   "metadata": {
    "ExecuteTime": {
     "end_time": "2021-05-22T06:35:55.600910Z",
     "start_time": "2021-05-22T06:35:55.592494Z"
    }
   },
   "outputs": [
    {
     "data": {
      "text/plain": [
       "(1, 2)"
      ]
     },
     "execution_count": 2,
     "metadata": {},
     "output_type": "execute_result"
    }
   ],
   "source": [
    "5//3, 5%3"
   ]
  },
  {
   "cell_type": "code",
   "execution_count": 11,
   "id": "graphic-sight",
   "metadata": {
    "ExecuteTime": {
     "end_time": "2021-05-22T06:42:16.854153Z",
     "start_time": "2021-05-22T06:42:14.515849Z"
    }
   },
   "outputs": [
    {
     "name": "stdout",
     "output_type": "stream",
     "text": [
      "3 7 9 \n",
      "63\n",
      "time: 2.33 s (started: 2021-05-22 15:42:14 +09:00)\n"
     ]
    }
   ],
   "source": [
    "#91\n",
    "a, b, c = input().split()\n",
    "a, b, c = int(a), int(b), int(c)\n",
    "d = 1\n",
    "while d%a != 0 or d%b != 0 or d%c != 0:\n",
    "    d += 1\n",
    "    \n",
    "print(d)"
   ]
  },
  {
   "cell_type": "code",
   "execution_count": 13,
   "id": "polished-legend",
   "metadata": {
    "ExecuteTime": {
     "end_time": "2021-05-22T06:44:42.411257Z",
     "start_time": "2021-05-22T06:44:39.773940Z"
    }
   },
   "outputs": [
    {
     "name": "stdout",
     "output_type": "stream",
     "text": [
      "10\n",
      "1 3 2 2 5 6 7 4 5 9\n",
      "['1', '3', '2', '2', '5', '6', '7', '4', '5', '9'] <class 'list'>\n",
      "time: 2.63 s (started: 2021-05-22 15:44:39 +09:00)\n"
     ]
    }
   ],
   "source": [
    "#92 예시\n",
    "n = int(input())      #개수를 입력받아 n에 정수로 저장\n",
    "a = input().split()  #공백을 기준으로 잘라 list인 a에 순서대로 저장\n",
    "\n",
    "print(a, type(a))"
   ]
  },
  {
   "cell_type": "code",
   "execution_count": 14,
   "id": "indie-performer",
   "metadata": {
    "ExecuteTime": {
     "end_time": "2021-05-22T06:47:15.748348Z",
     "start_time": "2021-05-22T06:47:15.738313Z"
    }
   },
   "outputs": [
    {
     "data": {
      "text/plain": [
       "{'1', '2', '3', '4', '5', '6', '7', '9'}"
      ]
     },
     "execution_count": 14,
     "metadata": {},
     "output_type": "execute_result"
    },
    {
     "name": "stdout",
     "output_type": "stream",
     "text": [
      "time: 5.1 ms (started: 2021-05-22 15:47:15 +09:00)\n"
     ]
    }
   ],
   "source": [
    "a =set(a)\n",
    "a"
   ]
  },
  {
   "cell_type": "code",
   "execution_count": 15,
   "id": "russian-stake",
   "metadata": {
    "ExecuteTime": {
     "end_time": "2021-05-22T06:47:58.144347Z",
     "start_time": "2021-05-22T06:47:53.749296Z"
    }
   },
   "outputs": [
    {
     "name": "stdout",
     "output_type": "stream",
     "text": [
      "10\n",
      "1 3 2 2 5 6 7 4 5 9\n",
      "['1', '3', '2', '2', '5', '6', '7', '4', '5', '9'] <class 'list'>\n",
      "time: 4.39 s (started: 2021-05-22 15:47:53 +09:00)\n"
     ]
    }
   ],
   "source": [
    "n = int(input())      #개수를 입력받아 n에 정수로 저장\n",
    "a = input().split()  #공백을 기준으로 잘라 list인 a에 순서대로 저장\n",
    "\n",
    "print(a, type(a))"
   ]
  },
  {
   "cell_type": "code",
   "execution_count": 20,
   "id": "unauthorized-macro",
   "metadata": {
    "ExecuteTime": {
     "end_time": "2021-05-22T06:55:06.860380Z",
     "start_time": "2021-05-22T06:55:06.852241Z"
    }
   },
   "outputs": [
    {
     "ename": "NameError",
     "evalue": "name 'count' is not defined",
     "output_type": "error",
     "traceback": [
      "\u001b[0;31m---------------------------------------------------------------------------\u001b[0m",
      "\u001b[0;31mNameError\u001b[0m                                 Traceback (most recent call last)",
      "\u001b[0;32m<ipython-input-20-f0ca0f9dd917>\u001b[0m in \u001b[0;36m<module>\u001b[0;34m\u001b[0m\n\u001b[0;32m----> 1\u001b[0;31m \u001b[0mcount\u001b[0m\u001b[0;34m(\u001b[0m\u001b[0ma\u001b[0m\u001b[0;34m)\u001b[0m\u001b[0;34m\u001b[0m\u001b[0;34m\u001b[0m\u001b[0m\n\u001b[0m",
      "\u001b[0;31mNameError\u001b[0m: name 'count' is not defined"
     ]
    },
    {
     "name": "stdout",
     "output_type": "stream",
     "text": [
      "time: 5.08 ms (started: 2021-05-22 15:55:06 +09:00)\n"
     ]
    }
   ],
   "source": [
    "count(a)"
   ]
  },
  {
   "cell_type": "code",
   "execution_count": 25,
   "id": "perceived-modern",
   "metadata": {
    "ExecuteTime": {
     "end_time": "2021-05-22T07:07:37.003923Z",
     "start_time": "2021-05-22T07:07:29.468204Z"
    }
   },
   "outputs": [
    {
     "name": "stdout",
     "output_type": "stream",
     "text": [
      "10\n",
      "1 3 2 2 5 6 7 4 5 9\n",
      "1 2 1 1 2 1 1 0 1 0 0 0 0 0 0 0 0 0 0 0 0 0 0 time: 7.52 s (started: 2021-05-22 16:07:29 +09:00)\n"
     ]
    }
   ],
   "source": [
    "n = int(input())\n",
    "a = input().split()\n",
    "\n",
    "for i in range(n) :  #0부터 n-1까지...\n",
    "    a[i] = int(a[i])       #a에 순서대로 저장되어있는 각 값을 정수로 변환해 다시 저장\n",
    "\n",
    "d = []                     #d라는 이름의 빈 리스트 [ ] 변수를 만듦. 대괄호 기호 [  ] 를 사용한다.\n",
    "for i in range(23) :  #[0, 0, 0, ... , 0, 0, 0] 과 같이 24개의 정수 값 0을 추가해 넣음\n",
    "    d.append(int(0))  \n",
    "    \n",
    "for i in range(n):\n",
    "    for j in range(1, 24):\n",
    "        if a[i] == j:\n",
    "            d[j-1] = int(d[j-1])+ 1\n",
    "            \n",
    "for i in range(23):\n",
    "    print(d[i], end=\" \")"
   ]
  },
  {
   "cell_type": "code",
   "execution_count": 26,
   "id": "attempted-estonia",
   "metadata": {
    "ExecuteTime": {
     "end_time": "2021-05-22T07:08:28.807520Z",
     "start_time": "2021-05-22T07:08:21.614283Z"
    }
   },
   "outputs": [
    {
     "name": "stdout",
     "output_type": "stream",
     "text": [
      "10\n",
      "1 3 2 2 5 6 7 4 5 9\n",
      "1 2 1 1 2 1 1 0 1 0 0 0 0 0 0 0 0 0 0 0 0 0 0 time: 7.19 s (started: 2021-05-22 16:08:21 +09:00)\n"
     ]
    }
   ],
   "source": [
    "# 92 예시\n",
    "n = int(input())      #개수를 입력받아 n에 정수로 저장\n",
    "a = input().split()  #공백을 기준으로 잘라 a에 순서대로 저장\n",
    "\n",
    "for i in range(n) :  #0부터 n-1까지...\n",
    "    a[i] = int(a[i])       #a에 순서대로 저장되어있는 각 값을 정수로 변환해 다시 저장\n",
    "\n",
    "d = []                     #d라는 이름의 빈 리스트 [ ] 변수를 만듦. 대괄호 기호 [  ] 를 사용한다.\n",
    "for i in range(24) :  #[0, 0, 0, ... , 0, 0, 0] 과 같이 24개의 정수 값 0을 추가해 넣음\n",
    "    d.append(0)        #각 값은 d[0], d[1], d[2], ... , d[22], d[23] 으로 값을 읽고 저장할 수 있음.\n",
    "\n",
    "for i in range(n) :    #번호를 부를 때마다, 그 번호에 대한 카운트 1씩 증가\n",
    "    d[a[i]] += 1\n",
    "\n",
    "for i in range(1, 24) :  #카운트한 값을 공백을 두고 출력\n",
    "    print(d[i], end=' ')"
   ]
  },
  {
   "cell_type": "code",
   "execution_count": 29,
   "id": "postal-spotlight",
   "metadata": {
    "ExecuteTime": {
     "end_time": "2021-05-22T07:38:50.567532Z",
     "start_time": "2021-05-22T07:38:37.137101Z"
    }
   },
   "outputs": [
    {
     "name": "stdout",
     "output_type": "stream",
     "text": [
      "10\n",
      "10 4 2 3 6 6 7 9 8 5\n",
      "5 8 9 7 6 6 3 2 4 10 time: 13.4 s (started: 2021-05-22 16:38:37 +09:00)\n"
     ]
    }
   ],
   "source": [
    "# 93 : 거꾸로 출력하기\n",
    "n = int(input())\n",
    "a = input().split()\n",
    "\n",
    "for i in range(n-1,-1,-1): # range(시작, 끝, 증감) \n",
    "    print(a[i], end=\" \")"
   ]
  },
  {
   "cell_type": "code",
   "execution_count": 30,
   "id": "addressed-worse",
   "metadata": {
    "ExecuteTime": {
     "end_time": "2021-05-22T07:40:28.569132Z",
     "start_time": "2021-05-22T07:40:28.565425Z"
    }
   },
   "outputs": [
    {
     "data": {
      "text/plain": [
       "-5"
      ]
     },
     "execution_count": 30,
     "metadata": {},
     "output_type": "execute_result"
    },
    {
     "name": "stdout",
     "output_type": "stream",
     "text": [
      "time: 1.6 ms (started: 2021-05-22 16:40:28 +09:00)\n"
     ]
    }
   ],
   "source": [
    "a = [1, 0, -5]\n",
    "min(a)"
   ]
  },
  {
   "cell_type": "code",
   "execution_count": 32,
   "id": "enclosed-compound",
   "metadata": {
    "ExecuteTime": {
     "end_time": "2021-05-22T07:42:07.159143Z",
     "start_time": "2021-05-22T07:42:03.391881Z"
    }
   },
   "outputs": [
    {
     "name": "stdout",
     "output_type": "stream",
     "text": [
      "10\n",
      "10 4 2 3 6 6 7 9 8 5\n",
      "2\n",
      "time: 3.76 s (started: 2021-05-22 16:42:03 +09:00)\n"
     ]
    }
   ],
   "source": [
    "# 94 -> 나는 함수 사용\n",
    "n = int(input())\n",
    "a = input().split()\n",
    "for i in range(n):\n",
    "    a[i]=int(a[i])\n",
    "\n",
    "print(min(a))"
   ]
  },
  {
   "cell_type": "code",
   "execution_count": null,
   "id": "maritime-efficiency",
   "metadata": {},
   "outputs": [],
   "source": [
    "# 94 예시 \n",
    "n = int(input())\n",
    "a = input().split()\n",
    "\n",
    "for i in range(n) :\n",
    "    a[i] = int(a[i])\n",
    "\n",
    "min = a[0]\n",
    "for i in range(0, n) :\n",
    "    if a[i] < min :\n",
    "        min = a[i]\n",
    "\n",
    "print(min)"
   ]
  },
  {
   "cell_type": "code",
   "execution_count": 38,
   "id": "incorrect-munich",
   "metadata": {
    "ExecuteTime": {
     "end_time": "2021-05-22T07:52:26.162916Z",
     "start_time": "2021-05-22T07:52:18.496937Z"
    }
   },
   "outputs": [
    {
     "name": "stdout",
     "output_type": "stream",
     "text": [
      "3\n",
      "1 2\n",
      "3 4\n",
      "5 6\n",
      "[[1, 2], [3, 4], [5, 6]]\n",
      "time: 7.66 s (started: 2021-05-22 16:52:18 +09:00)\n"
     ]
    }
   ],
   "source": [
    "# 95\n",
    "n = int(input())\n",
    "stone = []\n",
    "for i in range(n):\n",
    "    x, y = input().split()\n",
    "    x, y = int(x), int(y)\n",
    "    stone.append([x,y])\n",
    "# print(stone)\n",
    "\n",
    "d=[]\n",
    "\n",
    "for i in range(19):\n",
    "    d.append([])\n",
    "    for j in range(19):\n",
    "        d[j].append(int(0))\n",
    "        \n",
    "        "
   ]
  },
  {
   "cell_type": "code",
   "execution_count": 47,
   "id": "nuclear-conviction",
   "metadata": {
    "ExecuteTime": {
     "end_time": "2021-05-22T07:58:36.406171Z",
     "start_time": "2021-05-22T07:58:36.399915Z"
    }
   },
   "outputs": [
    {
     "name": "stdout",
     "output_type": "stream",
     "text": [
      "[0, 0, 0, 0, 0, 0, 0, 0, 0, 0, 0, 0, 0, 0, 0, 0, 0, 0, 0]\n",
      "[0, 0, 0, 0, 0, 0, 0, 0, 0, 0, 0, 0, 0, 0, 0, 0, 0, 0, 0]\n",
      "[0, 0, 0, 0, 0, 0, 0, 0, 0, 0, 0, 0, 0, 0, 0, 0, 0, 0, 0]\n",
      "[0, 0, 0, 0, 0, 0, 0, 0, 0, 0, 0, 0, 0, 0, 0, 0, 0, 0, 0]\n",
      "[0, 0, 0, 0, 0, 0, 0, 0, 0, 0, 0, 0, 0, 0, 0, 0, 0, 0, 0]\n",
      "[0, 0, 0, 0, 0, 0, 0, 0, 0, 0, 0, 0, 0, 0, 0, 0, 0, 0, 0]\n",
      "[0, 0, 0, 0, 0, 0, 0, 0, 0, 0, 0, 0, 0, 0, 0, 0, 0, 0, 0]\n",
      "[0, 0, 0, 0, 0, 0, 0, 0, 0, 0, 0, 0, 0, 0, 0, 0, 0, 0, 0]\n",
      "[0, 0, 0, 0, 0, 0, 0, 0, 0, 0, 0, 0, 0, 0, 0, 0, 0, 0, 0]\n",
      "[0, 0, 0, 0, 0, 0, 0, 0, 0, 0, 0, 0, 0, 0, 0, 0, 0, 0, 0]\n",
      "[0, 0, 0, 0, 0, 0, 0, 0, 0, 0, 0, 0, 0, 0, 0, 0, 0, 0, 0]\n",
      "[0, 0, 0, 0, 0, 0, 0, 0, 0, 0, 0, 0, 0, 0, 0, 0, 0, 0, 0]\n",
      "[0, 0, 0, 0, 0, 0, 0, 0, 0, 0, 0, 0, 0, 0, 0, 0, 0, 0, 0]\n",
      "[0, 0, 0, 0, 0, 0, 0, 0, 0, 0, 0, 0, 0, 0, 0, 0, 0, 0, 0]\n",
      "[0, 0, 0, 0, 0, 0, 0, 0, 0, 0, 0, 0, 0, 0, 0, 0, 0, 0, 0]\n",
      "[0, 0, 0, 0, 0, 0, 0, 0, 0, 0, 0, 0, 0, 0, 0, 0, 0, 0, 0]\n",
      "[0, 0, 0, 0, 0, 0, 0, 0, 0, 0, 0, 0, 0, 0, 0, 0, 0, 0, 0]\n",
      "[0, 0, 0, 0, 0, 0, 0, 0, 0, 0, 0, 0, 0, 0, 0, 0, 0, 0, 0]\n",
      "[0, 0, 0, 0, 0, 0, 0, 0, 0, 0, 0, 0, 0, 0, 0, 0, 0, 0, 0]\n",
      "time: 1.12 ms (started: 2021-05-22 16:58:36 +09:00)\n"
     ]
    }
   ],
   "source": [
    "d=[]\n",
    "for i in range(19):\n",
    "    d.append([])\n",
    "    for j in range(19):\n",
    "        d[i].append(int(0))\n",
    "for i in range(19):\n",
    "    print(d[i], end=\"\\n\")"
   ]
  },
  {
   "cell_type": "code",
   "execution_count": 49,
   "id": "included-keeping",
   "metadata": {
    "ExecuteTime": {
     "end_time": "2021-05-22T08:02:29.230933Z",
     "start_time": "2021-05-22T08:02:29.220462Z"
    }
   },
   "outputs": [
    {
     "data": {
      "text/plain": [
       "3"
      ]
     },
     "execution_count": 49,
     "metadata": {},
     "output_type": "execute_result"
    },
    {
     "name": "stdout",
     "output_type": "stream",
     "text": [
      "time: 5.3 ms (started: 2021-05-22 17:02:29 +09:00)\n"
     ]
    }
   ],
   "source": [
    "x = [[1, 2], [3, 4], [5, 6]]\n",
    "x[1][0]"
   ]
  },
  {
   "cell_type": "code",
   "execution_count": null,
   "id": "romantic-acrylic",
   "metadata": {},
   "outputs": [],
   "source": [
    "# d[0][0]->(0,0)\n",
    "# d[1][1]->(1,1)\n",
    "# x[i][0]->d[]"
   ]
  },
  {
   "cell_type": "code",
   "execution_count": 52,
   "id": "certain-license",
   "metadata": {
    "ExecuteTime": {
     "end_time": "2021-05-22T08:18:46.112321Z",
     "start_time": "2021-05-22T08:18:32.515696Z"
    }
   },
   "outputs": [
    {
     "name": "stdout",
     "output_type": "stream",
     "text": [
      "3\n",
      "1 2\n",
      "3 4\n",
      "5 6\n",
      "[0, 1, 0, 0, 0, 0, 0, 0, 0, 0, 0, 0, 0, 0, 0, 0, 0, 0, 0]\n",
      "[0, 0, 0, 0, 0, 0, 0, 0, 0, 0, 0, 0, 0, 0, 0, 0, 0, 0, 0]\n",
      "[0, 0, 0, 1, 0, 0, 0, 0, 0, 0, 0, 0, 0, 0, 0, 0, 0, 0, 0]\n",
      "[0, 0, 0, 0, 0, 0, 0, 0, 0, 0, 0, 0, 0, 0, 0, 0, 0, 0, 0]\n",
      "[0, 0, 0, 0, 0, 1, 0, 0, 0, 0, 0, 0, 0, 0, 0, 0, 0, 0, 0]\n",
      "[0, 0, 0, 0, 0, 0, 0, 0, 0, 0, 0, 0, 0, 0, 0, 0, 0, 0, 0]\n",
      "[0, 0, 0, 0, 0, 0, 0, 0, 0, 0, 0, 0, 0, 0, 0, 0, 0, 0, 0]\n",
      "[0, 0, 0, 0, 0, 0, 0, 0, 0, 0, 0, 0, 0, 0, 0, 0, 0, 0, 0]\n",
      "[0, 0, 0, 0, 0, 0, 0, 0, 0, 0, 0, 0, 0, 0, 0, 0, 0, 0, 0]\n",
      "[0, 0, 0, 0, 0, 0, 0, 0, 0, 0, 0, 0, 0, 0, 0, 0, 0, 0, 0]\n",
      "[0, 0, 0, 0, 0, 0, 0, 0, 0, 0, 0, 0, 0, 0, 0, 0, 0, 0, 0]\n",
      "[0, 0, 0, 0, 0, 0, 0, 0, 0, 0, 0, 0, 0, 0, 0, 0, 0, 0, 0]\n",
      "[0, 0, 0, 0, 0, 0, 0, 0, 0, 0, 0, 0, 0, 0, 0, 0, 0, 0, 0]\n",
      "[0, 0, 0, 0, 0, 0, 0, 0, 0, 0, 0, 0, 0, 0, 0, 0, 0, 0, 0]\n",
      "[0, 0, 0, 0, 0, 0, 0, 0, 0, 0, 0, 0, 0, 0, 0, 0, 0, 0, 0]\n",
      "[0, 0, 0, 0, 0, 0, 0, 0, 0, 0, 0, 0, 0, 0, 0, 0, 0, 0, 0]\n",
      "[0, 0, 0, 0, 0, 0, 0, 0, 0, 0, 0, 0, 0, 0, 0, 0, 0, 0, 0]\n",
      "[0, 0, 0, 0, 0, 0, 0, 0, 0, 0, 0, 0, 0, 0, 0, 0, 0, 0, 0]\n",
      "[0, 0, 0, 0, 0, 0, 0, 0, 0, 0, 0, 0, 0, 0, 0, 0, 0, 0, 0]\n",
      "time: 13.6 s (started: 2021-05-22 17:18:32 +09:00)\n"
     ]
    }
   ],
   "source": [
    "d=[]\n",
    "for i in range(19):\n",
    "    d.append([])\n",
    "    for j in range(19):\n",
    "        d[i].append(int(0))\n",
    "        \n",
    "n = int(input())\n",
    "stone = []\n",
    "for i in range(n):\n",
    "    x, y = input().split()\n",
    "    x, y = int(x), int(y)\n",
    "    stone.append([x,y])\n",
    "    \n",
    "for i in range(n):\n",
    "    d[stone[i][0]-1][stone[i][1]-1]=+1\n",
    "    \n",
    "for i in range(19):\n",
    "    print(d[i], end=\"\\n\")"
   ]
  },
  {
   "cell_type": "markdown",
   "id": "weird-person",
   "metadata": {},
   "source": [
    "# 23th May"
   ]
  },
  {
   "cell_type": "code",
   "execution_count": 28,
   "id": "knowing-faith",
   "metadata": {
    "ExecuteTime": {
     "end_time": "2021-05-23T04:16:13.997609Z",
     "start_time": "2021-05-23T04:16:13.995103Z"
    }
   },
   "outputs": [
    {
     "name": "stdout",
     "output_type": "stream",
     "text": [
      "The autotime extension is already loaded. To reload it, use:\n",
      "  %reload_ext autotime\n",
      "time: 352 µs (started: 2021-05-23 13:16:13 +09:00)\n"
     ]
    }
   ],
   "source": [
    "%load_ext autotime"
   ]
  },
  {
   "cell_type": "code",
   "execution_count": 4,
   "id": "psychological-disaster",
   "metadata": {
    "ExecuteTime": {
     "end_time": "2021-05-23T01:35:46.398031Z",
     "start_time": "2021-05-23T01:35:46.373042Z"
    }
   },
   "outputs": [
    {
     "data": {
      "text/plain": [
       "[[0, 0, 0, 0, 0, 0, 0, 0, 0, 0, 0, 0, 0, 0, 0, 0, 0, 0, 0, 0],\n",
       " [0, 0, 0, 0, 0, 0, 0, 0, 0, 0, 0, 0, 0, 0, 0, 0, 0, 0, 0, 0],\n",
       " [0, 0, 0, 0, 0, 0, 0, 0, 0, 0, 0, 0, 0, 0, 0, 0, 0, 0, 0, 0],\n",
       " [0, 0, 0, 0, 0, 0, 0, 0, 0, 0, 0, 0, 0, 0, 0, 0, 0, 0, 0, 0],\n",
       " [0, 0, 0, 0, 0, 0, 0, 0, 0, 0, 0, 0, 0, 0, 0, 0, 0, 0, 0, 0],\n",
       " [0, 0, 0, 0, 0, 0, 0, 0, 0, 0, 0, 0, 0, 0, 0, 0, 0, 0, 0, 0],\n",
       " [0, 0, 0, 0, 0, 0, 0, 0, 0, 0, 0, 0, 0, 0, 0, 0, 0, 0, 0, 0],\n",
       " [0, 0, 0, 0, 0, 0, 0, 0, 0, 0, 0, 0, 0, 0, 0, 0, 0, 0, 0, 0],\n",
       " [0, 0, 0, 0, 0, 0, 0, 0, 0, 0, 0, 0, 0, 0, 0, 0, 0, 0, 0, 0],\n",
       " [0, 0, 0, 0, 0, 0, 0, 0, 0, 0, 0, 0, 0, 0, 0, 0, 0, 0, 0, 0],\n",
       " [0, 0, 0, 0, 0, 0, 0, 0, 0, 0, 0, 0, 0, 0, 0, 0, 0, 0, 0, 0],\n",
       " [0, 0, 0, 0, 0, 0, 0, 0, 0, 0, 0, 0, 0, 0, 0, 0, 0, 0, 0, 0],\n",
       " [0, 0, 0, 0, 0, 0, 0, 0, 0, 0, 0, 0, 0, 0, 0, 0, 0, 0, 0, 0],\n",
       " [0, 0, 0, 0, 0, 0, 0, 0, 0, 0, 0, 0, 0, 0, 0, 0, 0, 0, 0, 0],\n",
       " [0, 0, 0, 0, 0, 0, 0, 0, 0, 0, 0, 0, 0, 0, 0, 0, 0, 0, 0, 0],\n",
       " [0, 0, 0, 0, 0, 0, 0, 0, 0, 0, 0, 0, 0, 0, 0, 0, 0, 0, 0, 0],\n",
       " [0, 0, 0, 0, 0, 0, 0, 0, 0, 0, 0, 0, 0, 0, 0, 0, 0, 0, 0, 0],\n",
       " [0, 0, 0, 0, 0, 0, 0, 0, 0, 0, 0, 0, 0, 0, 0, 0, 0, 0, 0, 0],\n",
       " [0, 0, 0, 0, 0, 0, 0, 0, 0, 0, 0, 0, 0, 0, 0, 0, 0, 0, 0, 0],\n",
       " [0, 0, 0, 0, 0, 0, 0, 0, 0, 0, 0, 0, 0, 0, 0, 0, 0, 0, 0, 0]]"
      ]
     },
     "execution_count": 4,
     "metadata": {},
     "output_type": "execute_result"
    },
    {
     "name": "stdout",
     "output_type": "stream",
     "text": [
      "time: 21 ms (started: 2021-05-23 10:35:46 +09:00)\n"
     ]
    }
   ],
   "source": [
    "d = [[0 for j in range(20)] for i in range(20)]\n",
    "d"
   ]
  },
  {
   "cell_type": "code",
   "execution_count": 6,
   "id": "hearing-durham",
   "metadata": {
    "ExecuteTime": {
     "end_time": "2021-05-23T01:37:18.426904Z",
     "start_time": "2021-05-23T01:37:18.395521Z"
    }
   },
   "outputs": [
    {
     "name": "stdout",
     "output_type": "stream",
     "text": [
      "0 0 0 0 0 0 0 0 0 0 0 0 0 0 0 0 0 0 0 \n",
      "\n",
      "0 0 0 0 0 0 0 0 0 0 0 0 0 0 0 0 0 0 0 \n",
      "\n",
      "0 0 0 0 0 0 0 0 0 0 0 0 0 0 0 0 0 0 0 \n",
      "\n",
      "0 0 0 0 0 0 0 0 0 0 0 0 0 0 0 0 0 0 0 \n",
      "\n",
      "0 0 0 0 0 0 0 0 0 0 0 0 0 0 0 0 0 0 0 \n",
      "\n",
      "0 0 0 0 0 0 0 0 0 0 0 0 0 0 0 0 0 0 0 \n",
      "\n",
      "0 0 0 0 0 0 0 0 0 0 0 0 0 0 0 0 0 0 0 \n",
      "\n",
      "0 0 0 0 0 0 0 0 0 0 0 0 0 0 0 0 0 0 0 \n",
      "\n",
      "0 0 0 0 0 0 0 0 0 0 0 0 0 0 0 0 0 0 0 \n",
      "\n",
      "0 0 0 0 0 0 0 0 0 0 0 0 0 0 0 0 0 0 0 \n",
      "\n",
      "0 0 0 0 0 0 0 0 0 0 0 0 0 0 0 0 0 0 0 \n",
      "\n",
      "0 0 0 0 0 0 0 0 0 0 0 0 0 0 0 0 0 0 0 \n",
      "\n",
      "0 0 0 0 0 0 0 0 0 0 0 0 0 0 0 0 0 0 0 \n",
      "\n",
      "0 0 0 0 0 0 0 0 0 0 0 0 0 0 0 0 0 0 0 \n",
      "\n",
      "0 0 0 0 0 0 0 0 0 0 0 0 0 0 0 0 0 0 0 \n",
      "\n",
      "0 0 0 0 0 0 0 0 0 0 0 0 0 0 0 0 0 0 0 \n",
      "\n",
      "0 0 0 0 0 0 0 0 0 0 0 0 0 0 0 0 0 0 0 \n",
      "\n",
      "0 0 0 0 0 0 0 0 0 0 0 0 0 0 0 0 0 0 0 \n",
      "\n",
      "0 0 0 0 0 0 0 0 0 0 0 0 0 0 0 0 0 0 0 \n",
      "\n",
      "time: 21 ms (started: 2021-05-23 10:37:18 +09:00)\n"
     ]
    }
   ],
   "source": [
    "for i in range(19):\n",
    "    for j in range(19):\n",
    "        print('0', end=\" \")\n",
    "    print(\"\\n\")"
   ]
  },
  {
   "cell_type": "code",
   "execution_count": 9,
   "id": "logical-wallet",
   "metadata": {
    "ExecuteTime": {
     "end_time": "2021-05-23T01:40:05.325528Z",
     "start_time": "2021-05-23T01:40:05.312650Z"
    }
   },
   "outputs": [
    {
     "ename": "SyntaxError",
     "evalue": "unexpected character after line continuation character (<ipython-input-9-a0b2d49e8ae1>, line 20)",
     "output_type": "error",
     "traceback": [
      "\u001b[0;36m  File \u001b[0;32m\"<ipython-input-9-a0b2d49e8ae1>\"\u001b[0;36m, line \u001b[0;32m20\u001b[0m\n\u001b[0;31m    print(\\n)\u001b[0m\n\u001b[0m             ^\u001b[0m\n\u001b[0;31mSyntaxError\u001b[0m\u001b[0;31m:\u001b[0m unexpected character after line continuation character\n"
     ]
    },
    {
     "name": "stdout",
     "output_type": "stream",
     "text": [
      "time: 2.65 ms (started: 2021-05-23 10:40:05 +09:00)\n"
     ]
    }
   ],
   "source": [
    "# # 잘못된 출력\n",
    "# d=[]\n",
    "# for i in range(19):\n",
    "#     d.append([])\n",
    "#     for j in range(19):\n",
    "#         d[i].append(int(0))\n",
    "        \n",
    "# n = int(input())\n",
    "# stone = []\n",
    "# for i in range(n):\n",
    "#     x, y = input().split()\n",
    "#     x, y = int(x), int(y)\n",
    "#     stone.append([x,y])\n",
    "    \n",
    "# for i in range(n):\n",
    "#     d[stone[i][0]-1][stone[i][1]-1]=+1\n",
    "    \n",
    "# for i in range(19):\n",
    "#     for j in range(19):\n",
    "#         print(d[i][j], end=\"\")\n",
    "#     print(\"\\n\")"
   ]
  },
  {
   "cell_type": "code",
   "execution_count": 12,
   "id": "looking-scotland",
   "metadata": {
    "ExecuteTime": {
     "end_time": "2021-05-23T01:41:48.065760Z",
     "start_time": "2021-05-23T01:41:41.846504Z"
    }
   },
   "outputs": [
    {
     "name": "stdout",
     "output_type": "stream",
     "text": [
      "3\n",
      "1 1\n",
      "2 2\n",
      "3 3\n",
      "1 0 0 0 0 0 0 0 0 0 0 0 0 0 0 0 0 0 0 \n",
      "0 1 0 0 0 0 0 0 0 0 0 0 0 0 0 0 0 0 0 \n",
      "0 0 1 0 0 0 0 0 0 0 0 0 0 0 0 0 0 0 0 \n",
      "0 0 0 0 0 0 0 0 0 0 0 0 0 0 0 0 0 0 0 \n",
      "0 0 0 0 0 0 0 0 0 0 0 0 0 0 0 0 0 0 0 \n",
      "0 0 0 0 0 0 0 0 0 0 0 0 0 0 0 0 0 0 0 \n",
      "0 0 0 0 0 0 0 0 0 0 0 0 0 0 0 0 0 0 0 \n",
      "0 0 0 0 0 0 0 0 0 0 0 0 0 0 0 0 0 0 0 \n",
      "0 0 0 0 0 0 0 0 0 0 0 0 0 0 0 0 0 0 0 \n",
      "0 0 0 0 0 0 0 0 0 0 0 0 0 0 0 0 0 0 0 \n",
      "0 0 0 0 0 0 0 0 0 0 0 0 0 0 0 0 0 0 0 \n",
      "0 0 0 0 0 0 0 0 0 0 0 0 0 0 0 0 0 0 0 \n",
      "0 0 0 0 0 0 0 0 0 0 0 0 0 0 0 0 0 0 0 \n",
      "0 0 0 0 0 0 0 0 0 0 0 0 0 0 0 0 0 0 0 \n",
      "0 0 0 0 0 0 0 0 0 0 0 0 0 0 0 0 0 0 0 \n",
      "0 0 0 0 0 0 0 0 0 0 0 0 0 0 0 0 0 0 0 \n",
      "0 0 0 0 0 0 0 0 0 0 0 0 0 0 0 0 0 0 0 \n",
      "0 0 0 0 0 0 0 0 0 0 0 0 0 0 0 0 0 0 0 \n",
      "0 0 0 0 0 0 0 0 0 0 0 0 0 0 0 0 0 0 0 \n",
      "time: 6.21 s (started: 2021-05-23 10:41:41 +09:00)\n"
     ]
    }
   ],
   "source": [
    "d=[]\n",
    "for i in range(19):\n",
    "    d.append([])\n",
    "    for j in range(19):\n",
    "        d[i].append(int(0))\n",
    "        \n",
    "n = int(input())\n",
    "stone = []\n",
    "for i in range(n):\n",
    "    x, y = input().split()\n",
    "    x, y = int(x), int(y)\n",
    "    stone.append([x,y])\n",
    "    \n",
    "for i in range(n):\n",
    "    d[stone[i][0]-1][stone[i][1]-1]=+1\n",
    "    \n",
    "for i in range(19):\n",
    "    for j in range(19):\n",
    "        print(d[i][j], end=\" \")\n",
    "    print() # 줄 바꿈"
   ]
  },
  {
   "cell_type": "code",
   "execution_count": null,
   "id": "usual-republic",
   "metadata": {},
   "outputs": [],
   "source": [
    "# 95 예시 답안\n",
    "d=[]\n",
    "for i in range(20) :\n",
    "    d.append([])\n",
    "    for j in range(20) : \n",
    "        d[i].append(0)\n",
    "\n",
    "n = int(input())\n",
    "for i in range(n) :\n",
    "    x, y = input().split()\n",
    "    d[int(x)][int(y)] = 1\n",
    "\n",
    "for i in range(1, 20) :\n",
    "    for j in range(1, 20) : \n",
    "        print(d[i][j], end=' ')\n",
    "    print()"
   ]
  },
  {
   "cell_type": "code",
   "execution_count": 15,
   "id": "flush-verse",
   "metadata": {
    "ExecuteTime": {
     "end_time": "2021-05-23T02:16:39.922290Z",
     "start_time": "2021-05-23T02:16:28.029963Z"
    }
   },
   "outputs": [
    {
     "name": "stdout",
     "output_type": "stream",
     "text": [
      "0 0 0 0 0 0 0 0 0 1 0 1 0 0 0 0 0 0 0\n",
      "0 0 0 0 0 0 0 0 0 1 0 1 0 0 0 0 0 0 0\n",
      "0 0 0 0 0 0 0 0 0 1 0 1 0 0 0 0 0 0 0\n",
      "[[['0', '0', '0', '0', '0', '0', '0', '0', '0', '1', '0', '1', '0', '0', '0', '0', '0', '0', '0']], [['0', '0', '0', '0', '0', '0', '0', '0', '0', '1', '0', '1', '0', '0', '0', '0', '0', '0', '0']], [['0', '0', '0', '0', '0', '0', '0', '0', '0', '1', '0', '1', '0', '0', '0', '0', '0', '0', '0']]]\n",
      "time: 11.9 s (started: 2021-05-23 11:16:28 +09:00)\n"
     ]
    }
   ],
   "source": [
    "d = []\n",
    "for i in range(3):\n",
    "    row = input().split()\n",
    "    d.append(row)\n",
    "print(d)"
   ]
  },
  {
   "cell_type": "code",
   "execution_count": 18,
   "id": "immune-circus",
   "metadata": {
    "ExecuteTime": {
     "end_time": "2021-05-23T03:58:10.793289Z",
     "start_time": "2021-05-23T03:57:17.291185Z"
    }
   },
   "outputs": [
    {
     "name": "stdout",
     "output_type": "stream",
     "text": [
      "0 0 0 0 0 0 0 0 0 1 0 1 0 0 0 0 0 0 0\n",
      "0 0 0 0 0 0 0 0 0 1 0 1 0 0 0 0 0 0 0\n",
      "0 0 0 0 0 0 0 0 0 1 0 1 0 0 0 0 0 0 0\n",
      "0 0 0 0 0 0 0 0 0 1 0 1 0 0 0 0 0 0 0\n",
      "0 0 0 0 0 0 0 0 0 1 0 1 0 0 0 0 0 0 0\n",
      "0 0 0 0 0 0 0 0 0 1 0 1 0 0 0 0 0 0 0\n",
      "0 0 0 0 0 0 0 0 0 1 0 1 0 0 0 0 0 0 0\n",
      "0 0 0 0 0 0 0 0 0 1 0 1 0 0 0 0 0 0 0\n",
      "0 0 0 0 0 0 0 0 0 1 0 1 0 0 0 0 0 0 0\n",
      "1 1 1 1 1 1 1 1 1 1 1 1 1 1 1 1 1 1 1\n",
      "0 0 0 0 0 0 0 0 0 1 0 1 0 0 0 0 0 0 0\n",
      "1 1 1 1 1 1 1 1 1 1 1 1 1 1 1 1 1 1 1\n",
      "0 0 0 0 0 0 0 0 0 1 0 1 0 0 0 0 0 0 0\n",
      "0 0 0 0 0 0 0 0 0 1 0 1 0 0 0 0 0 0 0\n",
      "0 0 0 0 0 0 0 0 0 1 0 1 0 0 0 0 0 0 0\n",
      "0 0 0 0 0 0 0 0 0 1 0 1 0 0 0 0 0 0 0\n",
      "0 0 0 0 0 0 0 0 0 1 0 1 0 0 0 0 0 0 0\n",
      "0 0 0 0 0 0 0 0 0 1 0 1 0 0 0 0 0 0 0\n",
      "0 0 0 0 0 0 0 0 0 1 0 1 0 0 0 0 0 0 0\n",
      "2\n",
      "10 10\n",
      "12 12\n",
      "[['0', '0', '0', '0', '0', '0', '0', '0', '0', '1', '0', '1', '0', '0', '0', '0', '0', '0', '0'], ['0', '0', '0', '0', '0', '0', '0', '0', '0', '1', '0', '1', '0', '0', '0', '0', '0', '0', '0'], ['0', '0', '0', '0', '0', '0', '0', '0', '0', '1', '0', '1', '0', '0', '0', '0', '0', '0', '0'], ['0', '0', '0', '0', '0', '0', '0', '0', '0', '1', '0', '1', '0', '0', '0', '0', '0', '0', '0'], ['0', '0', '0', '0', '0', '0', '0', '0', '0', '1', '0', '1', '0', '0', '0', '0', '0', '0', '0'], ['0', '0', '0', '0', '0', '0', '0', '0', '0', '1', '0', '1', '0', '0', '0', '0', '0', '0', '0'], ['0', '0', '0', '0', '0', '0', '0', '0', '0', '1', '0', '1', '0', '0', '0', '0', '0', '0', '0'], ['0', '0', '0', '0', '0', '0', '0', '0', '0', '1', '0', '1', '0', '0', '0', '0', '0', '0', '0'], ['0', '0', '0', '0', '0', '0', '0', '0', '0', '1', '0', '1', '0', '0', '0', '0', '0', '0', '0'], ['1', '1', '1', '1', '1', '1', '1', '1', '1', '1', '1', '1', '1', '1', '1', '1', '1', '1', '1'], ['0', '0', '0', '0', '0', '0', '0', '0', '0', '1', '0', '1', '0', '0', '0', '0', '0', '0', '0'], ['1', '1', '1', '1', '1', '1', '1', '1', '1', '1', '1', '1', '1', '1', '1', '1', '1', '1', '1'], ['0', '0', '0', '0', '0', '0', '0', '0', '0', '1', '0', '1', '0', '0', '0', '0', '0', '0', '0'], ['0', '0', '0', '0', '0', '0', '0', '0', '0', '1', '0', '1', '0', '0', '0', '0', '0', '0', '0'], ['0', '0', '0', '0', '0', '0', '0', '0', '0', '1', '0', '1', '0', '0', '0', '0', '0', '0', '0'], ['0', '0', '0', '0', '0', '0', '0', '0', '0', '1', '0', '1', '0', '0', '0', '0', '0', '0', '0'], ['0', '0', '0', '0', '0', '0', '0', '0', '0', '1', '0', '1', '0', '0', '0', '0', '0', '0', '0'], ['0', '0', '0', '0', '0', '0', '0', '0', '0', '1', '0', '1', '0', '0', '0', '0', '0', '0', '0'], ['0', '0', '0', '0', '0', '0', '0', '0', '0', '1', '0', '1', '0', '0', '0', '0', '0', '0', '0']]\n",
      "time: 53.5 s (started: 2021-05-23 12:57:17 +09:00)\n"
     ]
    }
   ],
   "source": [
    "# 96 십자 뒤집기\n",
    "d = []\n",
    "for i in range(19):\n",
    "    row = input().split() # list로 들어온다\n",
    "    d.append(row)\n",
    "n = int(input())\n",
    "coor = []\n",
    "for i in range(n):\n",
    "    a, b = input().split()\n",
    "    a, b = int(a), int(b)\n",
    "    coor.append([a,b])\n",
    "    \n",
    "for i in range(n):\n",
    "    for j in range(19):\n",
    "        if d[coor[i][0]][j] == 0:\n",
    "            d[coor[i][0]][j] = 1\n",
    "        elif d[coor[i][0]][j] == 1:\n",
    "            d[coor[i][0]][j] = 0\n",
    "            \n",
    "        elif d[j][coor[i][1]] == 0:\n",
    "            d[j][coor[i][1]] = 1\n",
    "        elif d[j][coor[i][1]] == 1:\n",
    "            d[j][coor[i][1]] = 0\n",
    "print(d)"
   ]
  },
  {
   "cell_type": "code",
   "execution_count": 29,
   "id": "coordinated-individual",
   "metadata": {
    "ExecuteTime": {
     "end_time": "2021-05-23T04:16:40.953272Z",
     "start_time": "2021-05-23T04:16:18.871160Z"
    }
   },
   "outputs": [
    {
     "name": "stdout",
     "output_type": "stream",
     "text": [
      "0 0 0 0 0 0 0 0 0 1 0 1 0 0 0 0 0 0 0\n",
      "0 0 0 0 0 0 0 0 0 1 0 1 0 0 0 0 0 0 0\n",
      "0 0 0 0 0 0 0 0 0 1 0 1 0 0 0 0 0 0 0\n",
      "0 0 0 0 0 0 0 0 0 1 0 1 0 0 0 0 0 0 0\n",
      "0 0 0 0 0 0 0 0 0 1 0 1 0 0 0 0 0 0 0\n",
      "0 0 0 0 0 0 0 0 0 1 0 1 0 0 0 0 0 0 0\n",
      "0 0 0 0 0 0 0 0 0 1 0 1 0 0 0 0 0 0 0\n",
      "0 0 0 0 0 0 0 0 0 1 0 1 0 0 0 0 0 0 0\n",
      "0 0 0 0 0 0 0 0 0 1 0 1 0 0 0 0 0 0 0\n",
      "0 0 0 0 0 0 0 0 0 1 0 1 0 0 0 0 0 0 0\n",
      "0 0 0 0 0 0 0 0 0 1 0 1 0 0 0 0 0 0 0\n",
      "0 0 0 0 0 0 0 0 0 1 0 1 0 0 0 0 0 0 0\n",
      "0 0 0 0 0 0 0 0 0 1 0 1 0 0 0 0 0 0 0\n",
      "0 0 0 0 0 0 0 0 0 1 0 1 0 0 0 0 0 0 0\n",
      "0 0 0 0 0 0 0 0 0 1 0 1 0 0 0 0 0 0 0\n",
      "0 0 0 0 0 0 0 0 0 1 0 1 0 0 0 0 0 0 0\n",
      "0 0 0 0 0 0 0 0 0 1 0 1 0 0 0 0 0 0 0\n",
      "0 0 0 0 0 0 0 0 0 1 0 1 0 0 0 0 0 0 0\n",
      "0 0 0 0 0 0 0 0 0 1 0 1 0 0 0 0 0 0 0\n",
      "1\n",
      "10 10\n",
      "0 0 0 0 0 0 0 0 0 0 0 1 0 0 0 0 0 0 0 \n",
      "0 0 0 0 0 0 0 0 0 0 0 1 0 0 0 0 0 0 0 \n",
      "0 0 0 0 0 0 0 0 0 0 0 1 0 0 0 0 0 0 0 \n",
      "0 0 0 0 0 0 0 0 0 0 0 1 0 0 0 0 0 0 0 \n",
      "0 0 0 0 0 0 0 0 0 0 0 1 0 0 0 0 0 0 0 \n",
      "0 0 0 0 0 0 0 0 0 0 0 1 0 0 0 0 0 0 0 \n",
      "0 0 0 0 0 0 0 0 0 0 0 1 0 0 0 0 0 0 0 \n",
      "0 0 0 0 0 0 0 0 0 0 0 1 0 0 0 0 0 0 0 \n",
      "0 0 0 0 0 0 0 0 0 0 0 1 0 0 0 0 0 0 0 \n",
      "0 0 0 0 0 0 0 0 0 1 0 0 0 0 0 0 0 0 0 \n",
      "0 0 0 0 0 0 0 0 0 0 0 1 0 0 0 0 0 0 0 \n",
      "0 0 0 0 0 0 0 0 0 0 0 1 0 0 0 0 0 0 0 \n",
      "0 0 0 0 0 0 0 0 0 0 0 1 0 0 0 0 0 0 0 \n",
      "0 0 0 0 0 0 0 0 0 0 0 1 0 0 0 0 0 0 0 \n",
      "0 0 0 0 0 0 0 0 0 0 0 1 0 0 0 0 0 0 0 \n",
      "0 0 0 0 0 0 0 0 0 0 0 1 0 0 0 0 0 0 0 \n",
      "0 0 0 0 0 0 0 0 0 0 0 1 0 0 0 0 0 0 0 \n",
      "0 0 0 0 0 0 0 0 0 0 0 1 0 0 0 0 0 0 0 \n",
      "0 0 0 0 0 0 0 0 0 0 0 1 0 0 0 0 0 0 0 \n",
      "time: 22.1 s (started: 2021-05-23 13:16:18 +09:00)\n"
     ]
    }
   ],
   "source": [
    "# 96 십자 뒤집기\n",
    "d = []\n",
    "for i in range(19):\n",
    "    row = input().split() # list로 들어온다\n",
    "    d.append(row)\n",
    "n = int(input())\n",
    "coor = []\n",
    "for i in range(n):\n",
    "    a, b = input().split()\n",
    "    a, b = int(a), int(b)\n",
    "    coor.append([a,b])\n",
    "    \n",
    "for i in range(n):\n",
    "    for j in range(19):\n",
    "        if d[coor[i][0]-1][j] == 0:\n",
    "            d[coor[i][0]-1][j] = 1\n",
    "        else:\n",
    "            d[coor[i][0]-1][j] = 0\n",
    "\n",
    "for i in range(n):\n",
    "               \n",
    "        if d[j][coor[i][1]-1] == 0:\n",
    "            d[j][coor[i][1]-1] = 1\n",
    "        elif d[j][coor[i][1]-1] == 1:\n",
    "            d[j][coor[i][1]-1] = 0\n",
    "            \n",
    "for i in range(19):\n",
    "    for j in range(19):\n",
    "        print(d[i][j], end=' ')\n",
    "    print()"
   ]
  },
  {
   "cell_type": "code",
   "execution_count": 26,
   "id": "regional-copyright",
   "metadata": {
    "ExecuteTime": {
     "end_time": "2021-05-23T04:15:14.318017Z",
     "start_time": "2021-05-23T04:15:14.307907Z"
    }
   },
   "outputs": [
    {
     "data": {
      "text/plain": [
       "[1, 0, 0, 0, 1]"
      ]
     },
     "execution_count": 26,
     "metadata": {},
     "output_type": "execute_result"
    },
    {
     "name": "stdout",
     "output_type": "stream",
     "text": [
      "time: 4.9 ms (started: 2021-05-23 13:15:14 +09:00)\n"
     ]
    }
   ],
   "source": [
    "a=[0,1,1,1,0]\n",
    "\n",
    "for i in range(len(a))0 0 0 0 0 0 0 0 0 1 0 1 0 0 0 0 0 0 0:\n",
    "    if a[i] == 0:\n",
    "        a[i] = 1\n",
    "    else:\n",
    "        a[i] = 0\n",
    "        \n",
    "    and\n",
    "    if \n",
    "    \n",
    "a"
   ]
  },
  {
   "cell_type": "code",
   "execution_count": 31,
   "id": "detailed-surgery",
   "metadata": {
    "ExecuteTime": {
     "end_time": "2021-05-23T05:33:02.584533Z",
     "start_time": "2021-05-23T05:32:35.948554Z"
    }
   },
   "outputs": [
    {
     "name": "stdout",
     "output_type": "stream",
     "text": [
      "0 0 0 0 0 0 0 0 0 0 0 0 0 0 0 0 0 0 0\n",
      "0 0 0 0 0 0 0 0 0 0 0 0 0 0 0 0 0 0 0\n",
      "0 0 0 0 0 0 0 0 0 0 0 0 0 0 0 0 0 0 0\n",
      "0 0 0 0 0 0 0 0 0 0 0 0 0 0 0 0 0 0 0\n",
      "0 0 0 0 0 0 0 0 0 0 0 0 0 0 0 0 0 0 0\n",
      "0 0 0 0 0 0 0 0 0 0 0 0 0 0 0 0 0 0 0\n",
      "0 0 0 0 0 0 0 0 0 0 0 0 0 0 0 0 0 0 0\n",
      "0 0 0 0 0 0 0 0 0 0 0 0 0 0 0 0 0 0 0\n",
      "0 0 0 0 0 0 0 0 0 0 0 0 0 0 0 0 0 0 0\n",
      "0 0 0 0 0 0 0 0 0 0 0 0 0 0 0 0 0 0 0\n",
      "0 0 0 0 0 0 0 0 0 0 0 0 0 0 0 0 0 0 0\n",
      "0 0 0 0 0 0 0 0 0 0 0 0 0 0 0 0 0 0 0\n",
      "0 0 0 0 0 0 0 0 0 0 0 0 0 0 0 0 0 0 0\n",
      "0 0 0 0 0 0 0 0 0 0 0 0 0 0 0 0 0 0 0\n",
      "0 0 0 0 0 0 0 0 0 0 0 0 0 0 0 0 0 0 0\n",
      "0 0 0 0 0 0 0 0 0 0 0 0 0 0 0 0 0 0 0\n",
      "0 0 0 0 0 0 0 0 0 0 0 0 0 0 0 0 0 0 0\n",
      "0 0 0 0 0 0 0 0 0 0 0 0 0 0 0 0 0 0 0\n",
      "0 0 0 0 0 0 0 0 0 0 0 0 0 0 0 0 0 0 0\n",
      "2\n",
      "1 1\n",
      "19 19\n",
      "0 0 0 0 0 0 0 0 0 0 0 0 0 0 0 0 0 0 0 \n",
      "0 0 0 0 0 0 0 0 0 0 0 0 0 0 0 0 0 0 0 \n",
      "0 0 0 0 0 0 0 0 0 0 0 0 0 0 0 0 0 0 0 \n",
      "0 0 0 0 0 0 0 0 0 0 0 0 0 0 0 0 0 0 0 \n",
      "0 0 0 0 0 0 0 0 0 0 0 0 0 0 0 0 0 0 0 \n",
      "0 0 0 0 0 0 0 0 0 0 0 0 0 0 0 0 0 0 0 \n",
      "0 0 0 0 0 0 0 0 0 0 0 0 0 0 0 0 0 0 0 \n",
      "0 0 0 0 0 0 0 0 0 0 0 0 0 0 0 0 0 0 0 \n",
      "0 0 0 0 0 0 0 0 0 0 0 0 0 0 0 0 0 0 0 \n",
      "0 0 0 0 0 0 0 0 0 0 0 0 0 0 0 0 0 0 0 \n",
      "0 0 0 0 0 0 0 0 0 0 0 0 0 0 0 0 0 0 0 \n",
      "0 0 0 0 0 0 0 0 0 0 0 0 0 0 0 0 0 0 0 \n",
      "0 0 0 0 0 0 0 0 0 0 0 0 0 0 0 0 0 0 0 \n",
      "0 0 0 0 0 0 0 0 0 0 0 0 0 0 0 0 0 0 0 \n",
      "0 0 0 0 0 0 0 0 0 0 0 0 0 0 0 0 0 0 0 \n",
      "0 0 0 0 0 0 0 0 0 0 0 0 0 0 0 0 0 0 0 \n",
      "0 0 0 0 0 0 0 0 0 0 0 0 0 0 0 0 0 0 0 \n",
      "0 0 0 0 0 0 0 0 0 0 0 0 0 0 0 0 0 0 0 \n",
      "0 0 0 0 0 0 0 0 0 0 0 0 0 0 0 0 0 0 0 \n",
      "time: 26.6 s (started: 2021-05-23 14:32:35 +09:00)\n"
     ]
    }
   ],
   "source": [
    "# 96 십자 뒤집기\n",
    "d = []\n",
    "for i in range(19):\n",
    "    row = input().split() # list로 들어온다\n",
    "    d.append(row)\n",
    "n = int(input())\n",
    "\n",
    "coor = []\n",
    "for i in range(n):\n",
    "    a, b = input().split()\n",
    "    a, b = int(a), int(b)\n",
    "    coor.append([a,b])\n",
    "    \n",
    "for i in range(n):\n",
    "    for j in range(19):\n",
    "        if d[j][coor[i][1]-1] == 0:\n",
    "            d[j][coor[i][1]-1] = 1\n",
    "        else:\n",
    "            d[j][coor[i][1]-1] = 0\n",
    "            \n",
    "#     for k in range(19):\n",
    "#         if d[coor[i][0]-1][k] == 0:\n",
    "#             d[coor[i][0]-1][k] = 1\n",
    "#         else:\n",
    "#             d[coor[i][0]-1][k] = 0\n",
    "            \n",
    "for i in range(19):\n",
    "    for j in range(19):\n",
    "        print(d[i][j], end=' ')\n",
    "    print()"
   ]
  },
  {
   "cell_type": "code",
   "execution_count": null,
   "id": "assisted-kelly",
   "metadata": {},
   "outputs": [],
   "source": [
    "d = []\n",
    "for i in range(19):\n",
    "    row = input().split() # list로 들어온다\n",
    "    d.append(row)\n",
    "n = int(input())\n",
    "\n",
    "for i in range(n) :\n",
    "    x,y=input().split()\n",
    "    for j in range(1, 20) :\n",
    "        if d[j][int(y)]==0 :\n",
    "            d[j][int(y)]=1\n",
    "        else :\n",
    "            d[j][int(y)]=0\n",
    "\n",
    "        if d[int(x)][j]==0 :\n",
    "            d[int(x)][j]=1\n",
    "        else :\n",
    "            d[int(x)][j]=0"
   ]
  },
  {
   "cell_type": "code",
   "execution_count": 32,
   "id": "sufficient-sustainability",
   "metadata": {
    "ExecuteTime": {
     "end_time": "2021-05-23T05:38:04.927957Z",
     "start_time": "2021-05-23T05:38:00.221100Z"
    }
   },
   "outputs": [
    {
     "ename": "KeyboardInterrupt",
     "evalue": "Interrupted by user",
     "output_type": "error",
     "traceback": [
      "\u001b[0;31m---------------------------------------------------------------------------\u001b[0m",
      "\u001b[0;31mKeyboardInterrupt\u001b[0m                         Traceback (most recent call last)",
      "\u001b[0;32m<ipython-input-32-9bf814ba1031>\u001b[0m in \u001b[0;36m<module>\u001b[0;34m\u001b[0m\n\u001b[1;32m      2\u001b[0m \u001b[0md\u001b[0m \u001b[0;34m=\u001b[0m \u001b[0;34m[\u001b[0m\u001b[0;34m]\u001b[0m\u001b[0;34m\u001b[0m\u001b[0;34m\u001b[0m\u001b[0m\n\u001b[1;32m      3\u001b[0m \u001b[0;32mfor\u001b[0m \u001b[0mi\u001b[0m \u001b[0;32min\u001b[0m \u001b[0mrange\u001b[0m\u001b[0;34m(\u001b[0m\u001b[0;36m19\u001b[0m\u001b[0;34m)\u001b[0m\u001b[0;34m:\u001b[0m\u001b[0;34m\u001b[0m\u001b[0;34m\u001b[0m\u001b[0m\n\u001b[0;32m----> 4\u001b[0;31m     \u001b[0mrow\u001b[0m \u001b[0;34m=\u001b[0m \u001b[0minput\u001b[0m\u001b[0;34m(\u001b[0m\u001b[0;34m)\u001b[0m\u001b[0;34m.\u001b[0m\u001b[0msplit\u001b[0m\u001b[0;34m(\u001b[0m\u001b[0;34m)\u001b[0m \u001b[0;31m# list로 들어온다\u001b[0m\u001b[0;34m\u001b[0m\u001b[0;34m\u001b[0m\u001b[0m\n\u001b[0m\u001b[1;32m      5\u001b[0m     \u001b[0md\u001b[0m\u001b[0;34m.\u001b[0m\u001b[0mappend\u001b[0m\u001b[0;34m(\u001b[0m\u001b[0mrow\u001b[0m\u001b[0;34m)\u001b[0m\u001b[0;34m\u001b[0m\u001b[0;34m\u001b[0m\u001b[0m\n\u001b[1;32m      6\u001b[0m \u001b[0mn\u001b[0m \u001b[0;34m=\u001b[0m \u001b[0mint\u001b[0m\u001b[0;34m(\u001b[0m\u001b[0minput\u001b[0m\u001b[0;34m(\u001b[0m\u001b[0;34m)\u001b[0m\u001b[0;34m)\u001b[0m\u001b[0;34m\u001b[0m\u001b[0;34m\u001b[0m\u001b[0m\n",
      "\u001b[0;32m~/anaconda3/envs/aiffel/lib/python3.7/site-packages/ipykernel/kernelbase.py\u001b[0m in \u001b[0;36mraw_input\u001b[0;34m(self, prompt)\u001b[0m\n\u001b[1;32m    861\u001b[0m             \u001b[0mself\u001b[0m\u001b[0;34m.\u001b[0m\u001b[0m_parent_ident\u001b[0m\u001b[0;34m,\u001b[0m\u001b[0;34m\u001b[0m\u001b[0;34m\u001b[0m\u001b[0m\n\u001b[1;32m    862\u001b[0m             \u001b[0mself\u001b[0m\u001b[0;34m.\u001b[0m\u001b[0m_parent_header\u001b[0m\u001b[0;34m,\u001b[0m\u001b[0;34m\u001b[0m\u001b[0;34m\u001b[0m\u001b[0m\n\u001b[0;32m--> 863\u001b[0;31m             \u001b[0mpassword\u001b[0m\u001b[0;34m=\u001b[0m\u001b[0;32mFalse\u001b[0m\u001b[0;34m,\u001b[0m\u001b[0;34m\u001b[0m\u001b[0;34m\u001b[0m\u001b[0m\n\u001b[0m\u001b[1;32m    864\u001b[0m         )\n\u001b[1;32m    865\u001b[0m \u001b[0;34m\u001b[0m\u001b[0m\n",
      "\u001b[0;32m~/anaconda3/envs/aiffel/lib/python3.7/site-packages/ipykernel/kernelbase.py\u001b[0m in \u001b[0;36m_input_request\u001b[0;34m(self, prompt, ident, parent, password)\u001b[0m\n\u001b[1;32m    902\u001b[0m             \u001b[0;32mexcept\u001b[0m \u001b[0mKeyboardInterrupt\u001b[0m\u001b[0;34m:\u001b[0m\u001b[0;34m\u001b[0m\u001b[0;34m\u001b[0m\u001b[0m\n\u001b[1;32m    903\u001b[0m                 \u001b[0;31m# re-raise KeyboardInterrupt, to truncate traceback\u001b[0m\u001b[0;34m\u001b[0m\u001b[0;34m\u001b[0m\u001b[0;34m\u001b[0m\u001b[0m\n\u001b[0;32m--> 904\u001b[0;31m                 \u001b[0;32mraise\u001b[0m \u001b[0mKeyboardInterrupt\u001b[0m\u001b[0;34m(\u001b[0m\u001b[0;34m\"Interrupted by user\"\u001b[0m\u001b[0;34m)\u001b[0m \u001b[0;32mfrom\u001b[0m \u001b[0;32mNone\u001b[0m\u001b[0;34m\u001b[0m\u001b[0;34m\u001b[0m\u001b[0m\n\u001b[0m\u001b[1;32m    905\u001b[0m             \u001b[0;32mexcept\u001b[0m \u001b[0mException\u001b[0m \u001b[0;32mas\u001b[0m \u001b[0me\u001b[0m\u001b[0;34m:\u001b[0m\u001b[0;34m\u001b[0m\u001b[0;34m\u001b[0m\u001b[0m\n\u001b[1;32m    906\u001b[0m                 \u001b[0mself\u001b[0m\u001b[0;34m.\u001b[0m\u001b[0mlog\u001b[0m\u001b[0;34m.\u001b[0m\u001b[0mwarning\u001b[0m\u001b[0;34m(\u001b[0m\u001b[0;34m\"Invalid Message:\"\u001b[0m\u001b[0;34m,\u001b[0m \u001b[0mexc_info\u001b[0m\u001b[0;34m=\u001b[0m\u001b[0;32mTrue\u001b[0m\u001b[0;34m)\u001b[0m\u001b[0;34m\u001b[0m\u001b[0;34m\u001b[0m\u001b[0m\n",
      "\u001b[0;31mKeyboardInterrupt\u001b[0m: Interrupted by user"
     ]
    },
    {
     "name": "stdout",
     "output_type": "stream",
     "text": [
      "time: 4.7 s (started: 2021-05-23 14:38:00 +09:00)\n"
     ]
    }
   ],
   "source": [
    "# 96 십자 뒤집기\n",
    "d = []\n",
    "for i in range(19):\n",
    "    row = input().split() # list, str 로 들어온다\n",
    "    d.append(row)\n",
    "n = int(input())\n",
    "\n",
    "for i in range(n):\n",
    "    a, b = input().split()\n",
    "    a, b = int(a), int(b)\n",
    "    \n",
    "    for j in range(19):\n",
    "        if d[j][b-1] == 0:\n",
    "            d[j][b-1] = 1\n",
    "        else:\n",
    "            d[j][b-1] = 0\n",
    "\n",
    "        if d[a-1][j] == 0:\n",
    "            d[a-1][j] = 1\n",
    "        else:\n",
    "            d[a-1][j] = 0\n",
    "            \n",
    "for i in range(19):\n",
    "    for j in range(19):\n",
    "        print(d[i][j], end=' ')\n",
    "    print()"
   ]
  },
  {
   "cell_type": "code",
   "execution_count": 34,
   "id": "premier-boost",
   "metadata": {
    "ExecuteTime": {
     "end_time": "2021-05-23T05:41:14.285291Z",
     "start_time": "2021-05-23T05:41:11.774419Z"
    }
   },
   "outputs": [
    {
     "name": "stdout",
     "output_type": "stream",
     "text": [
      "0 1 2 3 4\n",
      "<class 'str'>\n",
      "time: 2.51 s (started: 2021-05-23 14:41:11 +09:00)\n"
     ]
    }
   ],
   "source": [
    "d = input().split()\n",
    "\n",
    "print(type(d[1]))"
   ]
  },
  {
   "cell_type": "code",
   "execution_count": null,
   "id": "faced-earth",
   "metadata": {},
   "outputs": [],
   "source": [
    "d = []\n",
    "for i in range(1,20):\n",
    "    row = input().split() # list, str 로 들어온다\n",
    "    d.append(row)\n",
    "n = int(input())\n",
    "\n",
    "for i in range(n) :\n",
    "    x,y=input().split()\n",
    "    for j in range(1, 20) :\n",
    "        if d[j][int(y)]==0 :\n",
    "            d[j][int(y)]=1\n",
    "        else :\n",
    "            d[j][int(y)]=0\n",
    "\n",
    "        if d[int(x)][j]==0 :\n",
    "            d[int(x)][j]=1\n",
    "        else :\n",
    "            d[int(x)][j]=0\n",
    "            \n",
    "for i in range(1,20):\n",
    "    for j in range(1,20):\n",
    "        print(d[i][j], end=' ')\n",
    "    print()"
   ]
  },
  {
   "cell_type": "code",
   "execution_count": 35,
   "id": "accredited-agriculture",
   "metadata": {
    "ExecuteTime": {
     "end_time": "2021-05-23T13:02:05.801618Z",
     "start_time": "2021-05-23T13:02:05.796094Z"
    }
   },
   "outputs": [
    {
     "data": {
      "text/plain": [
       "[[], [], [], [], [], [], [], [], [], [], [], [], [], [], [], [], [], [], []]"
      ]
     },
     "execution_count": 35,
     "metadata": {},
     "output_type": "execute_result"
    },
    {
     "name": "stdout",
     "output_type": "stream",
     "text": [
      "time: 2.58 ms (started: 2021-05-23 22:02:05 +09:00)\n"
     ]
    }
   ],
   "source": [
    "a = [[]*19 for _ in range(19)]\n",
    "a"
   ]
  },
  {
   "cell_type": "code",
   "execution_count": 37,
   "id": "peaceful-springfield",
   "metadata": {
    "ExecuteTime": {
     "end_time": "2021-05-23T13:02:39.738549Z",
     "start_time": "2021-05-23T13:02:19.240001Z"
    }
   },
   "outputs": [
    {
     "name": "stdout",
     "output_type": "stream",
     "text": [
      "1\n",
      "2\n",
      "3\n",
      "\n",
      "\n",
      "5\n",
      "6\n",
      "7\n",
      "8\n",
      "9\n",
      "10\n",
      "11\n",
      "12\n",
      "13\n",
      "14\n",
      "15\n",
      "16\n",
      "171\n",
      "18\n"
     ]
    },
    {
     "data": {
      "text/plain": [
       "[[1],\n",
       " [2],\n",
       " [3],\n",
       " [],\n",
       " [],\n",
       " [5],\n",
       " [6],\n",
       " [7],\n",
       " [8],\n",
       " [9],\n",
       " [10],\n",
       " [11],\n",
       " [12],\n",
       " [13],\n",
       " [14],\n",
       " [15],\n",
       " [16],\n",
       " [171],\n",
       " [18]]"
      ]
     },
     "execution_count": 37,
     "metadata": {},
     "output_type": "execute_result"
    },
    {
     "name": "stdout",
     "output_type": "stream",
     "text": [
      "time: 20.5 s (started: 2021-05-23 22:02:19 +09:00)\n"
     ]
    }
   ],
   "source": [
    "a = [[]*19 for _ in range(19)]\n",
    "for i in range(19):\n",
    "    a[i] = list(map(int, input().split()))\n",
    "a"
   ]
  },
  {
   "cell_type": "code",
   "execution_count": null,
   "id": "premier-supervisor",
   "metadata": {},
   "outputs": [],
   "source": [
    "d = [[]*19 for _ in range(19)]\n",
    "for i in range(19):\n",
    "    d[i] = list(map(int, input().split()))\n",
    "    \n",
    "n=int(input())\n",
    "\n",
    "for i in range(n) :\n",
    "    x,y=input().split()\n",
    "    for j in range(19) :\n",
    "        if d[j][int(y)-1]==0 :\n",
    "            d[j][int(y)-1]=1\n",
    "        else :\n",
    "            d[j][int(y)-1]=0\n",
    "\n",
    "        if d[int(x)-1][j]==0 :\n",
    "            d[int(x)-1][j]=1\n",
    "        else :\n",
    "            d[int(x)-1][j]=0\n",
    "            \n",
    "for i in range(19):\n",
    "    for j in range(19):\n",
    "        print(d[i][j], end=' ')\n",
    "    print()"
   ]
  },
  {
   "cell_type": "code",
   "execution_count": null,
   "id": "apparent-section",
   "metadata": {},
   "outputs": [],
   "source": [
    "# 97번 문제 설탕 과자 뽑기"
   ]
  },
  {
   "cell_type": "code",
   "execution_count": null,
   "id": "running-dover",
   "metadata": {},
   "outputs": [],
   "source": []
  },
  {
   "cell_type": "code",
   "execution_count": null,
   "id": "mature-verification",
   "metadata": {},
   "outputs": [],
   "source": []
  },
  {
   "cell_type": "code",
   "execution_count": null,
   "id": "accepted-jerusalem",
   "metadata": {},
   "outputs": [],
   "source": []
  },
  {
   "cell_type": "code",
   "execution_count": null,
   "id": "european-album",
   "metadata": {},
   "outputs": [],
   "source": []
  },
  {
   "cell_type": "code",
   "execution_count": null,
   "id": "global-jewelry",
   "metadata": {},
   "outputs": [],
   "source": []
  },
  {
   "cell_type": "code",
   "execution_count": null,
   "id": "sitting-director",
   "metadata": {},
   "outputs": [],
   "source": []
  }
 ],
 "metadata": {
  "hide_input": false,
  "kernelspec": {
   "display_name": "aiffel",
   "language": "python",
   "name": "aiffel"
  },
  "language_info": {
   "codemirror_mode": {
    "name": "ipython",
    "version": 3
   },
   "file_extension": ".py",
   "mimetype": "text/x-python",
   "name": "python",
   "nbconvert_exporter": "python",
   "pygments_lexer": "ipython3",
   "version": "3.7.9"
  },
  "toc": {
   "base_numbering": 1,
   "nav_menu": {},
   "number_sections": true,
   "sideBar": true,
   "skip_h1_title": false,
   "title_cell": "Table of Contents",
   "title_sidebar": "Contents",
   "toc_cell": false,
   "toc_position": {
    "height": "calc(100% - 180px)",
    "left": "10px",
    "top": "150px",
    "width": "165px"
   },
   "toc_section_display": true,
   "toc_window_display": true
  },
  "varInspector": {
   "cols": {
    "lenName": 16,
    "lenType": 16,
    "lenVar": 40
   },
   "kernels_config": {
    "python": {
     "delete_cmd_postfix": "",
     "delete_cmd_prefix": "del ",
     "library": "var_list.py",
     "varRefreshCmd": "print(var_dic_list())"
    },
    "r": {
     "delete_cmd_postfix": ") ",
     "delete_cmd_prefix": "rm(",
     "library": "var_list.r",
     "varRefreshCmd": "cat(var_dic_list()) "
    }
   },
   "types_to_exclude": [
    "module",
    "function",
    "builtin_function_or_method",
    "instance",
    "_Feature"
   ],
   "window_display": false
  }
 },
 "nbformat": 4,
 "nbformat_minor": 5
}
